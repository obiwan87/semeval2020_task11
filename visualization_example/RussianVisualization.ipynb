{
 "cells": [
  {
   "cell_type": "code",
   "execution_count": 81,
   "metadata": {
    "pycharm": {
     "name": "#%%\n"
    }
   },
   "outputs": [
    {
     "data": {
      "text/html": [
       "<style>\n",
       "\n",
       ".highlight {\n",
       "  border: 2px solid;\n",
       "  color: #232323;\n",
       "  margin: 4px 6px 4px 3px;\n",
       "  vertical-align: middle;\n",
       "  box-shadow: 2px 4px 20px rgba(0,0,0,0.1);\n",
       "  position: relative;\n",
       "  cursor: default;\n",
       "  min-width: 26px;\n",
       "  line-height: 22px;\n",
       "  display: inline-flex;\n",
       "}\n",
       "\n",
       ".highlight:last-child {\n",
       "  margin-right: 4px;\n",
       "}\n",
       "\n",
       ".highlight:first-child {\n",
       "  margin-left: 0;\n",
       "}\n",
       "\n",
       ".highlight,\n",
       ".highlight span {\n",
       "  transition: background-color .1s ease,\n",
       "              color .1s ease,\n",
       "              box-shadow .1s ease,\n",
       "              opacity .1s ease;\n",
       "}\n",
       "\n",
       ".highlight.short-text {\n",
       "  text-align: center;\n",
       "}\n",
       "\n",
       ".highlight__label {\n",
       "  align-items: center;\n",
       "  justify-content: center;\n",
       "  padding: 0 8px;\n",
       "  text-align: center;\n",
       "  user-select: none;\n",
       "}\n",
       "\n",
       ".highlight__label strong,\n",
       ".highlight__label span.highlight__label__secondary-label {\n",
       "  display: block;\n",
       "  font-size: 11px;\n",
       "  color: #fff;\n",
       "  -webkit-font-smoothing: subpixel-antialiased;\n",
       "  letter-spacing: 0.1em;\n",
       "}\n",
       "\n",
       ".highlight__label strong {\n",
       "  text-transform: uppercase;\n",
       "}\n",
       "\n",
       ".highlight__label span.highlight__label__secondary-label {\n",
       "  opacity: .75;\n",
       "  padding-left: 6px;\n",
       "}\n",
       "\n",
       ".highlight__content {\n",
       "  flex-wrap: wrap;\n",
       "  align-items: center;\n",
       "  padding: 2px 2px 2px 6px;\n",
       "}\n",
       "\n",
       "\n",
       ".highlight-container.highlight-container--bottom-labels .highlight.bottom {\n",
       "  margin-top: 6px;\n",
       "}\n",
       "\n",
       ".highlight.bottom {\n",
       "  display: block;\n",
       "  white-space: normal;\n",
       "}\n",
       "\n",
       ".highlight.bottom .highlight__content:after {\n",
       "  content: \" \";\n",
       "  padding-right: 3px;\n",
       "}\n",
       "\n",
       ".highlight.bottom .highlight__label {\n",
       "  line-height: 14px;\n",
       "  padding-top: 1px;\n",
       "}\n",
       "\n",
       "\n",
       ".highlight.top {\n",
       "  flex-direction: column;\n",
       "  white-space: normal;\n",
       "}\n",
       "\n",
       ".highlight.top .highlight__label {\n",
       "  min-height: 22px;\n",
       "}\n",
       "\n",
       "\n",
       ".highlight.active,\n",
       ".highlight.active span {\n",
       "  color: #fff;\n",
       "}\n",
       "\n",
       ".highlight.active .highlight:not(.active) span {\n",
       "  color: #232323;\n",
       "}\n",
       "\n",
       ".highlight.clickable {\n",
       "  cursor: pointer;\n",
       "}\n",
       "\n",
       ".highlight.clickable.clickable.selected {\n",
       "  cursor: default;\n",
       "}\n",
       "\n",
       ".highlight.clickable.clicking {\n",
       "  opacity: 0.66;\n",
       "  transition-duration: 0s;\n",
       "}\n",
       "\n",
       ".clicking .highlight,\n",
       ".clicking .highlight span,\n",
       ".clicking .highlight:before,\n",
       ".clicking .highlight:after {\n",
       "  transition-duration: 0s;\n",
       "}\n",
       "\n",
       "\n",
       ".highlight.gray {\n",
       "  background: #f2f4f6;\n",
       "}\n",
       "\n",
       ".highlight.gray,\n",
       ".highlight-arrow--gray .highlight-arrow__triangle {\n",
       "  border-color: #a0aab5;\n",
       "}\n",
       "\n",
       ".highlight.gray .highlight__label,\n",
       ".highlight-arrow--gray .highlight-arrow__stalk,\n",
       ".highlight.gray .highlight__button .highlight__button__body {\n",
       "  background-color: #a0aab5;\n",
       "}\n",
       "\n",
       ".highlight.gray.active {\n",
       "  background: #a0aab5;\n",
       "}\n",
       "\n",
       ".highlight.gray.active .highlight__label {\n",
       "  background-color: #aab3bd;\n",
       "}\n",
       "\n",
       ".highlight.gray .highlight__button svg {\n",
       "  fill: #a0aab5;\n",
       "}\n",
       "\n",
       "\n",
       "\n",
       ".highlight.blue {\n",
       "  background: #edf4fa;\n",
       "}\n",
       "\n",
       ".highlight.blue,\n",
       ".highlight-arrow--blue .highlight-arrow__triangle {\n",
       "  border-color: #4db1f7;\n",
       "}\n",
       "\n",
       ".highlight.blue > .highlight__label,\n",
       ".highlight-arrow--blue .highlight-arrow__stalk,\n",
       ".highlight.blue .highlight__button .highlight__button__body {\n",
       "  background-color: #4db1f7;\n",
       "}\n",
       "\n",
       ".highlight.blue.active {\n",
       "  background: #4db1f7;\n",
       "}\n",
       "\n",
       ".highlight.blue.active > .highlight__label {\n",
       "  background-color: #5fb9f8;\n",
       "}\n",
       "\n",
       ".highlight.blue .highlight__button svg {\n",
       "  fill: #4db1f7;\n",
       "}\n",
       "\n",
       "\n",
       ".highlight.green {\n",
       "  background: #f1f4f1;\n",
       "}\n",
       "\n",
       ".highlight.green,\n",
       ".highlight-arrow--green .highlight-arrow__triangle {\n",
       "  border-color: #90ac4e;\n",
       "}\n",
       "\n",
       ".highlight.green > .highlight__label,\n",
       ".highlight-arrow--green .highlight-arrow__stalk,\n",
       ".highlight.green .highlight__button .highlight__button__body {\n",
       "  background-color: #90ac4e;\n",
       "}\n",
       "\n",
       ".highlight.green.active {\n",
       "  background: #90ac4e;\n",
       "}\n",
       "\n",
       ".highlight.green.active > .highlight__label {\n",
       "  background-color: #9bb460;\n",
       "}\n",
       "\n",
       ".highlight.green .highlight__button svg {\n",
       "  fill: #90ac4e;\n",
       "}\n",
       "\n",
       "\n",
       ".highlight.pink {\n",
       "  background: #f4f1f4;\n",
       "}\n",
       "\n",
       ".highlight.pink,\n",
       ".highlight-arrow--pink .highlight-arrow__triangle {\n",
       "  border-color: #ce6587;\n",
       "}\n",
       "\n",
       ".highlight.pink > .highlight__label,\n",
       ".highlight-arrow--pink .highlight-arrow__stalk,\n",
       ".highlight.pink .highlight__button .highlight__button__body {\n",
       "  background-color: #ce6587;\n",
       "}\n",
       "\n",
       ".highlight.pink.active {\n",
       "  background: #ce6587;\n",
       "}\n",
       "\n",
       ".highlight.pink.active > .highlight__label {\n",
       "  background-color: #d37593;\n",
       "}\n",
       "\n",
       ".highlight.pink .highlight__button svg {\n",
       "  fill: #ce6587;\n",
       "}\n",
       "\n",
       "\n",
       ".highlight.orange {\n",
       "  background: #f2f4f4;\n",
       "}\n",
       "\n",
       ".highlight.orange,\n",
       ".highlight-arrow--orange .highlight-arrow__triangle {\n",
       "  border-color: #dd9e3e;\n",
       "}\n",
       "\n",
       ".highlight.orange > .highlight__label,\n",
       ".highlight-arrow--orange .highlight-arrow__stalk,\n",
       ".highlight.orange .highlight__button .highlight__button__body {\n",
       "  background-color: #dd9e3e;\n",
       "}\n",
       "\n",
       ".highlight.orange.active {\n",
       "  background: #dd9e3e;\n",
       "}\n",
       "\n",
       ".highlight.orange.active > .highlight__label {\n",
       "  background-color: #e0a852;\n",
       "}\n",
       "\n",
       ".highlight.orange .highlight__button svg {\n",
       "  fill: #dd9e3e;\n",
       "}\n",
       "\n",
       "\n",
       ".highlight.purple {\n",
       "  background: #f1f0f7;\n",
       "}\n",
       "\n",
       ".highlight.purple,\n",
       ".highlight-arrow--purple .highlight-arrow__triangle {\n",
       "  border-color: #9a5eba;\n",
       "}\n",
       "\n",
       ".highlight.purple > .highlight__label,\n",
       ".highlight-arrow--purple .highlight-arrow__stalk,\n",
       ".highlight.purple .highlight__button .highlight__button__body {\n",
       "  background-color: #9a5eba;\n",
       "}\n",
       "\n",
       ".highlight.purple.active {\n",
       "  background: #9a5eba;\n",
       "}\n",
       "\n",
       ".highlight.purple.active > .highlight__label {\n",
       "  background-color: #a46ec1;\n",
       "}\n",
       "\n",
       ".highlight.purple .highlight__button svg {\n",
       "  fill: #9a5eba;\n",
       "}\n",
       "\n",
       "\n",
       ".highlight.teal {\n",
       "  background: #eef4f6;\n",
       "}\n",
       "\n",
       ".highlight.teal,\n",
       ".highlight-arrow--teal .highlight-arrow__triangle {\n",
       "  border-color: #5bb1ad;\n",
       "}\n",
       "\n",
       ".highlight.teal > .highlight__label,\n",
       ".highlight-arrow--teal .highlight-arrow__stalk,\n",
       ".highlight.teal .highlight__button .highlight__button__body {\n",
       "  background-color: #5bb1ad;\n",
       "}\n",
       "\n",
       ".highlight.teal.active {\n",
       "  background: #5bb1ad;\n",
       "}\n",
       "\n",
       ".highlight.teal.active > .highlight__label {\n",
       "  background-color: #6cb9b5;\n",
       "}\n",
       "\n",
       ".highlight.teal .highlight__button svg {\n",
       "  fill: #5bb1ad;\n",
       "}\n",
       "\n",
       "\n",
       ".highlight.tan {\n",
       "  background: #f2f4f4;\n",
       "}\n",
       "\n",
       ".highlight.tan,\n",
       ".highlight-arrow--tan .highlight-arrow__triangle {\n",
       "  border-color: #b0a481;\n",
       "}\n",
       "\n",
       ".highlight.tan > .highlight__label,\n",
       ".highlight-arrow--tan .highlight-arrow__stalk,\n",
       ".highlight.tan .highlight__button .highlight__button__body {\n",
       "  background-color: #b0a481;\n",
       "}\n",
       "\n",
       ".highlight.tan.active {\n",
       "  background: #b0a481;\n",
       "}\n",
       "\n",
       ".highlight.tan.active > .highlight__label {\n",
       "  background-color: #b8ad8e;\n",
       "}\n",
       "\n",
       ".highlight.tan .highlight__button svg {\n",
       "  fill: #b0a481;\n",
       "}\n",
       "\n",
       "\n",
       ".highlight.red {\n",
       "  background: #f5eef0;\n",
       "}\n",
       "\n",
       ".highlight.red,\n",
       ".highlight-arrow--red .highlight-arrow__triangle {\n",
       "  border-color: #df3838;\n",
       "}\n",
       "\n",
       ".highlight.red > .highlight__label,\n",
       ".highlight-arrow--red .highlight-arrow__stalk,\n",
       ".highlight.red .highlight__button .highlight__button__body {\n",
       "  background-color: #df3838;\n",
       "}\n",
       "\n",
       ".highlight.red.active {\n",
       "  background: #df3838;\n",
       "}\n",
       "\n",
       ".highlight.red.active > .highlight__label {\n",
       "  background-color: #e24c4c;\n",
       "}\n",
       "\n",
       ".highlight.red .highlight__button svg {\n",
       "  fill: #df3838;\n",
       "}\n",
       "\n",
       "\n",
       ".highlight.cobalt {\n",
       "  background: #eef0f5;\n",
       "}\n",
       "\n",
       ".highlight.cobalt,\n",
       ".highlight-arrow--cobalt .highlight-arrow__triangle {\n",
       "  border-color: #5f5b97;\n",
       "}\n",
       "\n",
       ".highlight.cobalt > .highlight__label,\n",
       ".highlight-arrow--cobalt .highlight-arrow__stalk,\n",
       ".highlight.cobalt .highlight__button .highlight__button__body {\n",
       "  background-color: #5f5b97;\n",
       "}\n",
       "\n",
       ".highlight.cobalt.active {\n",
       "  background: #5f5b97;\n",
       "}\n",
       "\n",
       ".highlight.cobalt.active > .highlight__label {\n",
       "  background-color: #6f6ca2;\n",
       "}\n",
       "\n",
       ".highlight.cobalt .highlight__button svg {\n",
       "  fill: #5f5b97;\n",
       "}\n",
       "\n",
       "\n",
       ".highlight.brown {\n",
       "  background: #f2f4f6;\n",
       "}\n",
       "\n",
       ".highlight.brown,\n",
       ".highlight-arrow--brown .highlight-arrow__triangle {\n",
       "  border-color: #6a4e3d;\n",
       "}\n",
       "\n",
       ".highlight.brown > .highlight__label,\n",
       ".highlight-arrow--brown .highlight-arrow__stalk,\n",
       ".highlight.brown .highlight__button .highlight__button__body {\n",
       "  background-color: #6a4e3d;\n",
       "}\n",
       "\n",
       ".highlight.brown.active {\n",
       "  background: #6a4e3d;\n",
       "}\n",
       "\n",
       ".highlight.brown.active > .highlight__label {\n",
       "  background-color: #796051;\n",
       "}\n",
       "\n",
       ".highlight.brown .highlight__button svg {\n",
       "  fill: #6a4e3d;\n",
       "}\n",
       "\n",
       "\n",
       ".highlight.slate {\n",
       "  background: #eceff1;\n",
       "}\n",
       "\n",
       ".highlight.slate,\n",
       ".highlight-arrow--slate .highlight-arrow__triangle {\n",
       "  border-color: #3b4247;\n",
       "}\n",
       "\n",
       ".highlight.slate > .highlight__label,\n",
       ".highlight-arrow--slate .highlight-arrow__stalk,\n",
       ".highlight.slate .highlight__button .highlight__button__body {\n",
       "  background-color: #3b4247;\n",
       "}\n",
       "\n",
       ".highlight.slate.active {\n",
       "  background: #3b4247;\n",
       "}\n",
       "\n",
       ".highlight.slate.active > .highlight__label {\n",
       "  background-color: #4f555a;\n",
       "}\n",
       "\n",
       ".highlight.slate .highlight__button svg {\n",
       "  fill: #3b4247;\n",
       "}\n",
       "\n",
       ".highlight.fuchsia {\n",
       "  background: #f5f1f9;\n",
       "}\n",
       "\n",
       ".highlight.fuchsia,\n",
       ".highlight-arrow--fuchsia .highlight-arrow__triangle {\n",
       "  border-color: #e875e8;\n",
       "}\n",
       "\n",
       ".highlight.fuchsia > .highlight__label,\n",
       ".highlight-arrow--fuchsia .highlight-arrow__stalk,\n",
       ".highlight.fuchsia .highlight__button .highlight__button__body {\n",
       "  background-color: #e875e8;\n",
       "}\n",
       "\n",
       ".highlight.fuchsia.active {\n",
       "  background: #e875e8;\n",
       "}\n",
       "\n",
       ".highlight.fuchsia.active > .highlight__label {\n",
       "  background-color: #ea83ea;\n",
       "}\n",
       "\n",
       ".highlight.fuchsia .highlight__button svg {\n",
       "  fill: #e875e8;\n",
       "}\n",
       "\n",
       "\n",
       ".highlight__tooltip {\n",
       "  display: block;\n",
       "  position: absolute;\n",
       "  box-shadow: 0 0 30px rgba(0,0,0,.2);\n",
       "  border-radius: 6px;\n",
       "  background: rgba(70,70,70,.9);\n",
       "  padding: 4px 9px 5px 9px;\n",
       "  opacity: 0;\n",
       "  z-index: -9;\n",
       "  left: 50%;\n",
       "  top: 100%;\n",
       "  margin-top: 10px;\n",
       "  font-size: 14px;\n",
       "  color: #fff;\n",
       "  transform: translate(-50%, -6px);\n",
       "  transition: opacity .2s ease,\n",
       "              z-index .2s ease,\n",
       "              transform .2s ease .3s;\n",
       "  font-weight: bold;\n",
       "  white-space: nowrap;\n",
       "  user-select: none;\n",
       "  cursor: default;\n",
       "}\n",
       "\n",
       ".highlight__tooltip:before {\n",
       "  display: block;\n",
       "  position: absolute;\n",
       "  left: 50%;\n",
       "  top: 0;\n",
       "  margin-top: -6px;\n",
       "  margin-left: -6px;\n",
       "  content: \"\";\n",
       "  width: 0;\n",
       "  height: 0;\n",
       "  border-style: solid;\n",
       "  border-width: 0 6px 6px 6px;\n",
       "  border-color: transparent transparent rgba(70,70,70,.9) transparent;\n",
       "}\n",
       "\n",
       ".highlight:hover .highlight__tooltip {\n",
       "  z-index: 9;\n",
       "  opacity: 1;\n",
       "  transform: translate(-50%, 0);\n",
       "  transition-delay: 0s;\n",
       "}\n",
       "\n",
       ".highlight__tooltip:hover {\n",
       "  z-index: -9 !important;\n",
       "}\n",
       "\n",
       ".highlight-container {\n",
       "  line-height: 42px !important;\n",
       "  align-items: center;\n",
       "  display: flex;\n",
       "  flex-wrap: wrap;\n",
       "  white-space: pre;\n",
       "  cursor: default;\n",
       "}\n",
       "\n",
       "\n",
       ".highlight-container.highlight-container--bottom-labels {\n",
       "  padding: 10px 1.125em;\n",
       "  align-items: flex-start;\n",
       "}\n",
       "\n",
       ".highlight-container.highlight-container--diagram {\n",
       "  align-items: flex-start;\n",
       "}\n",
       "\n",
       ".highlight-container.highlight-container--diagram.passage.model__content__summary {\n",
       "  background: transparent;\n",
       "  align-items: stretch;\n",
       "  padding: 0;\n",
       "}\n",
       "\n",
       "</style>"
      ],
      "text/plain": [
       "<IPython.core.display.HTML object>"
      ]
     },
     "metadata": {},
     "output_type": "display_data"
    },
    {
     "data": {
      "text/html": [
       "<script>\n",
       "    \n",
       "function handleHighlightMouseOver(el) {\n",
       "    $('[id='+el.getAttribute('id')+']').addClass('active');\n",
       "  }\n",
       "\n",
       "function handleHighlightMouseOut(el) {\n",
       "    $('[id='+el.getAttribute('id')+']').removeClass('active');\n",
       "}\n",
       "  \n",
       "</script>"
      ],
      "text/plain": [
       "<IPython.core.display.HTML object>"
      ]
     },
     "metadata": {},
     "output_type": "display_data"
    }
   ],
   "source": [
    "from IPython.core.display import display, HTML\n",
    "display(HTML(open('visualization/highlight.css').read()))\n",
    "display(HTML(open('visualization/highlight.js').read()))\n",
    "\n",
    "import visualization\n",
    "from termcolor import colored\n",
    "\n",
    "from collections import defaultdict\n",
    "import numpy as np\n",
    "import spacy\n",
    "nlp = spacy.load('en')"
   ]
  },
  {
   "cell_type": "code",
   "execution_count": 20,
   "metadata": {
    "pycharm": {
     "name": "#%%\n"
    }
   },
   "outputs": [],
   "source": [
    "def load_result(file):\n",
    "    result = {}\n",
    "    with open(file, \"r\") as f:\n",
    "        for line in f:\n",
    "            article_id, spl, spr = line.split('\\t')\n",
    "            result.setdefault(article_id, [])\n",
    "            result[article_id].append([int(spl), int(spr)])\n",
    "    return result\n",
    "\n",
    "\n",
    "def show_result(result, articles_id, articles_content, task):\n",
    "    articles_contents = dict(zip(articles_id, articles_content))\n",
    "    for article_id in sorted(result):\n",
    "        text = articles_contents[article_id]\n",
    "        nlp_text = nlp(text)\n",
    "        tokens_idx = np.array([token.idx for token in nlp_text])\n",
    "        tokens = [token.text for token in nlp_text]\n",
    "\n",
    "        spans = []\n",
    "        for sp in result[article_id]:\n",
    "            sp = list(sp)\n",
    "            sp[0] = np.where(tokens_idx >= sp[0])[0][0]\n",
    "            sp[1] = np.where(tokens_idx < sp[1])[0][-1]\n",
    "            spans.append([sp[0], sp[1]])\n",
    "\n",
    "        if len(spans) != 0:\n",
    "            print(colored(article_id, 'red'))\n",
    "            visualization.render(tokens, [spans], task=task)"
   ]
  },
  {
   "cell_type": "code",
   "execution_count": 17,
   "metadata": {
    "pycharm": {
     "name": "#%%\n"
    }
   },
   "outputs": [
    {
     "data": {
      "text/html": [
       "<div>\n",
       "<style scoped>\n",
       "    .dataframe tbody tr th:only-of-type {\n",
       "        vertical-align: middle;\n",
       "    }\n",
       "\n",
       "    .dataframe tbody tr th {\n",
       "        vertical-align: top;\n",
       "    }\n",
       "\n",
       "    .dataframe thead th {\n",
       "        text-align: right;\n",
       "    }\n",
       "</style>\n",
       "<table border=\"1\" class=\"dataframe\">\n",
       "  <thead>\n",
       "    <tr style=\"text-align: right;\">\n",
       "      <th></th>\n",
       "      <th>headline</th>\n",
       "      <th>publication_date</th>\n",
       "      <th>article_content</th>\n",
       "      <th>article_url</th>\n",
       "      <th>source</th>\n",
       "    </tr>\n",
       "  </thead>\n",
       "  <tbody>\n",
       "    <tr>\n",
       "      <th>0</th>\n",
       "      <td>Ukraine First Former Soviet State in World Cup...</td>\n",
       "      <td>2006-06-21</td>\n",
       "      <td>Thousands of fans in Kiev braved the elements ...</td>\n",
       "      <td>NaN</td>\n",
       "      <td>rt</td>\n",
       "    </tr>\n",
       "    <tr>\n",
       "      <th>1</th>\n",
       "      <td>Rosneft begins final step in going public</td>\n",
       "      <td>2006-06-26</td>\n",
       "      <td>The Russian energy company Rosneft says it has...</td>\n",
       "      <td>NaN</td>\n",
       "      <td>rt</td>\n",
       "    </tr>\n",
       "    <tr>\n",
       "      <th>2</th>\n",
       "      <td>Arcelor agrees takeover by Mittal to create st...</td>\n",
       "      <td>2006-06-26</td>\n",
       "      <td>Steelmaker Arcelor has yielded to Indian suito...</td>\n",
       "      <td>NaN</td>\n",
       "      <td>rt</td>\n",
       "    </tr>\n",
       "    <tr>\n",
       "      <th>3</th>\n",
       "      <td>Israel’s missing soldier: Palestinians meet on...</td>\n",
       "      <td>2006-06-26</td>\n",
       "      <td>Palestinian President Mahmoud Abbas and Hamas ...</td>\n",
       "      <td>NaN</td>\n",
       "      <td>rt</td>\n",
       "    </tr>\n",
       "    <tr>\n",
       "      <th>4</th>\n",
       "      <td>Rosneft roadshow fires investor interest</td>\n",
       "      <td>2006-06-27</td>\n",
       "      <td>Russian energy firm Rosneft, heading for the c...</td>\n",
       "      <td>NaN</td>\n",
       "      <td>rt</td>\n",
       "    </tr>\n",
       "    <tr>\n",
       "      <th>...</th>\n",
       "      <td>...</td>\n",
       "      <td>...</td>\n",
       "      <td>...</td>\n",
       "      <td>...</td>\n",
       "      <td>...</td>\n",
       "    </tr>\n",
       "    <tr>\n",
       "      <th>95</th>\n",
       "      <td>Civilian death toll nears 400 in Middle East c...</td>\n",
       "      <td>2006-07-24</td>\n",
       "      <td>As Israeli ground troops pushed further into L...</td>\n",
       "      <td>NaN</td>\n",
       "      <td>rt</td>\n",
       "    </tr>\n",
       "    <tr>\n",
       "      <th>96</th>\n",
       "      <td>Saddam Hussein in hospital</td>\n",
       "      <td>2006-07-24</td>\n",
       "      <td>Former Iraqi President Saddam Hussein is in ho...</td>\n",
       "      <td>NaN</td>\n",
       "      <td>rt</td>\n",
       "    </tr>\n",
       "    <tr>\n",
       "      <th>97</th>\n",
       "      <td>Lebanon aid arrives by sea</td>\n",
       "      <td>2006-07-24</td>\n",
       "      <td>Sea-borne aid supplies have reached Lebanon. F...</td>\n",
       "      <td>NaN</td>\n",
       "      <td>rt</td>\n",
       "    </tr>\n",
       "    <tr>\n",
       "      <th>98</th>\n",
       "      <td>Ukraine politics: deadline approches</td>\n",
       "      <td>2006-07-24</td>\n",
       "      <td>The deadline for Ukraine’s parliament to form ...</td>\n",
       "      <td>NaN</td>\n",
       "      <td>rt</td>\n",
       "    </tr>\n",
       "    <tr>\n",
       "      <th>99</th>\n",
       "      <td>Hightened tension in battle for Baghdad</td>\n",
       "      <td>2006-07-24</td>\n",
       "      <td>More than 60 died and many were wounded in thr...</td>\n",
       "      <td>NaN</td>\n",
       "      <td>rt</td>\n",
       "    </tr>\n",
       "  </tbody>\n",
       "</table>\n",
       "<p>100 rows × 5 columns</p>\n",
       "</div>"
      ],
      "text/plain": [
       "                                             headline publication_date  \\\n",
       "0   Ukraine First Former Soviet State in World Cup...       2006-06-21   \n",
       "1           Rosneft begins final step in going public       2006-06-26   \n",
       "2   Arcelor agrees takeover by Mittal to create st...       2006-06-26   \n",
       "3   Israel’s missing soldier: Palestinians meet on...       2006-06-26   \n",
       "4            Rosneft roadshow fires investor interest       2006-06-27   \n",
       "..                                                ...              ...   \n",
       "95  Civilian death toll nears 400 in Middle East c...       2006-07-24   \n",
       "96                         Saddam Hussein in hospital       2006-07-24   \n",
       "97                         Lebanon aid arrives by sea       2006-07-24   \n",
       "98               Ukraine politics: deadline approches       2006-07-24   \n",
       "99            Hightened tension in battle for Baghdad       2006-07-24   \n",
       "\n",
       "                                      article_content  article_url source  \n",
       "0   Thousands of fans in Kiev braved the elements ...          NaN     rt  \n",
       "1   The Russian energy company Rosneft says it has...          NaN     rt  \n",
       "2   Steelmaker Arcelor has yielded to Indian suito...          NaN     rt  \n",
       "3   Palestinian President Mahmoud Abbas and Hamas ...          NaN     rt  \n",
       "4   Russian energy firm Rosneft, heading for the c...          NaN     rt  \n",
       "..                                                ...          ...    ...  \n",
       "95  As Israeli ground troops pushed further into L...          NaN     rt  \n",
       "96  Former Iraqi President Saddam Hussein is in ho...          NaN     rt  \n",
       "97  Sea-borne aid supplies have reached Lebanon. F...          NaN     rt  \n",
       "98  The deadline for Ukraine’s parliament to form ...          NaN     rt  \n",
       "99  More than 60 died and many were wounded in thr...          NaN     rt  \n",
       "\n",
       "[100 rows x 5 columns]"
      ]
     },
     "execution_count": 17,
     "metadata": {},
     "output_type": "execute_result"
    }
   ],
   "source": [
    "import pandas as pd\n",
    "russian_df = pd.read_csv(r'D:\\dev\\code\\jaifp\\parrot\\data\\russian-media-outlets-20220721.csv', nrows=100, index_col=0)\n",
    "russian_df"
   ]
  },
  {
   "cell_type": "code",
   "execution_count": 72,
   "metadata": {
    "pycharm": {
     "name": "#%%\n"
    }
   },
   "outputs": [],
   "source": [
    "from typing import List\n",
    "\n",
    "\n",
    "def predictions_to_span(path=r'D:\\dev\\code\\jaifp\\semeval2020_task11\\models\\si_roberta_crf\\test_predictions.txt'):\n",
    "    def span_ends(_line):\n",
    "        return not _line or not _line.startswith('I-PROP')\n",
    "\n",
    "    def document_ends(_next_line):\n",
    "        return not _next_line or _next_line.startswith(\"-DOCSTART-\")\n",
    "\n",
    "    def parse_line(_line):\n",
    "        if not _line:\n",
    "            return None, None\n",
    "        split_line = _line.split('\\t')\n",
    "        if len(split_line) < 2:\n",
    "            return None, None\n",
    "        token = split_line[0]\n",
    "        prediction = split_line[1].strip()\n",
    "        return token, prediction\n",
    "\n",
    "    with open(path, 'r', encoding='utf-8') as f:\n",
    "        lines: List[str] = [file_line for file_line in f.readlines()]\n",
    "\n",
    "    all_contents: List[List[str]] = []\n",
    "    all_spans = []\n",
    "\n",
    "    current_contents: List[str] = []\n",
    "    current_spans = []\n",
    "\n",
    "    within_span = False\n",
    "    span_start = -1\n",
    "\n",
    "    doc_id = 0\n",
    "    token_counter = 0\n",
    "    for i, line in enumerate(lines):\n",
    "        next_line = lines[i + 1] if i + 1 < len(lines) else None\n",
    "        if not line or line.startswith(\"-DOCSTART-\"):\n",
    "            continue\n",
    "        else:\n",
    "            token, prediction = parse_line(line)\n",
    "            if prediction.startswith('B-PROP'):\n",
    "                within_span = True\n",
    "                span_start = token_counter\n",
    "            next_token, next_prediction = parse_line(next_line)\n",
    "            if within_span and span_ends(next_prediction):\n",
    "                within_span = False\n",
    "                span_end = token_counter  # exclusive range\n",
    "                current_spans.append((span_start, span_end))\n",
    "\n",
    "            current_contents.append(token)\n",
    "            token_counter += 1\n",
    "\n",
    "        # document ends here\n",
    "        if document_ends(next_line):\n",
    "            import numpy as np\n",
    "            lengths = np.cumsum([0] + list(map(len, current_contents)))\n",
    "            lengths += np.asarray(range(0, len(lengths)))\n",
    "\n",
    "            all_contents.append(current_contents)\n",
    "            all_spans.append(current_spans)\n",
    "            doc_id += 1\n",
    "            token_counter = 0\n",
    "            current_contents = []\n",
    "            current_spans = []\n",
    "\n",
    "    return all_contents, all_spans"
   ]
  },
  {
   "cell_type": "code",
   "execution_count": 84,
   "metadata": {
    "pycharm": {
     "name": "#%%\n"
    }
   },
   "outputs": [
    {
     "data": {
      "text/plain": [
       "['Thousands',\n",
       " 'of',\n",
       " 'fans',\n",
       " 'in',\n",
       " 'Kiev',\n",
       " 'braved',\n",
       " 'the',\n",
       " 'elements',\n",
       " 'to',\n",
       " 'watch']"
      ]
     },
     "execution_count": 84,
     "metadata": {},
     "output_type": "execute_result"
    }
   ],
   "source": [
    "tokens, spans = predictions_to_span()\n",
    "tokens[0][0:10]"
   ]
  },
  {
   "cell_type": "code",
   "execution_count": 85,
   "metadata": {
    "pycharm": {
     "name": "#%%\n"
    }
   },
   "outputs": [
    {
     "data": {
      "text/html": [
       "<div style=\"padding: 16px;\"><span>Thousands </span><span>of </span><span>fans </span><span>in </span><span>Kiev </span><span>braved </span><span>the </span><span>elements </span><span>to </span><span>watch </span><span>the </span><span>game </span><span>– </span><span>holding </span><span>their </span><span>collective </span><span>breath </span><span>before </span><span>the </span><span>goals </span><span>started </span><span>rolling </span><span>in </span><span>. </span><span key=24 class=\"highlight blue\" depth=0 id=PROP onmouseover=\"handleHighlightMouseOver(this)\"                 onmouseout=\"handleHighlightMouseOut(this)\" labelPosition=\"left\">                <span class=\"highlight__label\"><strong>PROP</strong></span>                <span class=\"highlight__content\"><span>Passion </span></span></span><span>and </span><span>joy </span><span>met </span><span>each </span><span>of </span><span>the </span><span>four </span><span>goals </span><span>, </span><span>and </span><span>specially </span><span>the </span><span>final </span><span>whistle </span><span>. </span><span>The </span><span>fact </span><span>that </span><span>apart </span><span>from </span><span>Russia </span><span>, </span><span>Ukraine </span><span>was </span><span>the </span><span>first </span><span>former </span><span>Soviet </span><span>republic </span><span>to </span><span>qualify </span><span>for </span><span>the </span><span>World </span><span>Cup </span><span>added </span><span>to </span><span>the </span><span key=63 class=\"highlight blue\" depth=0 id=PROP onmouseover=\"handleHighlightMouseOver(this)\"                 onmouseout=\"handleHighlightMouseOut(this)\" labelPosition=\"left\">                <span class=\"highlight__label\"><strong>PROP</strong></span>                <span class=\"highlight__content\"><span>wild </span></span></span><span>celebrations </span><span>. </span></div>"
      ],
      "text/plain": [
       "<IPython.core.display.HTML object>"
      ]
     },
     "metadata": {},
     "output_type": "display_data"
    },
    {
     "data": {
      "text/html": [
       "<div style=\"padding: 16px;\"><span>The </span><span>pro </span><span>- </span><span>presidential </span><span>“ </span><span>Our </span><span>Ukraine </span><span>” </span><span>party </span><span>intends </span><span>to </span><span>form </span><span>a </span><span>confederation </span><span>of </span><span>opposition </span><span>forces </span><span>. </span><span>Roman </span><span>Bessmertny </span><span>, </span><span>the </span><span>leader </span><span>of </span><span>the </span><span>coalition </span><span>'s </span><span>parliamentary </span><span>faction </span><span>says </span><span>the </span><span>“ </span><span>Our </span><span>Ukraine </span><span>” </span><span>party </span><span>plans </span><span>to </span><span>build </span><span>a </span><span>EuroIt </span><span>will </span><span>unite </span><span>political </span><span>forces </span><span>and </span><span>coordinate </span><span>its </span><span>activities </span><span>in </span><span>opposition </span><span>. </span><span>The </span><span>President </span><span>of </span><span>Ukraine </span><span>, </span><span>Viktor </span><span>Yushchenko </span><span>, </span><span>says </span><span>contrary </span><span>to </span><span>reports </span><span>, </span><span>negotiations </span><span>on </span><span>building </span><span>the </span><span>coalition </span><span>are </span><span>still </span><span>underway </span><span>. </span><span>There </span><span>'s </span><span>still </span><span>no </span><span>word </span><span>on </span><span>talks </span><span>with </span><span>Yulia </span><span>Timoshenko </span><span>'s </span><span>bloc </span><span>on </span><span>a </span><span>possible </span><span>alliance </span><span>. </span><span>The </span><span>president </span><span>and </span><span>his </span><span>prime </span><span>minister </span><span key=97 class=\"highlight blue\" depth=0 id=PROP onmouseover=\"handleHighlightMouseOver(this)\"                 onmouseout=\"handleHighlightMouseOut(this)\" labelPosition=\"left\">                <span class=\"highlight__label\"><strong>PROP</strong></span>                <span class=\"highlight__content\"><span>clashed </span></span></span><span>last </span><span>month </span><span>after </span><span>Yanukovich </span><span>told </span><span>NATO </span><span>officials </span><span>that </span><span>Ukraine </span><span>was </span><span>n't </span><span>ready </span><span>for </span><span>membership </span><span>because </span><span>of </span><span>a </span><span>lack </span><span>of </span><span>public </span><span>support </span><span>. </span><span>The </span><span>country </span><span>has </span><span>not </span><span>been </span><span>invited </span><span>to </span><span>the </span><span>NATO </span><span>summit </span><span>in </span><span>Riga </span><span>. </span><span>Leonid </span><span>Gusev </span><span>, </span><span>an </span><span>expert </span><span>on </span><span>Ukraine </span><span>at </span><span>the </span><span>Moscow </span><span>State </span><span>Institute </span><span>of </span><span>International </span><span>Relations </span><span>, </span><span>comments </span><span>on </span><span>how </span><span>the </span><span>situation </span><span>in </span><span>Ukraine </span><span>may </span><span>affect </span><span>Viktor </span><span>Yanukovich </span><span>'s </span><span>government </span><span>: </span><span>“ </span></div>"
      ],
      "text/plain": [
       "<IPython.core.display.HTML object>"
      ]
     },
     "metadata": {},
     "output_type": "display_data"
    },
    {
     "data": {
      "text/html": [
       "<div style=\"padding: 16px;\"><span>Ukraine </span><span>has </span><span>been </span><span>planning </span><span>to </span><span>lift </span><span>a </span><span>ban </span><span>on </span><span>the </span><span>export </span><span>and </span><span>recycling </span><span>of </span><span>scrap </span><span>metal </span><span>from </span><span>the </span><span key=18 class=\"highlight blue\" depth=0 id=PROP onmouseover=\"handleHighlightMouseOver(this)\"                 onmouseout=\"handleHighlightMouseOut(this)\" labelPosition=\"left\">                <span class=\"highlight__label\"><strong>PROP</strong></span>                <span class=\"highlight__content\"><span>contaminated </span></span></span><span>zone </span><span>around </span><span>the </span><span>Chernobyl </span><span>nuclear </span><span>power </span><span>plant </span><span>. </span><span>Russian </span><span>authorities </span><span>fear </span><span>some </span><span>material </span><span>could </span><span>end </span><span>up </span><span>in </span><span>Russia </span><span>. </span></div>"
      ],
      "text/plain": [
       "<IPython.core.display.HTML object>"
      ]
     },
     "metadata": {},
     "output_type": "display_data"
    },
    {
     "data": {
      "text/html": [
       "<div style=\"padding: 16px;\"><span>Two </span><span>years </span><span>after </span><span>the </span><span>Orange </span><span>Revolution </span><span>the </span><span key=7 class=\"highlight blue\" depth=0 id=PROP onmouseover=\"handleHighlightMouseOver(this)\"                 onmouseout=\"handleHighlightMouseOut(this)\" labelPosition=\"left\">                <span class=\"highlight__label\"><strong>PROP</strong></span>                <span class=\"highlight__content\"><span>euphoric </span></span></span><span>spirit </span><span>in </span><span>Ukraine </span><span>has </span><span>worn </span><span>out </span><span>and </span><span>many </span><span>Ukrianians </span><span>appear </span><span>to </span><span>have </span><span key=20 class=\"highlight blue\" depth=0 id=PROP onmouseover=\"handleHighlightMouseOver(this)\"                 onmouseout=\"handleHighlightMouseOut(this)\" labelPosition=\"left\">                <span class=\"highlight__label\"><strong>PROP</strong></span>                <span class=\"highlight__content\"><span>bittersweet </span> <span>feelings </span></span></span><span>about </span><span>the </span><span>period </span><span>. </span><span>Some </span><span>former </span><span>winners </span><span>turned </span><span>out </span><span>to </span><span>be </span><span>losers </span><span>. </span></div>"
      ],
      "text/plain": [
       "<IPython.core.display.HTML object>"
      ]
     },
     "metadata": {},
     "output_type": "display_data"
    },
    {
     "data": {
      "text/html": [
       "<div style=\"padding: 16px;\"><span>The </span><span>Ukrainian </span><span>Parliament </span><span>has </span><span>adopted </span><span>a </span><span>bill </span><span>recognising </span><span>the </span><span>1932 </span><span>to </span><span>1933 </span><span>forced </span><span>famine </span><span>as </span><span key=15 class=\"highlight blue\" depth=0 id=PROP onmouseover=\"handleHighlightMouseOver(this)\"                 onmouseout=\"handleHighlightMouseOut(this)\" labelPosition=\"left\">                <span class=\"highlight__label\"><strong>PROP</strong></span>                <span class=\"highlight__content\"><span>genocide </span></span></span><span>against </span><span>the </span><span>Ukrainians </span><span>. </span><span>The </span><span>famine </span><span>, </span><span>known </span><span>as </span><span>Holodomor </span><span>or </span><span key=27 class=\"highlight blue\" depth=0 id=PROP onmouseover=\"handleHighlightMouseOver(this)\"                 onmouseout=\"handleHighlightMouseOut(this)\" labelPosition=\"left\">                <span class=\"highlight__label\"><strong>PROP</strong></span>                <span class=\"highlight__content\"><span>Death </span> <span>by </span> <span>Hunger </span></span></span><span>, </span><span>was </span><span>orchestrated </span><span>by </span><span key=32 class=\"highlight blue\" depth=0 id=PROP onmouseover=\"handleHighlightMouseOver(this)\"                 onmouseout=\"handleHighlightMouseOut(this)\" labelPosition=\"left\">                <span class=\"highlight__label\"><strong>PROP</strong></span>                <span class=\"highlight__content\"><span>Soviet </span> <span>dictator </span></span></span><span>Josef </span><span>Stalin </span><span>. </span><span>The </span><span>UN </span><span>'s </span><span>definition </span><span>of </span><span key=41 class=\"highlight blue\" depth=0 id=PROP onmouseover=\"handleHighlightMouseOver(this)\"                 onmouseout=\"handleHighlightMouseOut(this)\" labelPosition=\"left\">                <span class=\"highlight__label\"><strong>PROP</strong></span>                <span class=\"highlight__content\"><span>genocide </span></span></span><span>is </span><span>an </span><span>act </span><span>of </span><span>deliberate </span><span>and </span><span>systematic </span><span key=49 class=\"highlight blue\" depth=0 id=PROP onmouseover=\"handleHighlightMouseOver(this)\"                 onmouseout=\"handleHighlightMouseOut(this)\" labelPosition=\"left\">                <span class=\"highlight__label\"><strong>PROP</strong></span>                <span class=\"highlight__content\"><span>destruction </span></span></span><span>of </span><span>cultural </span><span>, </span><span>political </span><span>or </span><span>rational </span><span>groups </span><span>' </span><span>destruction </span><span>. </span><span>Yulia </span><span>Tymoshenko </span><span>'s </span><span>block </span><span>and </span><span>Viktor </span><span>Yushenko </span><span>, </span><span>the </span><span>President </span><span>of </span><span>Ukraine </span><span>, </span><span>wanted </span><span>to </span><span>place </span><span>the </span><span>definition </span><span>of </span><span key=79 class=\"highlight blue\" depth=0 id=PROP onmouseover=\"handleHighlightMouseOver(this)\"                 onmouseout=\"handleHighlightMouseOut(this)\" labelPosition=\"left\">                <span class=\"highlight__label\"><strong>PROP</strong></span>                <span class=\"highlight__content\"><span>genocide </span></span></span><span>into </span><span>law </span><span>, </span><span>because </span><span>they </span><span>are </span><span>sure </span><span>that </span><span>Stalin </span><span>'s </span><span>regime </span><span>was </span><span>particularly </span><span>against </span><span>the </span><span>Ukraine </span><span>nation </span><span>. </span></div>"
      ],
      "text/plain": [
       "<IPython.core.display.HTML object>"
      ]
     },
     "metadata": {},
     "output_type": "display_data"
    },
    {
     "data": {
      "text/html": [
       "<div style=\"padding: 16px;\"><span>The </span><span key=1 class=\"highlight blue\" depth=0 id=PROP onmouseover=\"handleHighlightMouseOver(this)\"                 onmouseout=\"handleHighlightMouseOut(this)\" labelPosition=\"left\">                <span class=\"highlight__label\"><strong>PROP</strong></span>                <span class=\"highlight__content\"><span>Soviet </span></span></span><span>Union </span><span>used </span><span>to </span><span>be </span><span>one </span><span>of </span><span>the </span><span>dominant </span><span>superpowers </span><span>of </span><span>the </span><span>20th </span><span>century </span><span>, </span><span>but </span><span>15 </span><span>years </span><span>ago </span><span>it </span><span>broke </span><span>up </span><span>. </span><span>The </span><span key=25 class=\"highlight blue\" depth=0 id=PROP onmouseover=\"handleHighlightMouseOver(this)\"                 onmouseout=\"handleHighlightMouseOut(this)\" labelPosition=\"left\">                <span class=\"highlight__label\"><strong>PROP</strong></span>                <span class=\"highlight__content\"><span>Soviet </span> <span>leaders </span></span></span><span>of </span><span>Russia </span><span>, </span><span>Belarus </span><span>and </span><span>Ukraine </span><span>signed </span><span>an </span><span>agreement </span><span>forming </span><span>the </span><span>Commonwealth </span><span>of </span><span>Independent </span><span>States </span><span>. </span></div>"
      ],
      "text/plain": [
       "<IPython.core.display.HTML object>"
      ]
     },
     "metadata": {},
     "output_type": "display_data"
    },
    {
     "data": {
      "text/html": [
       "<div style=\"padding: 16px;\"><span>Ukrainian </span><span>politics </span><span>has </span><span>taken </span><span>a </span><span key=5 class=\"highlight blue\" depth=0 id=PROP onmouseover=\"handleHighlightMouseOver(this)\"                 onmouseout=\"handleHighlightMouseOut(this)\" labelPosition=\"left\">                <span class=\"highlight__label\"><strong>PROP</strong></span>                <span class=\"highlight__content\"><span>turbulent </span></span></span><span>turn </span><span>with </span><span>the </span><span>new </span><span>cabinet </span><span>appointment </span><span>of </span><span>Anatoly </span><span>Kinakh </span><span>as </span><span>economics </span><span>minister </span><span>. </span><span>The </span><span>decision </span><span>by </span><span>the </span><span>country </span><span>’s </span><span>PM </span><span>Viktor </span><span>Yanukovich </span><span>has </span><span>angered </span><span>the </span><span>pro </span><span>- </span><span>presidential </span><span>' </span><span>Our </span><span>Ukraine </span><span>' </span><span>bloc </span><span>. </span></div>"
      ],
      "text/plain": [
       "<IPython.core.display.HTML object>"
      ]
     },
     "metadata": {},
     "output_type": "display_data"
    },
    {
     "data": {
      "text/html": [
       "<div style=\"padding: 16px;\"><span>The </span><span>Russian </span><span>press </span><span>comments </span><span>on </span><span>the </span><span>real </span><span>state </span><span>of </span><span>democracy </span><span>in </span><span>Russia </span><span>and </span><span>the </span><span>crisis </span><span>in </span><span>Ukraine </span><span>. </span><span>It </span><span>also </span><span>questions </span><span>whether </span><span>the </span><span>British </span><span>sailors </span><span>returned </span><span>home </span><span>from </span><span>Iran </span><span>are </span><span key=30 class=\"highlight blue\" depth=0 id=PROP onmouseover=\"handleHighlightMouseOver(this)\"                 onmouseout=\"handleHighlightMouseOut(this)\" labelPosition=\"left\">                <span class=\"highlight__label\"><strong>PROP</strong></span>                <span class=\"highlight__content\"><span>traitors </span> <span>or </span></span></span><span key=31 class=\"highlight blue\" depth=0 id=PROP onmouseover=\"handleHighlightMouseOver(this)\"                 onmouseout=\"handleHighlightMouseOut(this)\" labelPosition=\"left\">                <span class=\"highlight__label\"><strong>PROP</strong></span>                <span class=\"highlight__content\"><span>heroes </span></span></span><span>. </span></div>"
      ],
      "text/plain": [
       "<IPython.core.display.HTML object>"
      ]
     },
     "metadata": {},
     "output_type": "display_data"
    },
    {
     "data": {
      "text/html": [
       "<div style=\"padding: 16px;\"><span>Just </span><span>weeks </span><span>after </span><span>the </span><span>controversial </span><span>relocation </span><span>of </span><span>a </span><span>monument </span><span>of </span><span>a </span><span key=11 class=\"highlight blue\" depth=0 id=PROP onmouseover=\"handleHighlightMouseOver(this)\"                 onmouseout=\"handleHighlightMouseOut(this)\" labelPosition=\"left\">                <span class=\"highlight__label\"><strong>PROP</strong></span>                <span class=\"highlight__content\"><span>Soviet </span> <span>Soldier </span></span></span><span>in </span><span>Estonia </span><span>, </span><span>Ukraine </span><span>could </span><span>be </span><span>set </span><span>to </span><span>do </span><span>something </span><span>similar </span><span>. </span><span>Ukrainian </span><span>nationalists </span><span>want </span><span>to </span><span>lock </span><span>up </span><span>the </span><span>symbols </span><span>of </span><span>Soviet </span><span>history </span><span>across </span><span>Western </span><span>Ukraine </span><span>in </span><span>museums </span><span>. </span></div>"
      ],
      "text/plain": [
       "<IPython.core.display.HTML object>"
      ]
     },
     "metadata": {},
     "output_type": "display_data"
    },
    {
     "data": {
      "text/html": [
       "<div style=\"padding: 16px;\"><span>Mikhail </span><span>Chernov </span><span>, </span><span>the </span><span>Head </span><span>of </span><span>the </span><span>International </span><span>Department </span><span>of </span><span>Russian </span><span>Business </span><span>Consulting </span><span>journal </span><span>, </span><span>joined </span><span>Russia </span><span>Today </span><span>to </span><span>comment </span><span>on </span><span>the </span><span>recent </span><span>political </span><span>events </span><span>in </span><span>Ukraine </span><span>and </span><span>the </span><span>final </span><span>settlement </span><span>of </span><span>the </span><span>early </span><span>parliamentary </span><span>elections </span><span>date </span><span>. </span><span>Why </span><span>do </span><span>you </span><span>think </span><span key=42 class=\"highlight blue\" depth=0 id=PROP onmouseover=\"handleHighlightMouseOver(this)\"                 onmouseout=\"handleHighlightMouseOut(this)\" labelPosition=\"left\">                <span class=\"highlight__label\"><strong>PROP</strong></span>                <span class=\"highlight__content\"><span>it </span> <span>took </span> <span>such </span> <span>a </span> <span>long </span> <span>time </span> <span>to </span> <span>come </span> <span>to </span> <span>this </span> <span>agreement?So </span></span></span><span>you </span><span>believe </span><span>the </span><span>President </span><span>won </span><span>this </span><span>round </span><span>? </span><span>Do </span><span>you </span><span>think </span><span>that </span><span>this </span><span>reconciliation </span><span>by </span><span>the </span><span>Ukrainian </span><span>leadership </span><span>will </span><span>finally </span><span>lead </span><span>to </span><span>some </span><span>kind </span><span>of </span><span>a </span><span>state </span><span>of </span><span>peace </span><span>in </span><span>the </span><span>country </span><span>; </span><span>are </span><span>the </span><span>political </span><span>forces </span><span>actually </span><span>beginning </span><span>to </span><span>agree </span><span>and </span><span>to </span><span>compromise?So </span><span>you </span><span>do </span><span>not </span><span>think </span><span>that </span><span>we </span><span>will </span><span>see </span><span>the </span><span>end </span><span>to </span><span>the </span><span>mass </span><span>street </span><span>demonstrations </span><span>that </span><span>we </span><span>have </span><span>been </span><span>seeing </span><span>over </span><span>the </span><span>past </span><span>few </span><span>weeks </span><span>in </span><span>Ukraine?Earlier </span><span>, </span><span>spoke </span><span>to </span><span>Russia </span><span>Today </span><span>on </span><span>economic </span><span>co </span><span>- </span><span>operation </span><span>in </span><span>the </span><span>Black </span><span>Sea </span><span>region </span><span>, </span><span>as </span><span>the </span><span>Black </span><span>Sea </span><span>Economic </span><span>Co </span><span>- </span><span>operation </span><span>Organisation </span><span>opens </span><span>its </span><span>16th </span><span>session </span><span>in </span><span>Belgrade </span><span>. </span><span>This </span><span>organisation </span><span>encompasses </span><span>a </span><span>wide </span><span>geography </span><span>. </span><span>What </span><span>is </span><span>interesting </span><span>, </span><span>though </span><span>, </span><span>the </span><span>organisation </span><span>unites </span><span>the </span><span>countries </span><span>that </span><span>have </span><span>obvious </span><span>political </span><span>differences </span><span>, </span><span>for </span><span>example </span><span>Turkey </span><span>and </span><span>Greece </span><span>, </span><span>Azerbaijan </span><span>and </span><span>Armenia </span><span>, </span><span>Georgia </span><span>and </span><span>Russia </span></div>"
      ],
      "text/plain": [
       "<IPython.core.display.HTML object>"
      ]
     },
     "metadata": {},
     "output_type": "display_data"
    },
    {
     "data": {
      "text/html": [
       "<div style=\"padding: 16px;\"><span>Pascal </span><span>Lamy </span><span>, </span><span>the </span><span>Director </span><span>General </span><span>of </span><span>the </span><span>World </span><span>Trade </span><span>Organization </span><span>, </span><span>spoke </span><span>to </span><span>RT </span><span>about </span><span>Russia </span><span>’s </span><span>chances </span><span>of </span><span>finally </span><span>joining </span><span>the </span><span>WTO </span><span>and </span><span>the </span><span>benefits </span><span>the </span><span>move </span><span>would </span><span>give </span><span>the </span><span>country </span><span>. </span><span>Yesterday </span><span>German </span><span>Gref </span><span>, </span><span>Russia </span><span>’s </span><span>Minister </span><span>of </span><span>Economic </span><span>Development </span><span>and </span><span>Trade </span><span>, </span><span>said </span><span>the </span><span>projected </span><span>date </span><span>for </span><span>Russia </span><span>’s </span><span>accession </span><span>to </span><span>the </span><span>World </span><span>Trade </span><span>Organization </span><span>had </span><span>shifted </span><span>from </span><span>the </span><span>summer </span><span>to </span><span>the </span><span>autumn </span><span>. </span><span>How </span><span>realistic </span><span>actually </span><span>is </span><span>this </span><span>new </span><span>deadline?You </span><span>say </span><span>the </span><span>political </span><span>will </span><span>is </span><span>there </span><span>. </span><span>But </span><span>Russia </span><span>has </span><span>been </span><span>trying </span><span>to </span><span>join </span><span>the </span><span>WTO </span><span>for </span><span>some </span><span>years </span><span>now </span><span>and </span><span>it </span><span>always </span><span>seems </span><span>to </span><span>be </span><span>just </span><span>one </span><span>step </span><span>away </span><span>from </span><span>the </span><span>actual </span><span>accession </span><span>. </span><span>Currently </span><span>the </span><span>issue </span><span>is </span><span>with </span><span>Georgia </span><span>, </span><span>which </span><span>is </span><span>saying </span><span>it </span><span>has </span><span>got </span><span>a </span><span>problem </span><span>with </span><span>Russia </span><span>’s </span><span>cross </span><span>- </span><span>border </span><span>control </span><span>post </span><span>. </span><span>Russia </span><span>says </span><span>that </span><span>issue </span><span>has </span><span>nothing </span><span>to </span><span>do </span><span>with </span><span>the </span><span>WTO </span><span>. </span><span>So </span><span>, </span><span>how </span><span>real </span><span>do </span><span>you </span><span>think </span><span>these </span><span>problems </span><span>are </span><span>? </span><span>Or </span><span>are </span><span>they </span><span>simply </span><span>a </span><span key=163 class=\"highlight blue\" depth=0 id=PROP onmouseover=\"handleHighlightMouseOver(this)\"                 onmouseout=\"handleHighlightMouseOut(this)\" labelPosition=\"left\">                <span class=\"highlight__label\"><strong>PROP</strong></span>                <span class=\"highlight__content\"><span>game </span> <span>of </span></span></span><span key=164 class=\"highlight blue\" depth=0 id=PROP onmouseover=\"handleHighlightMouseOver(this)\"                 onmouseout=\"handleHighlightMouseOut(this)\" labelPosition=\"left\">                <span class=\"highlight__label\"><strong>PROP</strong></span>                <span class=\"highlight__content\"><span>political </span> <span>wills?Two </span></span></span><span>days </span><span>ago </span><span>Ukraine </span><span>’s </span><span>President </span><span>Viktor </span><span>Yushchenko </span><span>said </span><span>that </span><span>his </span><span>country </span><span>hopes </span><span>to </span><span>join </span><span>the </span><span>WTO </span><span>by </span><span>November </span><span>2007 </span><span>. </span><span>It </span><span>is </span><span>common </span><span>knowledge </span><span>that </span><span>Ukraine </span></div>"
      ],
      "text/plain": [
       "<IPython.core.display.HTML object>"
      ]
     },
     "metadata": {},
     "output_type": "display_data"
    },
    {
     "data": {
      "text/html": [
       "<div style=\"padding: 16px;\"><span>Elton </span><span>John </span><span>has </span><span>held </span><span>a </span><span>free </span><span>concert </span><span>in </span><span>the </span><span>Ukrainian </span><span>capital </span><span>, </span><span>Kiev </span><span>. </span><span>It </span><span>has </span><span>become </span><span>a </span><span>part </span><span>of </span><span>an </span><span>HIV </span><span>/ </span><span>AIDS </span><span>awareness </span><span>programme </span><span>in </span><span>the </span><span>country </span><span>. </span><span>Thousands </span><span>turned </span><span>out </span><span>for </span><span>the </span><span>event </span><span>, </span><span>as </span><span>Kiev </span><span>does </span><span>n't </span><span>usually </span><span>host </span><span>superstars </span><span>' </span><span>concerts </span><span>. </span><span>Ukraine </span><span>reportedly </span><span>has </span><span>one </span><span>of </span><span>the </span><span>highest </span><span>infection </span><span>rates </span><span>of </span><span>HIV </span><span>in </span><span>Europe </span><span>. </span><span>The </span><span>number </span><span>of </span><span>people </span><span>with </span><span>the </span><span>virus </span><span>may </span><span>now </span><span>exceed </span><span>400 </span><span>000 </span><span>here </span><span>. </span><span>And </span><span>most </span><span>of </span><span>them </span><span>are </span><span>young </span><span>. </span><span>Unprotected </span><span>sex </span><span>and </span><span>needle </span><span>sharing </span><span>are </span><span>the </span><span>main </span><span>two </span><span>transmission </span><span>routes. </span><span>HIV </span><span>and </span><span>AIDS </span><span>have </span><span>become </span><span>a </span><span key=99 class=\"highlight blue\" depth=0 id=PROP onmouseover=\"handleHighlightMouseOver(this)\"                 onmouseout=\"handleHighlightMouseOut(this)\" labelPosition=\"left\">                <span class=\"highlight__label\"><strong>PROP</strong></span>                <span class=\"highlight__content\"><span>huge </span></span></span><span>problem </span><span>across </span><span>much </span><span>of </span><span>Eastern </span><span>Europe </span><span>, </span><span>where </span><span>the </span><span>subject </span><span>of </span><span>homosexuality </span><span>is </span><span>still </span><span>a </span><span>taboo </span><span>. </span><span>It </span><span>was </span><span>decriminalised </span><span>following </span><span>the </span><span>collapse </span><span>of </span><span>the </span><span>Soviet </span><span>Union </span><span>in </span><span>1991 </span><span>, </span><span>but </span><span>prejudice </span><span>still </span><span>remains. </span><span>A </span><span>religious </span><span>group </span><span>, </span><span>the </span><span>Union </span><span>of </span><span>Orthodox </span><span>Citizens </span><span>of </span><span>Ukraine </span><span>, </span><span>urged </span><span>people </span><span>not </span><span>to </span><span>go </span><span>to </span><span>the </span><span>concert </span><span>, </span><span>calling </span><span>it </span></div>"
      ],
      "text/plain": [
       "<IPython.core.display.HTML object>"
      ]
     },
     "metadata": {},
     "output_type": "display_data"
    },
    {
     "data": {
      "text/html": [
       "<div style=\"padding: 16px;\"><span>Ukraine </span><span>'s </span><span>Prime </span><span>Minister </span><span>Viktor </span><span>Yanukovich </span><span>is </span><span>visiting </span><span>Moscow </span><span>for </span><span>the </span><span>first </span><span>time </span><span>since </span><span>an </span><span>agreement </span><span>was </span><span>reached </span><span>to </span><span>hold </span><span>new </span><span>parliamentary </span><span>elections </span><span>later </span><span>this </span><span>year </span><span>. </span><span>It </span><span>'s </span><span>hoped </span><span>the </span><span>elections </span><span>will </span><span>end </span><span>months </span><span>of </span><span>political </span><span>deadlock </span><span>in </span><span>Ukraine </span><span>. </span><span>Officially </span><span>, </span><span>Viktor </span><span>Yanukovich </span><span>is </span><span>in </span><span>Moscow </span><span>to </span><span>boost </span><span>economic </span><span>ties </span><span>between </span><span>Russia </span><span>and </span><span>Ukraine </span><span>. </span><span>But </span><span>no </span><span>sooner </span><span>had </span><span>they </span><span>shaken </span><span>hands </span><span>, </span><span>Vladimir </span><span>Putin </span><span>turned </span><span>to </span><span>Ukrainian </span><span>politics </span><span>. </span><span>President </span><span>Putin </span><span>noted. </span><span>Earlier </span><span>this </span><span>month </span><span>Vladimir </span><span>Putin </span><span>met </span><span>his </span><span>Ukrainian </span><span>counterpart </span><span>Viktor </span><span>Yushchenko </span><span>at </span><span>the </span><span>St </span><span>Petersburg </span><span>Economic </span><span>Forum </span><span>. </span><span>After </span><span>months </span><span>of </span><span>political </span><span>turmoil </span><span>Yuschenko </span><span>and </span><span>his </span><span>Prime </span><span>Minister </span><span>have </span><span>agreed </span><span>to </span><span>an </span><span>unscheduled </span><span>parliamentary </span><span>election </span><span>in </span><span>September </span><span>. </span><span>But </span><span>it </span><span>seems </span><span>Moscow </span><span>’s </span><span>grown </span><span>weary </span><span>of </span><span>its </span><span>neighbours </span><span>troubles </span><span>. </span><span>Viktor </span><span>Yanukovich </span><span>stressed. </span><span>The </span><span>Ukrainian </span><span>Prime </span><span>Minister </span><span>went </span><span>on </span><span>to </span><span>move </span><span>things </span><span>from </span><span>the </span><span>political </span><span>crisis </span><span>to </span><span>big </span><span>money </span><span>that </span><span>he </span><span>hopes </span><span>will </span><span>be </span><span key=149 class=\"highlight blue\" depth=0 id=PROP onmouseover=\"handleHighlightMouseOver(this)\"                 onmouseout=\"handleHighlightMouseOut(this)\" labelPosition=\"left\">                <span class=\"highlight__label\"><strong>PROP</strong></span>                <span class=\"highlight__content\"><span>even </span> <span>bigger </span></span></span></div>"
      ],
      "text/plain": [
       "<IPython.core.display.HTML object>"
      ]
     },
     "metadata": {},
     "output_type": "display_data"
    },
    {
     "data": {
      "text/html": [
       "<div style=\"padding: 16px;\"><span>Modern </span><span>living </span><span>is </span><span>being </span><span>blamed </span><span>for </span><span>the </span><span>apparent </span><span>rise </span><span>in </span><span>the </span><span>number </span><span>of </span><span>people </span><span>suffering </span><span>from </span><span>allergies </span><span>world </span><span>wide </span><span>. </span><span>Estimates </span><span>suggest </span><span key=22 class=\"highlight blue\" depth=0 id=PROP onmouseover=\"handleHighlightMouseOver(this)\"                 onmouseout=\"handleHighlightMouseOut(this)\" labelPosition=\"left\">                <span class=\"highlight__label\"><strong>PROP</strong></span>                <span class=\"highlight__content\"><span>allergies </span></span></span><span>affect </span><span>at </span><span>least </span><span>40 </span><span>% </span><span>of </span><span>people </span><span>and </span><span>the </span><span>number </span><span>is </span><span>rising </span><span>. </span><span>They </span><span>say </span><span>they </span><span>come </span><span>from </span><span>anything </span><span>: </span><span>pollen </span><span>, </span><span>cats </span><span>, </span><span>dogs </span><span>and </span><span>bee </span><span>stings </span><span>are </span><span>only </span><span>the </span><span>beginning. </span><span>One </span><span>idea </span><span>to </span><span>combat </span><span>allergies </span><span>is </span><span>a </span><span>potion </span><span>made </span><span>from </span><span>cockroaches </span><span>, </span><span>in </span><span>the </span><span>form </span><span>of </span><span>a </span><span>pill </span><span>. </span><span>Professor </span><span>Boris </span><span>Pukhlyk </span><span>has </span><span>a </span><span>host </span><span>of </span><span>strange </span><span>cases </span><span>: </span><span>women </span><span key=85 class=\"highlight blue\" depth=0 id=PROP onmouseover=\"handleHighlightMouseOver(this)\"                 onmouseout=\"handleHighlightMouseOut(this)\" labelPosition=\"left\">                <span class=\"highlight__label\"><strong>PROP</strong></span>                <span class=\"highlight__content\"><span>allergic </span></span></span><span>to </span><span>their </span><span>husband </span><span>'s </span><span>dandruff </span><span>or </span><span>a </span><span>child </span><span>to </span><span>bird </span><span>droppings. </span><span>“ </span><span>warned </span><span>Boris </span><span>Pukhlik </span><span>, </span><span key=102 class=\"highlight blue\" depth=0 id=PROP onmouseover=\"handleHighlightMouseOver(this)\"                 onmouseout=\"handleHighlightMouseOut(this)\" labelPosition=\"left\">                <span class=\"highlight__label\"><strong>PROP</strong></span>                <span class=\"highlight__content\"><span>allergist </span></span></span><span>from </span><span>Vinnitsa </span><span>, </span><span>Ukraine. </span><span>People </span><span>in </span><span>the </span><span>cities </span><span>are </span><span>more </span><span>prone </span><span>to </span><span>hay </span><span>fever </span><span>and </span><span>dust </span><span>than </span><span>those </span><span>living </span><span>in </span><span>the </span><span>villages. </span><span>Some </span><span>specialists </span><span>predict </span><span>nearly </span><span>50 </span><span>% </span><span>of </span><span>the </span><span>world </span><span>'s </span><span>population </span><span>will </span><span>suffer </span><span>from </span><span>allergies </span><span>by </span><span>the </span><span>end </span><span>of </span><span>the </span><span>21st </span><span>century. </span></div>"
      ],
      "text/plain": [
       "<IPython.core.display.HTML object>"
      ]
     },
     "metadata": {},
     "output_type": "display_data"
    },
    {
     "data": {
      "text/html": [
       "<div style=\"padding: 16px;\"><span>The </span><span>plane </span><span>with </span><span>the </span><span>second </span><span>group </span><span>of </span><span>Russian </span><span>evacuees </span><span>from </span><span>Gaza </span><span>has </span><span>landed </span><span>at </span><span>Moscow </span><span>Domodedovo </span><span>Airport </span><span>. </span><span>They </span><span>were </span><span>picked </span><span>up </span><span>in </span><span>the </span><span>Jordanian </span><span>capital </span><span>, </span><span>Amman </span><span>, </span><span>by </span><span>a </span><span>Russian </span><span>emergencies </span><span>plane </span><span>. </span><span>For </span><span>some </span><span>it </span><span>’s </span><span>a </span><span>reunion </span><span>, </span><span>for </span><span>others </span><span>a </span><span>safe </span><span>homecoming </span><span>, </span><span>but </span><span>for </span><span>all </span><span>fleeing </span><span>Gaza </span><span>and </span><span>arriving </span><span>here </span><span>safely </span><span>in </span><span>Russia </span><span>is </span><span>a </span><span>relief. </span><span>The </span><span>situation </span><span>in </span><span>Gaza </span><span>has </span><span>settled </span><span>down </span><span>now </span><span>. </span><span>But </span><span>people </span><span>are </span><span key=74 class=\"highlight blue\" depth=0 id=PROP onmouseover=\"handleHighlightMouseOver(this)\"                 onmouseout=\"handleHighlightMouseOut(this)\" labelPosition=\"left\">                <span class=\"highlight__label\"><strong>PROP</strong></span>                <span class=\"highlight__content\"><span>afraid </span> <span>that </span> <span>it </span> <span>could </span> <span>worsen </span> <span>again </span> <span>at </span> <span>any </span> <span>moment </span></span></span><span>, </span><span>refugees </span><span>say </span><span>. </span><span>Around </span><span>30 </span><span>Russian </span><span>and </span><span>former </span><span>Soviet </span><span>Union </span><span>citizens </span><span>decided </span><span>to </span><span>leave </span><span>Gaza </span><span>on </span><span>Monday </span><span>as </span><span>part </span><span>of </span><span>the </span><span>second </span><span>evacuation </span><span>organised </span><span>by </span><span>the </span><span>Russian </span><span>embassy </span><span>, </span><span>although </span><span>originally </span><span>the </span><span>number </span><span>stood </span><span>at </span><span>160.On </span><span>Monday </span><span>evening </span><span>, </span><span>37 </span><span>people </span><span>arrived </span><span>in </span><span>the </span><span>Jordanian </span><span>capital </span><span>. </span><span>The </span><span>plane </span><span>which </span><span>has </span><span>landed </span><span>at </span><span>Moscow </span><span>'s </span><span>Domodedovo </span><span>Airport </span><span>had </span><span>22 </span><span>people </span><span>onboard </span><span>, </span><span>8 </span><span>of </span><span>them </span><span>children </span><span>. </span><span>It </span><span>has </span><span>been </span><span>reported </span><span>that </span><span>there </span><span>are </span><span>15 </span><span>Russian </span><span>citizens </span><span>, </span><span>4 </span><span>Belarusian </span><span>nationals </span><span>, </span><span>and </span><span>3 </span><span>citizens </span><span>of </span><span>Kazakhstan </span></div>"
      ],
      "text/plain": [
       "<IPython.core.display.HTML object>"
      ]
     },
     "metadata": {},
     "output_type": "display_data"
    },
    {
     "data": {
      "text/html": [
       "<div style=\"padding: 16px;\"><span>On </span><span>Ukraine </span><span>’s </span><span>Crimean </span><span>Peninsula </span><span>thousands </span><span>of </span><span>Tatars </span><span>are </span><span>taking </span><span>action </span><span>to </span><span>redress </span><span>what </span><span>they </span><span>consider </span><span>to </span><span>be </span><span>a </span><span>historical </span><span>crime </span><span>. </span><span>In </span><span>the </span><span>1940 </span><span>'s </span><span>, </span><span>Stalin </span><span>deported </span><span>over </span><span>200,000 </span><span>Tatars </span><span>, </span><span>claiming </span><span>they </span><span>were </span><span key=36 class=\"highlight blue\" depth=0 id=PROP onmouseover=\"handleHighlightMouseOver(this)\"                 onmouseout=\"handleHighlightMouseOut(this)\" labelPosition=\"left\">                <span class=\"highlight__label\"><strong>PROP</strong></span>                <span class=\"highlight__content\"><span>Nazi </span> <span>collaborators </span></span></span><span>. </span><span>After </span><span>the </span><span>fall </span><span>of </span><span>the </span><span>Soviet </span><span>Union </span><span>, </span><span>they </span><span>returned </span><span>to </span><span>their </span><span>homeland </span><span>to </span><span>find </span><span>their </span><span>land </span><span>occupied </span><span>by </span><span>others </span><span>. </span><span>Tatars </span><span>are </span><span>now </span><span>struggling </span><span>to </span><span>reclaim </span><span>land </span><span>they </span><span>consider </span><span>to </span><span>be </span><span>theirs </span><span>despite </span><span>the </span><span>fact </span><span>they </span><span>were </span><span>traditionally </span><span>nomadic. </span><span>Land </span><span>in </span><span>is </span><span>some </span><span>of </span><span>the </span><span>most </span><span>expensive </span><span>and </span><span>sought </span><span>after </span><span>in </span><span>Ukraine </span><span>. </span><span>It </span><span>has </span><span>no </span><span>gas </span><span>, </span><span>water </span><span>or </span><span>proper </span><span>roads </span><span>but </span><span>it </span><span>Edae </span><span>Rasimova </span><span>was </span><span>among </span><span>200,000 </span><span>Tatars </span><span>deported </span><span>to </span><span>Central </span><span>Asia </span><span>on </span><span>the </span><span>orders </span><span>of </span><span>Stalin.she </span><span>remembers </span><span>, </span><span>crying. </span><span>Edae </span><span>Rasimova </span><span>’s </span><span>family </span><span>seized </span><span>a </span><span>field </span><span>as </span><span>a </span><span>retribution </span><span>for </span><span>being </span><span>exiled </span><span>in </span><span>the </span><span>Second </span><span>World </span><span>War. </span><span>Charged </span><span>for </span><span>collaboration </span><span>with </span></div>"
      ],
      "text/plain": [
       "<IPython.core.display.HTML object>"
      ]
     },
     "metadata": {},
     "output_type": "display_data"
    },
    {
     "data": {
      "text/html": [
       "<div style=\"padding: 16px;\"><span>Israeli </span><span>police </span><span>have </span><span>broken </span><span>up </span><span>an </span><span>organ </span><span>transplanting </span><span>ring </span><span>that </span><span>persuaded </span><span>dozens </span><span>of </span><span>Israelis </span><span>to </span><span>have </span><span>their </span><span>kidneys </span><span>removed </span><span>in </span><span>Ukraine </span><span>. </span><span>But </span><span>, </span><span>because </span><span>Israeli </span><span>law </span><span>does </span><span>not </span><span>explicitly </span><span>forbid </span><span>the </span><span>trafficking </span><span>of </span><span>organs </span><span>, </span><span>police </span><span>may </span><span>have </span><span>to </span><span>release </span><span>the </span><span>suspects </span><span>. </span><span>In </span><span>the </span><span>eternal </span><span>search </span><span>for </span><span>money </span><span>people </span><span>go </span><span>to </span><span>different </span><span>lengths </span><span>to </span><span>earn </span><span>a </span><span>quick </span><span>buck </span><span>. </span><span>Some </span><span>work </span><span>overtime </span><span>, </span><span>others </span><span>take </span><span>on </span><span>extra </span><span>projects </span><span>while </span><span>still </span><span>some </span><span>opt </span><span>for </span><span>something </span><span>that </span><span>does </span><span>n’t </span><span>involve </span><span>too </span><span>much </span><span>effort </span><span>but </span><span>guarantees </span><span>a </span><span key=86 class=\"highlight blue\" depth=0 id=PROP onmouseover=\"handleHighlightMouseOver(this)\"                 onmouseout=\"handleHighlightMouseOut(this)\" labelPosition=\"left\">                <span class=\"highlight__label\"><strong>PROP</strong></span>                <span class=\"highlight__content\"><span>handsome </span></span></span><span>$ </span><span>US </span><span>35,000 </span><span>return </span><span>– </span><span>the </span><span key=93 class=\"highlight blue\" depth=0 id=PROP onmouseover=\"handleHighlightMouseOver(this)\"                 onmouseout=\"handleHighlightMouseOut(this)\" labelPosition=\"left\">                <span class=\"highlight__label\"><strong>PROP</strong></span>                <span class=\"highlight__content\"><span>rather </span> <span>unsavoury </span></span></span><span>option </span><span>of </span><span>selling </span><span>body </span><span>organs. </span><span>This </span><span>kind </span><span>of </span><span>business </span><span>is </span><span>very </span><span>popular </span><span>in </span><span>poor </span><span>countries </span><span>– </span><span>in </span><span>Africa </span><span>, </span><span>Latin </span><span>America </span><span>and </span><span>across </span><span>Russia </span><span>. </span><span>In </span><span>Israel </span><span>, </span><span>police </span><span>are </span><span>dealing </span><span>with </span><span>it </span><span>for </span><span>the </span><span>first </span><span>time </span><span>. </span><span>And </span><span>they </span><span>would </span><span>n’t </span><span>have </span><span>become </span><span>aware </span><span>of </span><span>it </span><span>if </span><span>the </span><span>golden </span><span>law </span><span>of </span><span>business </span><span>had </span><span>not </span><span>been </span><span>broken </span><span>– </span><span>to </span><span>pay </span><span>for </span><span>a </span><span>service </span><span>rendered. </span></div>"
      ],
      "text/plain": [
       "<IPython.core.display.HTML object>"
      ]
     },
     "metadata": {},
     "output_type": "display_data"
    },
    {
     "data": {
      "text/html": [
       "<div style=\"padding: 16px;\"><span>Ukraine </span><span>marks </span><span>5th </span><span>anniversary </span><span>of </span><span>the </span><span>air </span><span>show </span><span key=8 class=\"highlight blue\" depth=0 id=PROP onmouseover=\"handleHighlightMouseOver(this)\"                 onmouseout=\"handleHighlightMouseOut(this)\" labelPosition=\"left\">                <span class=\"highlight__label\"><strong>PROP</strong></span>                <span class=\"highlight__content\"><span>disaster </span></span></span><span>which </span><span>claimed </span><span>lives </span><span>of </span><span>77 </span><span>people </span><span>. </span><span>The </span><span>tragedy </span><span>happened </span><span>in </span><span>western </span><span>Ukrainian </span><span>city </span><span>of </span><span>Lvov </span><span>when </span><span>a </span><span>fighter </span><span>jet </span><span>performing </span><span>risky </span><span>manoeuvres </span><span>sliced </span><span>into </span><span>a </span><span>crowd </span><span>. </span><span>A </span><span>10-year </span><span>- </span><span>old </span><span>girl </span><span>Nastya </span><span>never </span><span>speaks </span><span>about </span><span>her </span><span>parents </span><span>. </span><span>But </span><span>she </span><span>remembers </span><span>them </span><span>very </span><span>well </span><span>. </span><span>She </span><span>has </span><span>their </span><span>pictures </span><span>in </span><span>a </span><span>central </span><span>place </span><span>of </span><span>her </span><span>room. </span><span>Her </span><span>father </span><span>was </span><span>a </span><span>pilot </span><span>. </span><span>On </span><span>that </span><span>very </span><span>day </span><span>he </span><span>took </span><span>his </span><span>family </span><span>to </span><span>the </span><span>60th </span><span>anniversary </span><span>of </span><span>Ukraine </span><span>'s </span><span>fighter </span><span>squadron </span><span>for </span><span>an </span><span>exceptional </span><span>aviation </span><span>show </span><span>. </span><span>But </span><span>the </span><span>airshow </span><span>turned </span><span>into </span><span>a </span><span>tragedy. </span><span>A </span><span>Su-27 </span><span>warplane </span><span>was </span><span>performing </span><span>risky </span><span>aerobatic </span><span>manoeuvres </span><span>when </span><span>it </span><span>clipped </span><span>the </span><span>ground. </span><span>It </span><span>sheared </span><span>through </span><span>a </span><span>crowd </span><span>of </span><span>hundreds </span><span>of </span><span>spectators </span><span>before </span><span>exploding </span><span>in </span><span>a </span><span>ball </span><span>of </span><span>fire. </span><span>The </span><span>two </span><span>crew </span><span>ejected </span><span>and </span><span>survived </span><span>. </span><span>They </span><span>are </span><span>currently </span><span>serving </span><span>from </span><span>five </span><span>to </span><span>fourteen </span></div>"
      ],
      "text/plain": [
       "<IPython.core.display.HTML object>"
      ]
     },
     "metadata": {},
     "output_type": "display_data"
    },
    {
     "data": {
      "text/html": [
       "<div style=\"padding: 16px;\"><span>In </span><span>Ukraine </span><span>, </span><span>campaigning </span><span>has </span><span>begun </span><span>for </span><span>the </span><span>parliamentary </span><span>elections </span><span>set </span><span>for </span><span>September </span><span>30 </span><span>. </span><span>The </span><span>country </span><span>will </span><span>have </span><span>the </span><span>chance </span><span>to </span><span>choose </span><span>a </span><span>new </span><span>political </span><span>path </span><span>, </span><span>and </span><span>voters </span><span>hope </span><span>it </span><span>will </span><span>end </span><span>months </span><span>of </span><span>political </span><span>instability </span><span>in </span><span>the </span><span>country </span><span>. </span><span>Extraordinary </span><span>elections </span><span>in </span><span>Ukraine </span><span>are </span><span>attracting </span><span>extraordinary </span><span>people </span><span>. </span><span>Drag </span><span>queen </span><span>Verka </span><span>Serdyuchka </span><span>has </span><span>announced </span><span>he </span><span>is </span><span>going </span><span>to </span><span>run </span><span>for </span><span>parliament </span><span>. </span><span>Placed </span><span>second </span><span>in </span><span>this </span><span>year </span><span>'s </span><span>Eurovision </span><span>song </span><span>contest </span><span>, </span><span>the </span><span>pop </span><span>singer </span><span>is </span><span>extremely </span><span>popular </span><span>at </span><span>home. </span><span>His </span><span>party </span><span>Against </span><span>All </span><span>may </span><span>even </span><span>beat </span><span>some </span><span>key </span><span>players </span><span>like </span><span>the </span><span>socialists </span><span>according </span><span>to </span><span>the </span><span>latest </span><span>polls </span><span>. </span><span>To </span><span>many </span><span>Serduchka </span><span>'s </span><span>hit </span><span>“ </span><span>Lasha </span><span>tumbai </span><span>” </span><span>sounded </span><span>like </span><span>“ </span><span key=114 class=\"highlight blue\" depth=0 id=PROP onmouseover=\"handleHighlightMouseOver(this)\"                 onmouseout=\"handleHighlightMouseOut(this)\" labelPosition=\"left\">                <span class=\"highlight__label\"><strong>PROP</strong></span>                <span class=\"highlight__content\"><span>Russia </span> <span>goodbye </span></span></span><span>” </span><span>which </span><span>offended </span><span>its </span><span>much </span><span>larger </span><span>neighbour. </span><span>Indeed </span><span>relations </span><span>with </span><span>Russia </span><span>rank </span><span>high </span><span>in </span><span>the </span><span>programmes </span><span>of </span><span>three </span><span>major </span><span>parties </span><span>that </span><span>qualify </span><span>for </span><span>seats </span><span>in </span><span>the </span><span>Rada </span><span>( </span><span>the </span><span>parliament). </span><span>The </span><span>Our </span><span>Ukraine </span><span>party </span><span>is </span><span>the </span><span>most </span><span>popular </span><span>among </span><span>the </span><span>nationalists </span></div>"
      ],
      "text/plain": [
       "<IPython.core.display.HTML object>"
      ]
     },
     "metadata": {},
     "output_type": "display_data"
    },
    {
     "data": {
      "text/html": [
       "<div style=\"padding: 16px;\"><span>There </span><span>is </span><span>mounting </span><span>concern </span><span>the </span><span>outbreak </span><span>of </span><span>foot </span><span>- </span><span>and </span><span>- </span><span>mouth </span><span>disease </span><span>in </span><span>the </span><span>UK </span><span>could </span><span>be </span><span>spreading </span><span>. </span><span>A </span><span>second </span><span>case </span><span>of </span><span>the </span><span>virus </span><span>has </span><span>been </span><span>found </span><span>at </span><span>a </span><span>farm </span><span>in </span><span>Surrey </span><span>near </span><span>to </span><span>the </span><span>site </span><span>of </span><span>the </span><span>first </span><span>outbreak </span><span>. </span><span>Investigations </span><span>into </span><span>the </span><span>source </span><span>of </span><span>the </span><span>disease </span><span>are </span><span>focusing </span><span>on </span><span>a </span><span>nearby </span><span>research </span><span>lab </span><span>and </span><span>experts </span><span>say </span><span>recent </span><span>flooding </span><span>may </span><span>have </span><span>helped </span><span>spread </span><span>the </span><span>virus. </span><span>Meanwhile </span><span>, </span><span>British </span><span>officials </span><span>have </span><span>begun </span><span key=74 class=\"highlight blue\" depth=0 id=PROP onmouseover=\"handleHighlightMouseOver(this)\"                 onmouseout=\"handleHighlightMouseOut(this)\" labelPosition=\"left\">                <span class=\"highlight__label\"><strong>PROP</strong></span>                <span class=\"highlight__content\"><span>slaughtering </span></span></span><span>a </span><span>second </span><span>herd </span><span>of </span><span>cattle </span><span>suspected </span><span>of </span><span>being </span><span>infected </span><span>with </span><span>foot </span><span>- </span><span>and </span><span>- </span><span>mouth </span><span>disease </span><span>. </span><span>About </span><span>120 </span><span>cattle </span><span>were </span><span>culled </span><span>on </span><span>Saturday </span><span>after </span><span>the </span><span>disease </span><span>was </span><span>found </span><span>at </span><span>a </span><span>farm </span><span>in </span><span>southern </span><span>England </span><span>. </span><span>Russia </span><span>and </span><span>Ukraine </span><span>are </span><span>among </span><span>the </span><span>countries </span><span>that </span><span>have </span><span>restricted </span><span>imports </span><span>of </span><span>livestock </span><span>and </span><span>meat </span><span>products </span><span>from </span><span>the </span><span>UK. </span><span>The </span><span>ban </span><span>will </span><span>have </span><span>little </span><span>effect </span><span>on </span><span>Russian </span><span>consumers </span><span>or </span><span>British </span><span>producers </span><span>as </span><span>the </span><span>amount </span><span>of </span><span>meat </span><span>imported </span><span>from </span><span>the </span><span>UK </span><span>to </span><span>Russia </span><span>is </span><span>minimal </span><span>. </span></div>"
      ],
      "text/plain": [
       "<IPython.core.display.HTML object>"
      ]
     },
     "metadata": {},
     "output_type": "display_data"
    },
    {
     "data": {
      "text/html": [
       "<div style=\"padding: 16px;\"><span>An </span><span>application </span><span>to </span><span>register </span><span>Yulia </span><span>Timoshenko </span><span>'s </span><span>Bloc </span><span>for </span><span>the </span><span>next </span><span>month </span><span>'s </span><span>elections </span><span>in </span><span>Ukraine </span><span>has </span><span>been </span><span>rejected </span><span>. </span><span>Now </span><span>, </span><span>apparent </span><span>administrative </span><span>oversight </span><span>is </span><span>threatening </span><span>to </span><span>become </span><span>a </span><span key=30 class=\"highlight blue\" depth=0 id=PROP onmouseover=\"handleHighlightMouseOver(this)\"                 onmouseout=\"handleHighlightMouseOut(this)\" labelPosition=\"left\">                <span class=\"highlight__label\"><strong>PROP</strong></span>                <span class=\"highlight__content\"><span>major </span> <span>political </span> <span>scandal </span></span></span><span>. </span><span>What </span><span>could </span><span>simply </span><span>be </span><span>an </span><span>administrative </span><span>oversight </span><span>is </span><span>threatening </span><span>to </span><span>become </span><span key=43 class=\"highlight blue\" depth=0 id=PROP onmouseover=\"handleHighlightMouseOver(this)\"                 onmouseout=\"handleHighlightMouseOut(this)\" labelPosition=\"left\">                <span class=\"highlight__label\"><strong>PROP</strong></span>                <span class=\"highlight__content\"><span>the </span> <span>latest </span> <span>major </span> <span>political </span> <span>scandal </span></span></span><span>in </span><span>Ukraine </span><span>. </span><span>An </span><span>application </span><span>to </span><span>register </span><span>Yulia </span><span>Timoshenko </span><span>'s </span><span>political </span><span>bloc </span><span>for </span><span>next </span><span>month </span><span>'s </span><span>elections </span><span>has </span><span>been </span><span>rejected </span><span>. </span><span>The </span><span>official </span><span>form </span><span>failed </span><span>to </span><span>give </span><span>the </span><span>exact </span><span>addresses </span><span>of </span><span>the </span><span>prospective </span><span>parliamentary </span><span>candidates </span><span>. </span><span>Without </span><span>an </span><span>address </span><span>, </span><span>it </span><span>seems </span><span>, </span><span>you </span><span>ca </span><span>n’t </span><span>run </span><span>for </span><span>Parliament </span><span>in </span><span>Ukraine </span><span>. </span><span>The </span><span>Central </span><span>Election </span><span>Commission </span><span>, </span><span>or </span><span>CEC </span><span>, </span><span>refused </span><span>to </span><span>register </span><span>Yulia </span><span>Timoshenko </span><span>’s </span><span>bloc </span><span>for </span><span>precisely </span><span>this </span><span>reason </span><span>. </span><span>Four </span><span>hundred </span><span>and </span><span>fifty </span><span>would </span><span>- </span><span>be </span><span>deputies </span><span>failed </span><span>to </span><span>say </span><span>exactly </span><span>where </span><span>they </span><span>lived </span><span>in </span><span>application </span><span>forms </span><span>. </span><span>Their </span><span key=136 class=\"highlight blue\" depth=0 id=PROP onmouseover=\"handleHighlightMouseOver(this)\"                 onmouseout=\"handleHighlightMouseOut(this)\" labelPosition=\"left\">                <span class=\"highlight__label\"><strong>PROP</strong></span>                <span class=\"highlight__content\"><span>fiery </span> <span>leader </span></span></span><span>accused </span><span>the </span><span>government </span><span>of </span><span>urging </span><span>the </span><span>CEC </span><span>to </span><span>disqualify </span><span>her </span><span>party </span><span>from </span><span>the </span><span>election </span><span>. </span><span>It </span><span>'s </span><span>surprising </span><span>considering </span><span>how </span><span>much </span><span>time </span><span>has </span><span>passed </span><span>since </span><span>yesterday </span><span>, </span><span>but </span><span>no </span><span>top </span><span>official </span><span>or </span><span>political </span><span>party </span><span>has </span><span>reacted </span><span>to </span><span>this </span><span key=175 class=\"highlight blue\" depth=0 id=PROP onmouseover=\"handleHighlightMouseOver(this)\"                 onmouseout=\"handleHighlightMouseOut(this)\" labelPosition=\"left\">                <span class=\"highlight__label\"><strong>PROP</strong></span>                <span class=\"highlight__content\"><span>flagrant </span> <span>breach </span> <span>of </span> <span>democratic </span> <span>norms </span></span></span><span>. </span><span>Nobody </span><span>has </span></div>"
      ],
      "text/plain": [
       "<IPython.core.display.HTML object>"
      ]
     },
     "metadata": {},
     "output_type": "display_data"
    },
    {
     "data": {
      "text/html": [
       "<div style=\"padding: 16px;\"><span>It </span><span>is </span><span>the </span><span>third </span><span>day </span><span>of </span><span>protests </span><span>in </span><span>Kiev </span><span>and </span><span>the </span><span>camp </span><span>outside </span><span>Ukraine </span><span>'s </span><span>Central </span><span>Election </span><span>Commission </span><span>keeps </span><span>growing </span><span>. </span><span>About </span><span>3,000 </span><span>supporters </span><span>of </span><span>Yulia </span><span>Timoshenko </span><span>have </span><span>arrived </span><span>from </span><span>regions </span><span>today </span><span>and </span><span>are </span><span>now </span><span>camping </span><span>in </span><span>front </span><span>of </span><span>the </span><span>Election </span><span>Commission </span><span>. </span><span>People </span><span>are </span><span>dancing </span><span>, </span><span>singing </span><span>and </span><span>playing </span><span>cards </span><span>. </span><span>The </span><span>weather </span><span>is </span><span>not </span><span>as </span><span>hot </span><span>as </span><span>it </span><span>was </span><span>for </span><span>the </span><span>last </span><span>two </span><span>days </span><span>and </span><span>it </span><span>is </span><span>much </span><span>easier </span><span>for </span><span>people </span><span>to </span><span>camp </span><span>outside. </span><span>Deputies </span><span>of </span><span>the </span><span>party </span><span>of </span><span>Yulia </span><span>Timoshenko </span><span>visit </span><span>them </span><span>regularly </span><span>to </span><span>explain </span><span>to </span><span>people </span><span>what </span><span>is </span><span>going </span><span>on </span><span>in </span><span>the </span><span>CEC </span><span>. </span><span>450 </span><span>deputies </span><span>failed </span><span>to </span><span>register </span><span>. </span><span>They </span><span>corrupted </span><span>application </span><span>forms </span><span>and </span><span>as </span><span>a </span><span>result </span><span>the </span><span>CEC </span><span>refused </span><span>to </span><span>register </span><span>them </span><span>– </span><span>the </span><span>Commission </span><span>says </span><span>. </span><span>So </span><span>Yulia </span><span>Timoshenko </span><span>brought </span><span>people </span><span>to </span><span>the </span><span>streets </span><span>explaining </span><span>to </span><span>them </span><span>that </span><span>this </span><span>must </span><span>be </span><span>a </span><span>campaign </span><span>against </span><span>her </span><span>party </span><span>in </span><span>order </span><span>to </span><span>exclude </span><span>it </span><span>from </span><span>the </span><span>election </span><span>process. </span><span>Ukrainian </span><span>politicians </span><span>from </span><span>the </span><span>Party </span><span>of </span><span>Regions </span><span>believe </span><span>that </span><span key=161 class=\"highlight blue\" depth=0 id=PROP onmouseover=\"handleHighlightMouseOver(this)\"                 onmouseout=\"handleHighlightMouseOut(this)\" labelPosition=\"left\">                <span class=\"highlight__label\"><strong>PROP</strong></span>                <span class=\"highlight__content\"><span>this </span> <span>scandal </span> <span>was </span></span></span><span key=162 class=\"highlight blue\" depth=0 id=PROP onmouseover=\"handleHighlightMouseOver(this)\"                 onmouseout=\"handleHighlightMouseOut(this)\" labelPosition=\"left\">                <span class=\"highlight__label\"><strong>PROP</strong></span>                <span class=\"highlight__content\"><span>masterminded </span> <span>by </span></span></span><span>Timoshenko </span><span>in </span><span>order </span><span>to </span><span>start </span><span>the </span><span>election </span><span>campaign </span><span>early </span><span>and </span><span>draw </span><span>as </span><span>much </span><span>attention </span><span>as </span><span>possible </span></div>"
      ],
      "text/plain": [
       "<IPython.core.display.HTML object>"
      ]
     },
     "metadata": {},
     "output_type": "display_data"
    },
    {
     "data": {
      "text/html": [
       "<div style=\"padding: 16px;\"><span>Ukraine </span><span>'s </span><span>President </span><span>Viktor </span><span>Yushchenko </span><span>says </span><span>the </span><span>crisis </span><span>over </span><span>the </span><span>ban </span><span>on </span><span>Yulia </span><span>Timoshenko </span><span>'s </span><span>party </span><span>from </span><span>next </span><span>months </span><span>elections </span><span>could </span><span>be </span><span>settled </span><span>in </span><span>court </span><span>on </span><span>Tuesday </span><span>. </span><span>The </span><span>Election </span><span>Commission </span><span>has </span><span>so </span><span>far </span><span>refused </span><span>to </span><span>register </span><span>the </span><span>party </span><span>’s </span><span>candidates </span><span>. </span><span>Yuliya </span><span>Timoshenko </span><span>’s </span><span>people </span><span>are </span><span>demanding </span><span>officials </span><span>to </span><span>register </span><span>their </span><span>party </span><span>for </span><span>the </span><span>election </span><span>. </span><span>More </span><span>than </span><span>a </span><span>thousand </span><span>supporters </span><span>took </span><span>to </span><span>the </span><span>streets </span><span>after </span><span>the </span><span>Central </span><span>Election </span><span>Commission </span><span>found </span><span>technical </span><span>errors </span><span>in </span><span>application </span><span>forms </span><span>. </span><span>The </span><span key=79 class=\"highlight blue\" depth=0 id=PROP onmouseover=\"handleHighlightMouseOver(this)\"                 onmouseout=\"handleHighlightMouseOut(this)\" labelPosition=\"left\">                <span class=\"highlight__label\"><strong>PROP</strong></span>                <span class=\"highlight__content\"><span>fiery </span> <span>opposition </span></span></span><span>leader </span><span>called </span><span>the </span><span>move </span><span>politically </span><span>motivated </span><span>and </span><span>vowed </span><span>to </span><span>contest </span><span>it </span><span>in </span><span>court. </span><span>The </span><span>rain </span><span>did </span><span>n’t </span><span>put </span><span>off </span><span>the </span><span>protesters </span><span>. </span><span>After </span><span>two </span><span>days </span><span>of </span><span key=106 class=\"highlight blue\" depth=0 id=PROP onmouseover=\"handleHighlightMouseOver(this)\"                 onmouseout=\"handleHighlightMouseOut(this)\" labelPosition=\"left\">                <span class=\"highlight__label\"><strong>PROP</strong></span>                <span class=\"highlight__content\"><span>singing </span> <span>and </span> <span>dancing </span></span></span><span>, </span><span>they </span><span>are </span><span>now </span><span>chanting </span><span>sack </span><span>the </span><span>election </span><span>officials </span><span>and </span><span>register </span><span>Yuliya </span><span>Timoshenko. </span><span>But </span><span>the </span><span>Central </span><span>Election </span><span>Commission </span><span>is </span><span>unlikely </span><span>to </span><span>give </span><span>up </span><span>that </span><span>soon </span><span>. </span><span>They </span><span>rebuffed </span><span>any </span><span>pressure </span><span>from </span><span>the </span><span>government </span><span>on </span><span>their </span><span>decision </span><span>, </span><span>and </span><span>called </span><span>on </span><span>Yuliya </span><span>Timoshenko </span><span>’s </span><span>block </span><span>to </span><span>submit </span><span>her </span><span>delegates </span><span>’ </span><span>full </span><span>house </span><span>address </span><span>any </span><span>time </span><span>they </span><span>like </span><span>to </span><span>stop </span><span>the </span><span>scandal </span></div>"
      ],
      "text/plain": [
       "<IPython.core.display.HTML object>"
      ]
     },
     "metadata": {},
     "output_type": "display_data"
    },
    {
     "data": {
      "text/html": [
       "<div style=\"padding: 16px;\"><span>Racist </span><span>and </span><span>neo </span><span>- </span><span>Nazi </span><span>crimes </span><span>are </span><span>on </span><span>the </span><span>rise </span><span>throughout </span><span>Europe </span><span>and </span><span>the </span><span>United </span><span>States </span><span>. </span><span>That </span><span>’s </span><span>according </span><span>to </span><span>recently </span><span>published </span><span>surveys </span><span>by </span><span>human </span><span>rights </span><span>groups </span><span>. </span><span>At </span><span>least </span><span>310 </span><span>people </span><span>have </span><span>fallen </span><span>victim </span><span>to </span><span>neo </span><span>- </span><span>Nazis </span><span>in </span><span>Russia </span><span>this </span><span>year </span><span>alone </span><span>. </span><span>37 </span><span>of </span><span>them </span><span>died. </span><span>It </span><span>represents </span><span>a </span><span>rise </span><span>of </span><span>22 </span><span>% </span><span>over </span><span>the </span><span>same </span><span>period </span><span>last </span><span>year </span><span>, </span><span>and </span><span>the </span><span>nature </span><span>of </span><span>the </span><span>attacks </span><span>has </span><span>reportedly </span><span>become </span><span>more </span><span key=74 class=\"highlight blue\" depth=0 id=PROP onmouseover=\"handleHighlightMouseOver(this)\"                 onmouseout=\"handleHighlightMouseOut(this)\" labelPosition=\"left\">                <span class=\"highlight__label\"><strong>PROP</strong></span>                <span class=\"highlight__content\"><span>brutal. </span></span></span><span>Moscow </span><span>, </span><span>St. </span><span>Petersburg </span><span>and </span><span>Nizhny </span><span>Novgorod </span><span>have </span><span>registered </span><span>the </span><span>most </span><span>racist </span><span>assaults </span><span>among </span><span>Russia </span><span>'s </span><span>cities. </span><span>Ukraine </span><span>also </span><span>reports </span><span>a </span><span>sharp </span><span>rise </span><span>in </span><span>crimes </span><span>against </span><span>foreigners </span><span>, </span><span>particularly </span><span>black </span><span>people. </span><span>While </span><span>in </span><span>other </span><span>countries </span><span>in </span><span>Europe </span><span>, </span><span>there </span><span>is </span><span>growing </span><span>concern </span><span>about </span><span>the </span><span>resurgence </span><span>of </span><span>anti </span><span>- </span><span>Semitism </span><span>. </span><span>commented </span><span>Michel </span><span>Wieviorka </span><span>, </span><span>a </span><span>French </span><span>sociologist </span><span>and </span><span>expert </span><span>on </span><span>extremism. </span></div>"
      ],
      "text/plain": [
       "<IPython.core.display.HTML object>"
      ]
     },
     "metadata": {},
     "output_type": "display_data"
    },
    {
     "data": {
      "text/html": [
       "<div style=\"padding: 16px;\"><span>Sorochinskaya </span><span>yarmarka </span><span>, </span><span>or </span><span>fair </span><span>, </span><span>has </span><span>been </span><span>the </span><span>subject </span><span>of </span><span>an </span><span>opera </span><span>by </span><span>famous </span><span>Russian </span><span>composer </span><span>Modest </span><span>Mussorgsky </span><span>and </span><span>immortalised </span><span>in </span><span>literature </span><span>by </span><span>Nikolay </span><span>Gogol </span><span>. </span><span>Vendors </span><span>from </span><span>all </span><span>over </span><span>Eastern </span><span>Europe </span><span>go </span><span>there </span><span>for </span><span>five </span><span>days </span><span>to </span><span>mingle </span><span>and </span><span>sell </span><span>goods </span><span>& </span><span>ndasThe </span><span>fair </span><span>is </span><span>rich </span><span>on </span><span>haggling </span><span>, </span><span>arguing </span><span>and </span><span>definitely </span><span>politics </span><span>, </span><span>especially </span><span>on </span><span>the </span><span>eve </span><span>of </span><span>another </span><span>election </span><span>campaign. </span><span>President </span><span>Yushchenko </span><span>, </span><span key=67 class=\"highlight blue\" depth=0 id=PROP onmouseover=\"handleHighlightMouseOver(this)\"                 onmouseout=\"handleHighlightMouseOut(this)\" labelPosition=\"left\">                <span class=\"highlight__label\"><strong>PROP</strong></span>                <span class=\"highlight__content\"><span>the </span> <span>country </span> <span>'s </span> <span>most </span> <span>famous </span> <span>beekeeper </span></span></span><span>, </span><span>looks </span><span>down </span><span>at </span><span>the </span><span key=73 class=\"highlight blue\" depth=0 id=PROP onmouseover=\"handleHighlightMouseOver(this)\"                 onmouseout=\"handleHighlightMouseOut(this)\" labelPosition=\"left\">                <span class=\"highlight__label\"><strong>PROP</strong></span>                <span class=\"highlight__content\"><span>bustling </span></span></span><span>crowds </span><span>from </span><span>numerous </span><span>billboards </span><span>, </span><span>while </span><span>supporters </span><span>of </span><span>the </span><span>Prime </span><span>Minister </span><span>are </span><span>promoting </span><span>their </span><span>party </span><span>right </span><span>next </span><span>to </span><span>a </span><span key=93 class=\"highlight blue\" depth=0 id=PROP onmouseover=\"handleHighlightMouseOver(this)\"                 onmouseout=\"handleHighlightMouseOut(this)\" labelPosition=\"left\">                <span class=\"highlight__label\"><strong>PROP</strong></span>                <span class=\"highlight__content\"><span>dummy </span></span></span><span>bear </span><span>, </span><span>a </span><span>popular </span><span>photo </span><span>opportunity. </span><span>It </span><span>seems </span><span>that </span><span>it </span><span>has </span><span>n't </span><span>changed </span><span>much </span><span>since </span><span>the </span><span>19th </span><span>century. </span><span>Sheep </span><span>, </span><span>pots </span><span>, </span><span>wedding </span><span>pies </span><span>, </span><span>kitchenware </span><span>, </span><span>and </span><span>no </span><span>map </span><span>of </span><span>where </span><span>exactly </span><span>these </span><span>things </span><span>are </span><span>– </span><span>vendors </span><span>may </span><span>have </span><span>done </span><span>it </span><span>on </span><span>purpose </span><span>to </span><span>restore </span><span>the </span><span>original </span><span>atmosphere </span><span>. </span></div>"
      ],
      "text/plain": [
       "<IPython.core.display.HTML object>"
      ]
     },
     "metadata": {},
     "output_type": "display_data"
    },
    {
     "data": {
      "text/html": [
       "<div style=\"padding: 16px;\"><span>In </span><span>Ukraine </span><span>, </span><span>24 </span><span>political </span><span>parties </span><span>have </span><span>applied </span><span>to </span><span>contest </span><span>the </span><span>country </span><span>'s </span><span>parliamentary </span><span>elections </span><span>. </span><span>The </span><span>elections </span><span>are </span><span>to </span><span>take </span><span>place </span><span>on </span><span>September </span><span>30 </span><span>. </span><span>The </span><span>deadline </span><span>for </span><span>applications </span><span>passed </span><span>at </span><span>midnight </span><span>on </span><span>Saturday </span><span>. </span><span>The </span><span>leading </span><span>parties </span><span>have </span><span>already </span><span>launched </span><span>their </span><span>campaigns. </span><span>On </span><span>Friday </span><span>, </span><span>Ukrainian </span><span>President </span><span>Yuschenko </span><span>announced </span><span>plans </span><span>to </span><span>amend </span><span>the </span><span>Constitution </span><span>. </span><span>Meanwhile </span><span>, </span><span>an </span><span>exhibition </span><span>in </span><span>the </span><span>town </span><span>of </span><span>Lugansk </span><span>in </span><span>eastern </span><span>Ukraine </span><span>has </span><span>opened </span><span>its </span><span>doors </span><span>to </span><span>coincide </span><span>with </span><span>parliamentary </span><span>elections </span><span>. </span><span>The </span><span>collection </span><span>of </span><span>political </span><span>caricatures </span><span>hopes </span><span>to </span><span>raise </span><span>a </span><span>few </span><span>laughs </span><span>at </span><span>the </span><span>expense </span><span>of </span><span>the </span><span>ruling </span><span>Orange </span><span>Party. </span><span>The </span><span>focus </span><span>of </span><span>this </span><span>exhibition </span><span>is </span><span>political </span><span>satire </span><span>– </span><span>it </span><span>was </span><span>set </span><span>up </span><span>by </span><span>supporters </span><span>from </span><span>the </span><span>country </span><span>'s </span><span>blue </span><span>opposition </span><span>group. </span><span>It </span><span>'s </span><span>a </span><span>collection </span><span>of </span><span>political </span><span>caricatures </span><span>and </span><span>artifacts </span><span>created </span><span>over </span><span>the </span><span>last </span><span>several </span><span>years </span><span>during </span><span>Ukraine </span><span>’s </span><span key=138 class=\"highlight blue\" depth=0 id=PROP onmouseover=\"handleHighlightMouseOver(this)\"                 onmouseout=\"handleHighlightMouseOut(this)\" labelPosition=\"left\">                <span class=\"highlight__label\"><strong>PROP</strong></span>                <span class=\"highlight__content\"><span>turbulent </span></span></span><span>political </span><span>history. </span><span>The </span><span>display </span><span>houses </span><span>some </span></div>"
      ],
      "text/plain": [
       "<IPython.core.display.HTML object>"
      ]
     },
     "metadata": {},
     "output_type": "display_data"
    },
    {
     "data": {
      "text/html": [
       "<div style=\"padding: 16px;\"><span>Forest </span><span>fire </span><span>has </span><span>killed </span><span>two </span><span>people </span><span>in </span><span>Ukraine </span><span>'s </span><span>Crimean </span><span>Peninsula </span><span>, </span><span>near </span><span>the </span><span>resort </span><span>town </span><span>of </span><span>Alupka </span><span>. </span><span>It </span><span>started </span><span>as </span><span>a </span><span>call </span><span>for </span><span>help </span><span>that </span><span>went </span><span key=28 class=\"highlight blue\" depth=0 id=PROP onmouseover=\"handleHighlightMouseOver(this)\"                 onmouseout=\"handleHighlightMouseOut(this)\" labelPosition=\"left\">                <span class=\"highlight__label\"><strong>PROP</strong></span>                <span class=\"highlight__content\"><span>drastically </span></span></span><span>wrong </span><span>. </span><span>According </span><span>to </span><span>reports </span><span>, </span><span>a </span><span>man </span><span>got </span><span>lost </span><span>in </span><span>a </span><span>mountain </span><span>forest </span><span>preserve </span><span>near </span><span>the </span><span>town </span><span>of </span><span>Alupka </span><span>. </span><span>And </span><span>in </span><span>order </span><span>to </span><span>attract </span><span>the </span><span>attention </span><span>of </span><span>potential </span><span>rescuers </span><span>, </span><span>he </span><span>started </span><span>a </span><span>fire. </span><span>Within </span><span>minutes </span><span>, </span><span>his </span><span>little </span><span>bonfire </span><span>turned </span><span>into </span><span>a </span><span key=74 class=\"highlight blue\" depth=0 id=PROP onmouseover=\"handleHighlightMouseOver(this)\"                 onmouseout=\"handleHighlightMouseOut(this)\" labelPosition=\"left\">                <span class=\"highlight__label\"><strong>PROP</strong></span>                <span class=\"highlight__content\"><span>blaze </span></span></span><span>devouring </span><span>hundreds </span><span>of </span><span>square </span><span>meters </span><span>of </span><span>woodland </span><span>. </span><span>Igor </span><span>Katsai </span><span>, </span><span>Crimean </span><span>Forest </span><span>and </span><span>Hunting </span><span>Committee </span><span>representative </span><span>, </span><span>commented </span><span>. </span><span>In </span><span>addition </span><span>to </span><span>the </span><span>deaths </span><span>, </span><span>two </span><span>Emergencies </span><span>Ministry </span><span>officers </span><span>were </span><span>injured </span><span>trying </span><span>to </span><span>put </span><span>out </span><span>the </span><span>conflagration </span><span>. </span><span>The </span><span>man </span><span>who </span><span>set </span><span>the </span><span>fire </span><span>is </span><span>now </span><span>in </span><span>police </span><span>custody. </span><span>Very </span><span>hot </span><span>weather </span><span>and </span><span>high </span><span>winds </span><span>caused </span><span>the </span><span>fire </span><span>to </span><span>spread </span><span>so </span><span>rapidly. </span><span>Ukraine </span><span>'s </span><span>Emergency </span><span>Ministry </span><span>has </span><span>sent </span><span>special </span><span>aircraft </span><span>and </span><span>helicopters </span></div>"
      ],
      "text/plain": [
       "<IPython.core.display.HTML object>"
      ]
     },
     "metadata": {},
     "output_type": "display_data"
    },
    {
     "data": {
      "text/html": [
       "<div style=\"padding: 16px;\"><span>Russia </span><span>'s </span><span key=2 class=\"highlight blue\" depth=0 id=PROP onmouseover=\"handleHighlightMouseOver(this)\"                 onmouseout=\"handleHighlightMouseOut(this)\" labelPosition=\"left\">                <span class=\"highlight__label\"><strong>PROP</strong></span>                <span class=\"highlight__content\"><span>self </span></span></span><span>- </span><span>exiled </span><span>tycoon </span><span>Boris </span><span>Berezovsky </span><span>is </span><span>now </span><span>involved </span><span>in </span><span>legal </span><span>cases </span><span>in </span><span>Russia </span><span>, </span><span>Ukraine </span><span>and </span><span>Brazil </span><span>. </span><span>Unlike </span><span>in </span><span>Russia </span><span>and </span><span>Brazil </span><span>, </span><span>where </span><span>he </span><span>is </span><span>wanted </span><span>on </span><span>fraud </span><span>and </span><span>money </span><span>laundering </span><span>charges </span><span>, </span><span>in </span><span>Ukraine </span><span>he </span><span>is </span><span>the </span><span>claimant </span><span>. </span><span>Two </span><span>Ukrainian </span><span>parliamentarians </span><span>are </span><span>receiving </span><span>subpoenas </span><span>from </span><span>the </span><span>High </span><span>Court </span><span>of </span><span>England </span><span>and </span><span>Wales </span><span>, </span><span>on </span><span>a </span><span>lawsuit </span><span>filed </span><span>by </span><span>Boris </span><span>Berezovsky </span><span>, </span><span>who </span><span>is </span><span>accusing </span><span>them </span><span>of </span><span>misusing </span><span>the </span><span>money </span><span>he </span><span>says </span><span>he </span><span>allocated </span><span>for </span><span>the </span><span>Orange </span><span>Revolution </span><span>in </span><span>2004. </span><span>Berezovsky </span><span>is </span><span>suing </span><span>them </span><span>for </span><span>nearly </span><span>$ </span><span>US </span><span>23 </span><span>MLN. </span><span>The </span><span>businessmen </span><span>, </span><span>Oleksandr </span><span>Tretyakov </span><span>and </span><span>David </span><span>Zhvaniya </span><span>, </span><span>are </span><span>members </span><span>of </span><span>the </span><span>pro </span><span>- </span><span>presidential </span><span>Our </span><span>Ukraine </span><span>– </span><span>People </span><span>'s </span><span>Self </span><span>- </span><span>Defence </span><span>bloc </span><span>. </span><span>The </span><span key=123 class=\"highlight blue\" depth=0 id=PROP onmouseover=\"handleHighlightMouseOver(this)\"                 onmouseout=\"handleHighlightMouseOut(this)\" labelPosition=\"left\">                <span class=\"highlight__label\"><strong>PROP</strong></span>                <span class=\"highlight__content\"><span>Russian </span></span></span><span>tycoon </span><span>is </span><span>demanding </span><span>they </span><span>return </span><span>his </span><span>money </span><span>which </span><span>was </span><span>not </span><span>spent </span><span>on </span><span>what </span><span>he </span><span>called </span><span>“ </span><span>the </span><span>development </span><span>of </span><span>democracy </span><span>” </span><span>in </span><span>the </span><span>country. </span><span>Another </span><span>member </span></div>"
      ],
      "text/plain": [
       "<IPython.core.display.HTML object>"
      ]
     },
     "metadata": {},
     "output_type": "display_data"
    },
    {
     "data": {
      "text/html": [
       "<div style=\"padding: 16px;\"><span>Ukraine </span><span>'s </span><span>president </span><span>Viktor </span><span>Yushchenko </span><span>has </span><span>said </span><span>Russia </span><span>is </span><span>obstructing </span><span>the </span><span>investigation </span><span>into </span><span>his </span><span>alleged </span><span>poisoning </span><span>in </span><span>September </span><span>2004.In </span><span>an </span><span>interview </span><span>with </span><span>the </span><span>British </span><span>newspaper </span><span>The </span><span>Times </span><span>he </span><span>said </span><span>Russia </span><span>has </span><span>failed </span><span>to </span><span>provide </span><span>samples </span><span>of </span><span>the </span><span key=37 class=\"highlight blue\" depth=0 id=PROP onmouseover=\"handleHighlightMouseOver(this)\"                 onmouseout=\"handleHighlightMouseOut(this)\" labelPosition=\"left\">                <span class=\"highlight__label\"><strong>PROP</strong></span>                <span class=\"highlight__content\"><span>toxic </span></span></span><span>substance </span><span>dioxin </span><span>which </span><span>reportedly </span><span>damaged </span><span>his </span><span>health. </span><span>Yushchenko </span><span>said </span><span>only </span><span>three </span><span>laboratories </span><span>in </span><span>the </span><span>world </span><span>produced </span><span>dioxin </span><span>of </span><span>that </span><span>formula </span><span>, </span><span>and </span><span>Russia </span><span>is </span><span>the </span><span>one </span><span>that </span><span>has </span><span>n't </span><span>provided </span><span>samples </span><span>, </span><span>which </span><span>he </span><span>believes </span><span>limits </span><span>the </span><span>possibilities </span><span>of </span><span>the </span><span>investigation. </span><span>Yushchenko </span><span>'s </span><span>mysterious </span><span>illness </span><span>, </span><span>which </span><span>scarred </span><span>his </span><span>face </span><span>during </span><span>the </span><span>presidential </span><span>run </span><span>- </span><span>up </span><span>three </span><span>years </span><span>ago </span><span>, </span><span>remains </span><span>unsolved </span><span>and </span><span>has </span><span>provoked </span><span>much </span><span>speculation </span><span>. </span><span>Blood </span><span>tests </span><span>revealed </span><span key=109 class=\"highlight blue\" depth=0 id=PROP onmouseover=\"handleHighlightMouseOver(this)\"                 onmouseout=\"handleHighlightMouseOut(this)\" labelPosition=\"left\">                <span class=\"highlight__label\"><strong>PROP</strong></span>                <span class=\"highlight__content\"><span>extremely </span></span></span><span>high </span><span>levels </span><span>of </span><span>the </span><span key=114 class=\"highlight blue\" depth=0 id=PROP onmouseover=\"handleHighlightMouseOver(this)\"                 onmouseout=\"handleHighlightMouseOut(this)\" labelPosition=\"left\">                <span class=\"highlight__label\"><strong>PROP</strong></span>                <span class=\"highlight__content\"><span>toxic </span></span></span><span>material </span><span>dioxin </span><span>in </span><span>his </span><span>body. </span><span>Yushchenko </span><span>has </span><span>claimed </span><span>he </span><span>was </span><span>deliberately </span><span>poisoned </span><span>by </span><span>high </span><span>level </span><span>Ukrainian </span><span>officials </span><span>. </span></div>"
      ],
      "text/plain": [
       "<IPython.core.display.HTML object>"
      ]
     },
     "metadata": {},
     "output_type": "display_data"
    },
    {
     "data": {
      "text/html": [
       "<div style=\"padding: 16px;\"><span>With </span><span>a </span><span>snap </span><span>parliamentary </span><span>election </span><span>only </span><span>weeks </span><span>away </span><span>, </span><span>Ukrainian </span><span>voters </span><span>are </span><span>starting </span><span>to </span><span>think </span><span>hard </span><span>about </span><span>the </span><span>future </span><span>, </span><span>and </span><span>particularly </span><span>about </span><span>Europe </span><span>. </span><span>The </span><span>eleventh </span><span>Ukraine </span><span>- </span><span>European </span><span>Union </span><span>summit </span><span>has </span><span>opened </span><span>in </span><span>Kiev </span><span>, </span><span>where </span><span>closer </span><span>links </span><span>between </span><span>the </span><span>two </span><span>are </span><span>being </span><span>diMany </span><span>of </span><span>Ukraine </span><span>'s </span><span>younger </span><span>generation </span><span>support </span><span>efforts </span><span>to </span><span>win </span><span>entry </span><span>to </span><span>the </span><span>EU </span><span>. </span><span>They </span><span>see </span><span>it </span><span>as </span><span>the </span><span>best </span><span>route </span><span>to </span><span>better </span><span>opportunities </span><span>and </span><span>long </span><span>- </span><span>term </span><span>prosperity </span><span>. </span><span>In </span><span>the </span><span>short </span><span>term </span><span>, </span><span>many </span><span>want </span><span>to </span><span>travel </span><span>and </span><span>work </span><span>abroad </span><span>, </span><span>particularly </span><span>in </span><span>the </span><span>EU </span><span>. </span><span>English </span><span>is </span><span>regarded </span><span>as </span><span>a </span><span>passport </span><span>to </span><span>success </span><span>, </span><span>and </span><span>language </span><span>schools </span><span>are </span><span key=107 class=\"highlight blue\" depth=0 id=PROP onmouseover=\"handleHighlightMouseOver(this)\"                 onmouseout=\"handleHighlightMouseOut(this)\" labelPosition=\"left\">                <span class=\"highlight__label\"><strong>PROP</strong></span>                <span class=\"highlight__content\"><span>booming </span></span></span><span>across </span><span>the </span><span>country </span><span>, </span><span>offering </span><span>classes </span><span>to </span><span>both </span><span>adults </span><span>and </span><span>teenagers </span><span>. </span><span>Vasily </span><span>Miroshnichenko </span><span>of </span><span>CFC </span><span>consulting </span><span>recognises </span><span>the </span><span>trend </span><span>, </span><span>and </span><span>believes </span><span>both </span><span>Europe </span><span>and </span><span>Ukraine </span><span>will </span><span>benefit </span><span>from </span><span>closer </span><span>ties </span><span>. </span><span>he </span><span>said. </span></div>"
      ],
      "text/plain": [
       "<IPython.core.display.HTML object>"
      ]
     },
     "metadata": {},
     "output_type": "display_data"
    },
    {
     "data": {
      "text/html": [
       "<div style=\"padding: 16px;\"><span>The </span><span>Russian </span><span>press </span><span>is </span><span>still </span><span key=5 class=\"highlight blue\" depth=0 id=PROP onmouseover=\"handleHighlightMouseOver(this)\"                 onmouseout=\"handleHighlightMouseOut(this)\" labelPosition=\"left\">                <span class=\"highlight__label\"><strong>PROP</strong></span>                <span class=\"highlight__content\"><span>thrilled </span></span></span><span>with </span><span>Friday </span><span>’s </span><span>appointment </span><span>of </span><span>the </span><span>new </span><span>Prime </span><span>Minister </span><span>, </span><span>Viktor </span><span>Zubkov </span><span>. </span><span>It </span><span>also </span><span>covers </span><span>issues </span><span>of </span><span>international </span><span>politics </span><span>, </span><span>domestic </span><span>social </span><span>problems </span><span>and </span><span>the </span><span>ways </span><span>in </span><span>which </span><span>modern </span><span>Russian </span><span>pop </span><span>culture </span><span>finds </span><span>its </span><span>way </span><span>to </span><span>former </span><span>USSRMOSKOVSKIE </span><span>NOVOSTI </span><span>has </span><span>a </span><span>new </span><span>column </span><span>by </span><span>its </span><span>editor </span><span>- </span><span>in </span><span>- </span><span>chief </span><span>, </span><span>Vitaly </span><span>Tretiakov </span><span>. </span><span>He </span><span>writes </span><span>that </span><span>in </span><span>the </span><span>next </span><span>eight </span><span>to </span><span>nine </span><span>months </span><span>the </span><span>President </span><span>needs </span><span>the </span><span>government </span><span>to </span><span>be </span><span>a </span><span>consolidated </span><span>team </span><span>of </span><span>like </span><span>- </span><span>minded </span><span>co </span><span>- </span><span>workers </span><span>. </span><span>To </span><span>create </span><span>such </span><span>a </span><span>team </span><span>is </span><span>the </span><span>task </span><span>entrusted </span><span>to </span><span>Viktor </span><span>Zubkov </span><span>. </span><span>To </span><span>do </span><span>that </span><span>, </span><span>says </span><span>Tretiakov </span><span>, </span><span>he </span><span>is </span><span>given </span><span>carte </span><span>blanche </span><span>to </span><span>fire </span><span>and </span><span>appoint </span><span>ministers. </span><span>PROFILE </span><span>ON </span><span>- </span><span>LINE </span><span>suggests </span><span>that </span><span>Viktor </span><span>Zubkov </span><span>may </span><span>be </span><span>an </span><span>interim </span><span>candidate </span><span>for </span><span>the </span><span>Presidency </span><span>and </span><span>a </span><span>personal </span><span>reserve </span><span>for </span><span>President </span><span>Putin </span><span>. </span><span>He </span><span>is </span><span>known </span><span>to </span><span>be </span><span>very </span><span>close </span><span>to </span><span>the </span><span>President </span><span>, </span><span>writes </span><span>the </span><span>magazine </span><span>. </span><span>The </span><span>publication </span><span>also </span><span>hints </span><span>at </span><span>Zubkov </span><span>’s </span><span>son </span><span>- </span><span>in </span><span>- </span><span>law </span><span>, </span><span>Anatoly </span><span>Serdiukov </span><span>, </span></div>"
      ],
      "text/plain": [
       "<IPython.core.display.HTML object>"
      ]
     },
     "metadata": {},
     "output_type": "display_data"
    },
    {
     "data": {
      "text/html": [
       "<div style=\"padding: 16px;\"><span>The </span><span>latest </span><span>Russia </span><span>’s </span><span>Cabinet </span><span>meeting </span><span>is </span><span>the </span><span>focus </span><span>of </span><span>the </span><span>press </span><span>this </span><span>Friday.writes </span><span>under </span><span>the </span><span>headline </span><span>“ </span><span>No </span><span>One </span><span>Was </span><span>Spared </span><span>” </span><span>: </span><span>all </span><span>“ </span><span>Acting </span><span>” </span><span>Ministers </span><span>got </span><span>a </span><span>chance </span><span>to </span><span>start </span><span>thinking </span><span>about </span><span>their </span><span>future </span><span>. </span><span>The </span><span>Prime </span><span>Minister </span><span>not </span><span>only </span><span>sent </span><span>a </span><span>high </span><span>official </span><span>off </span><span>to </span><span>Sakhalin </span><span>but </span><span>also </span><span>made </span><span>reprimands </span><span>about </span><span>the </span><span>work </span><span>of </span><span>practically </span><span>everyone </span><span>. </span><span>says </span><span>after </span><span>the </span><span>meeting </span><span>the </span><span>officials </span><span>were </span><span key=69 class=\"highlight blue\" depth=0 id=PROP onmouseover=\"handleHighlightMouseOver(this)\"                 onmouseout=\"handleHighlightMouseOut(this)\" labelPosition=\"left\">                <span class=\"highlight__label\"><strong>PROP</strong></span>                <span class=\"highlight__content\"><span>grinning </span> <span>nervously </span></span></span><span>in </span><span>the </span><span>corridors </span><span>and </span><span>corners </span><span>, </span><span>discussing </span><span>the </span><span key=78 class=\"highlight blue\" depth=0 id=PROP onmouseover=\"handleHighlightMouseOver(this)\"                 onmouseout=\"handleHighlightMouseOut(this)\" labelPosition=\"left\">                <span class=\"highlight__label\"><strong>PROP</strong></span>                <span class=\"highlight__content\"><span>tough </span> <span>manner </span></span></span><span>of </span><span>the </span><span key=81 class=\"highlight blue\" depth=0 id=PROP onmouseover=\"handleHighlightMouseOver(this)\"                 onmouseout=\"handleHighlightMouseOut(this)\" labelPosition=\"left\">                <span class=\"highlight__label\"><strong>PROP</strong></span>                <span class=\"highlight__content\"><span>new </span> <span>boss </span></span></span><span>. </span><span>Viktor </span><span>Zubkov </span><span>, </span><span>continues </span><span>the </span><span>paper </span><span>, </span><span>does </span><span>not </span><span>like </span><span>to </span><span>waste </span><span>time </span><span>. </span><span>It </span><span>was </span><span>necessary </span><span>for </span><span>him </span><span>to </span><span>show </span><span>his </span><span key=105 class=\"highlight blue\" depth=0 id=PROP onmouseover=\"handleHighlightMouseOver(this)\"                 onmouseout=\"handleHighlightMouseOut(this)\" labelPosition=\"left\">                <span class=\"highlight__label\"><strong>PROP</strong></span>                <span class=\"highlight__content\"><span>toughness </span></span></span><span>before </span><span>this </span><span>Cabinet </span><span>, </span><span>to </span><span>set </span><span>the </span><span>standard </span><span>for </span><span>the </span><span>near </span><span>future.says </span><span>the </span><span>only </span><span>lucky </span><span>member </span><span>of </span><span>the </span><span>Cabinet </span><span>, </span><span>who </span><span>was </span><span>not </span><span>directly </span><span>hit </span><span>by </span><span>the </span><span>Prime </span><span>Minister </span><span>’s </span><span>remarks </span><span>, </span><span>was </span><span>acting </span><span>Minister </span><span>of </span><span>Finance </span><span>Alexey </span><span>Kudrin </span><span>. </span><span>He </span><span>delivered </span><span>a </span><span>report </span><span>on </span><span>the </span><span>ongoing </span><span>struggle </span><span>against </span><span>corruption </span><span>. </span><span>That </span><span>is </span><span>about </span><span>the </span><span>2006 </span><span>Presidential </span><span>order </span><span>creating </span><span>a </span><span>unified </span><span>system </span><span>of </span><span>administration </span><span>for </span><span>all </span><span>Russian </span><span>seaports </span><span>. </span><span>The </span><span>system </span><span>was </span></div>"
      ],
      "text/plain": [
       "<IPython.core.display.HTML object>"
      ]
     },
     "metadata": {},
     "output_type": "display_data"
    },
    {
     "data": {
      "text/html": [
       "<div style=\"padding: 16px;\"><span>Ukrainians </span><span>are </span><span>preparing </span><span>to </span><span>go </span><span>to </span><span>the </span><span>polls </span><span>this </span><span>Sunday </span><span>in </span><span>elections </span><span>designed </span><span>to </span><span>get </span><span>the </span><span>country </span><span>out </span><span>of </span><span>its </span><span>political </span><span>stalemate </span><span>. </span><span>The </span><span>vote </span><span>will </span><span>be </span><span>the </span><span>fourth </span><span>in </span><span>three </span><span>years </span><span>, </span><span>and </span><span>there </span><span>are </span><span>growing </span><span>signs </span><span>that </span><span>the </span><span>population </span><span>is </span><span>suffering </span><span>from </span><span>election </span><span>fatigMany </span><span>Ukrainians </span><span>see </span><span>the </span><span>upcoming </span><span>early </span><span>vote </span><span>as </span><span>a </span><span>déjà </span><span>vu </span><span>election </span><span>because </span><span>they </span><span>will </span><span>have </span><span>to </span><span>go </span><span>to </span><span>polling </span><span>stations </span><span>for </span><span>the </span><span>fourth </span><span>time </span><span>in </span><span>three </span><span>years </span><span>. </span><span>This </span><span>could </span><span>mean </span><span>low </span><span>voter </span><span>turnout </span><span>. </span><span>During </span><span>the </span><span>presidential </span><span>election </span><span>in </span><span>2004 </span><span>, </span><span>turnout </span><span>was </span><span>about </span><span>77 </span><span>% </span><span>. </span><span>In </span><span>last </span><span>year </span><span>'s </span><span>poll </span><span>that </span><span>figure </span><span>dropped </span><span>to </span><span>65 </span><span>% </span><span>. </span><span>Many </span><span>say </span><span>that </span><span>this </span><span>time </span><span>it </span><span>could </span><span>be </span><span>less </span><span>than </span><span>that. </span><span>Some </span><span>say </span><span>the </span><span>upcoming </span><span>election </span><span>could </span><span>lead </span><span>Ukraine </span><span>out </span><span>of </span><span>its </span><span>current </span><span>political </span><span>crisis </span><span>, </span><span>but </span><span>many </span><span>others </span><span>are </span><span>pessimistic </span><span>. </span><span>They </span><span>do </span><span>n't </span><span>believe </span><span>it </span><span>will </span><span>change </span><span>the </span><span>balance </span><span>of </span><span>power </span><span>and </span><span>say </span><span>it </span><span>'s </span><span key=153 class=\"highlight blue\" depth=0 id=PROP onmouseover=\"handleHighlightMouseOver(this)\"                 onmouseout=\"handleHighlightMouseOut(this)\" labelPosition=\"left\">                <span class=\"highlight__label\"><strong>PROP</strong></span>                <span class=\"highlight__content\"><span>just </span> <span>another </span> <span>political </span> <span>game. </span></span></span><span>President </span><span>Viktor </span><span>Yushchenko </span><span>dissolved </span><span>the </span><span>parliament </span><span>( </span><span>the </span><span>Rada </span><span>) </span><span>in </span><span>April </span><span>, </span><span>causing </span><span>months </span><span>of </span><span>protests </span><span>in </span><span>the </span><span>streets </span><span>of </span><span>Kiev </span><span>, </span><span>which </span><span>forced </span></div>"
      ],
      "text/plain": [
       "<IPython.core.display.HTML object>"
      ]
     },
     "metadata": {},
     "output_type": "display_data"
    },
    {
     "data": {
      "text/html": [
       "<div style=\"padding: 16px;\"><span>In </span><span>just </span><span>a </span><span>few </span><span>days </span><span>voters </span><span>in </span><span>Ukraine </span><span>will </span><span>go </span><span>to </span><span>the </span><span>polls </span><span>in </span><span>the </span><span>fourth </span><span>parliamentary </span><span>election </span><span>in </span><span>the </span><span>last </span><span>three </span><span>years </span><span>. </span><span>The </span><span>country </span><span>’s </span><span>President </span><span>, </span><span>Viktor </span><span>Yushchenko </span><span>, </span><span>dismissed </span><span>the </span><span>previous </span><span>parliament </span><span>in </span><span>April </span><span>, </span><span>a </span><span>move </span><span>which </span><span>caused </span><span>months </span><span>of </span><span>tension </span><span>between </span><span>pUkrainian </span><span>people </span><span>often </span><span>say </span><span>they </span><span>feel </span><span>like </span><span key=54 class=\"highlight blue\" depth=0 id=PROP onmouseover=\"handleHighlightMouseOver(this)\"                 onmouseout=\"handleHighlightMouseOut(this)\" labelPosition=\"left\">                <span class=\"highlight__label\"><strong>PROP</strong></span>                <span class=\"highlight__content\"><span>puppets </span> <span>on </span> <span>a </span> <span>string </span></span></span><span>when </span><span>it </span><span>comes </span><span>to </span><span>politics </span><span>. </span><span>However </span><span>in </span><span>the </span><span>new </span><span key=65 class=\"highlight blue\" depth=0 id=PROP onmouseover=\"handleHighlightMouseOver(this)\"                 onmouseout=\"handleHighlightMouseOut(this)\" labelPosition=\"left\">                <span class=\"highlight__label\"><strong>PROP</strong></span>                <span class=\"highlight__content\"><span>satirical </span></span></span><span>show </span><span>, </span><span>“ </span><span>Pupsnya </span><span>” </span><span>, </span><span>they </span><span>have </span><span>swapped </span><span>roles </span><span>. </span><span>Yuliya </span><span>Tymoshenko </span><span>, </span><span>the </span><span>Prime </span><span>Minister </span><span>, </span><span>Viktor </span><span>Yanukovich </span><span>, </span><span>and </span><span>President </span><span>Yushchenko </span><span>are </span><span>delivering </span><span>enough </span><span>material </span><span>to </span><span>make </span><span>this </span><span>show </span><span>run </span><span>for </span><span>years. </span><span>Promises </span><span>delivered </span><span>on </span><span>the </span><span>eve </span><span>of </span><span>this </span><span>election </span><span>featured </span><span>in </span><span>a </span><span>special </span><span>episode </span><span>of </span><span>“ </span><span>Pupsnya </span><span>. </span><span>” </span><span>When </span><span>characters </span><span>are </span><span>making </span><span>promises </span><span>, </span><span>bubbles </span><span>of </span><span>different </span><span>shapes </span><span>and </span><span>sizes </span><span>blow </span><span>from </span><span>their </span><span>mouths. </span><span>The </span><span>biggest </span><span>bubble </span><span>of </span><span>this </span><span>election </span><span>campaign </span><span>is </span><span>the </span><span>social </span><span>programme </span><span>. </span><span>All </span><span>parties </span><span>are </span><span key=150 class=\"highlight blue\" depth=0 id=PROP onmouseover=\"handleHighlightMouseOver(this)\"                 onmouseout=\"handleHighlightMouseOut(this)\" labelPosition=\"left\">                <span class=\"highlight__label\"><strong>PROP</strong></span>                <span class=\"highlight__content\"><span>trying </span> <span>to </span> <span>woo </span></span></span><span>their </span><span>voters </span><span>with </span><span>the </span><span>promise </span></div>"
      ],
      "text/plain": [
       "<IPython.core.display.HTML object>"
      ]
     },
     "metadata": {},
     "output_type": "display_data"
    },
    {
     "data": {
      "text/html": [
       "<div style=\"padding: 16px;\"><span>Sunday </span><span>'s </span><span>parliamentary </span><span>election </span><span>is </span><span>supposed </span><span>to </span><span>get </span><span>Ukraine </span><span>out </span><span>of </span><span>a </span><span>political </span><span>crisis </span><span>that </span><span>has </span><span>paralysed </span><span>the </span><span>country </span><span>for </span><span>two </span><span>years </span><span>. </span><span>Yet </span><span>, </span><span>as </span><span>political </span><span>leaders </span><span>talk </span><span>up </span><span>the </span><span>importance </span><span>of </span><span>the </span><span>poll </span><span>, </span><span>many </span><span>voters </span><span>seem </span><span>to </span><span>be </span><span>regarding </span><span>it </span><span>as </span><span>a </span><span>bit </span><span>of </span><span>a </span><span>joke </span><span>. </span><span>AndOne </span><span>of </span><span>Ukraine </span><span>’s </span><span>TV </span><span>stations </span><span>is </span><span>broadcasting </span><span>a </span><span>sitcom </span><span>called </span><span>“ </span><span>Domkom </span><span>” </span><span>( </span><span>‘ </span><span>house </span><span>committee </span><span>’ </span><span>) </span><span>, </span><span>which </span><span>potrays </span><span>the </span><span>lives </span><span>of </span><span>ordinary </span><span>Ukrainians </span><span>in </span><span>an </span><span>ordinary </span><span>flat </span><span>. </span><span>But </span><span>the </span><span>main </span><span>characters </span><span>of </span><span>the </span><span>series </span><span>look </span><span>very </span><span>similar </span><span>to </span><span>the </span><span>country </span><span>'s </span><span>main </span><span>political </span><span>figures </span><span>– </span><span>President </span><span>Yushchenko </span><span>, </span><span>Prime </span><span>Minister </span><span>Viktor </span><span>Yanukovich </span><span>and </span><span>Ukraine </span><span>’s </span><span>most </span><span>famous </span><span>lady </span><span>, </span><span>Yulia </span><span>Timoshenko </span><span>. </span><span>The </span><span>sitcom </span><span>is </span><span>already </span><span>popular </span><span>, </span><span>and </span><span>its </span><span>ratings </span><span>are </span><span>growing </span><span>every </span><span>day. </span><span>Ukrainian </span><span>people </span><span>often </span><span>say </span><span>they </span><span>feel </span><span>like </span><span key=138 class=\"highlight blue\" depth=0 id=PROP onmouseover=\"handleHighlightMouseOver(this)\"                 onmouseout=\"handleHighlightMouseOut(this)\" labelPosition=\"left\">                <span class=\"highlight__label\"><strong>PROP</strong></span>                <span class=\"highlight__content\"><span>puppets </span> <span>on </span> <span>a </span> <span>string </span></span></span><span>when </span><span>it </span><span>comes </span><span>to </span><span>politics </span><span>. </span><span>But </span><span>in </span><span>a </span><span>new </span><span key=149 class=\"highlight blue\" depth=0 id=PROP onmouseover=\"handleHighlightMouseOver(this)\"                 onmouseout=\"handleHighlightMouseOut(this)\" labelPosition=\"left\">                <span class=\"highlight__label\"><strong>PROP</strong></span>                <span class=\"highlight__content\"><span>satirical </span></span></span><span>show </span><span>called </span><span>‘ </span><span>pupsnya </span><span>’ </span><span>, </span><span>it </span><span>'s </span><span>the </span><span>politicians </span><span>who </span><span>are </span><span>portrayed </span><span>as </span><span key=164 class=\"highlight blue\" depth=0 id=PROP onmouseover=\"handleHighlightMouseOver(this)\"                 onmouseout=\"handleHighlightMouseOut(this)\" labelPosition=\"left\">                <span class=\"highlight__label\"><strong>PROP</strong></span>                <span class=\"highlight__content\"><span>puppets </span></span></span><span>. </span><span>And </span><span>Yulia </span><span>Timoshenko </span><span>, </span><span>Prime </span><span>Minister </span></div>"
      ],
      "text/plain": [
       "<IPython.core.display.HTML object>"
      ]
     },
     "metadata": {},
     "output_type": "display_data"
    },
    {
     "data": {
      "text/html": [
       "<div style=\"padding: 16px;\"><span>With </span><span>more </span><span>than </span><span>90 </span><span>per </span><span>cent </span><span>of </span><span>the </span><span>votes </span><span>counted </span><span>, </span><span>there </span><span>'s </span><span>more </span><span>than </span><span>a </span><span>touch </span><span>of </span><span>deja </span><span>vu </span><span>about </span><span>the </span><span>results </span><span>so </span><span>far </span><span>from </span><span>Ukraine </span><span>'s </span><span>latest </span><span>parliamentary </span><span>election </span><span>. </span><span>Yulia </span><span>Timoshenko </span><span>'s </span><span>Orange </span><span>bloc </span><span>and </span><span>the </span><span>pro </span><span>- </span><span>Russia </span><span>Party </span><span>of </span><span>Regions </span><span>, </span><span>led </span><span>by </span><span>Prime </span><span>Minister </span><span>Viktor </span><span>YSupporters </span><span>of </span><span>the </span><span>Party </span><span>of </span><span>Regions </span><span>staged </span><span>a </span><span>mass </span><span>rally </span><span>to </span><span>shake </span><span>off </span><span>the </span><span>last </span><span>doubts </span><span>of </span><span>victory </span><span>and </span><span>their </span><span>leader </span><span>believes </span><span>the </span><span>party </span><span>will </span><span>form </span><span>the </span><span>cabinet </span><span>. </span><span>Viktor </span><span>Yanukovich </span><span>said. </span><span>He </span><span>also </span><span>says </span><span>he </span><span>will </span><span>begin </span><span>talks </span><span>to </span><span>form </span><span>a </span><span>coalition </span><span>government </span><span>as </span><span>soon </span><span>as </span><span>the </span><span>final </span><span>results </span><span>are </span><span>announced </span><span>. </span><span>Mr </span><span>Yanukovich </span><span>commented. </span><span>But </span><span>the </span><span>‘ </span><span>orange </span><span>’ </span><span>team </span><span>is </span><span>not </span><span>so </span><span>sure </span><span>they </span><span>will </span><span>join </span><span>the </span><span>opposition </span><span>again </span><span>. </span><span>Together </span><span>they </span><span>may </span><span>pose </span><span>a </span><span>threat </span><span>to </span><span>the </span><span>Party </span><span>of </span><span>Regions </span><span>’ </span><span>comeback </span><span>as </span><span>Yulia </span><span>Timoshenko </span><span>is </span><span>also </span><span>planning </span><span>to </span><span>create </span><span>a </span><span>coalition </span><span>of </span><span>her </span><span>own </span><span>. </span><span>she </span><span>said </span><span>. </span><span>People </span><span>are </span><span key=156 class=\"highlight blue\" depth=0 id=PROP onmouseover=\"handleHighlightMouseOver(this)\"                 onmouseout=\"handleHighlightMouseOut(this)\" labelPosition=\"left\">                <span class=\"highlight__label\"><strong>PROP</strong></span>                <span class=\"highlight__content\"><span>tired </span></span></span><span>of </span><span>the </span><span>political </span><span>crisis </span><span>which </span><span>always </span><span>leads </span><span>to </span><span>social </span><span>and </span><span>political </span><span>instability </span><span>. </span><span>This </span><span>is </span><span>why </span><span>it </span><span>is </span><span>so </span><span>quiet </span><span>now </span><span>. </span><span>The </span><span>main </span></div>"
      ],
      "text/plain": [
       "<IPython.core.display.HTML object>"
      ]
     },
     "metadata": {},
     "output_type": "display_data"
    },
    {
     "data": {
      "text/html": [
       "<div style=\"padding: 16px;\"><span>Ukraine </span><span>’s </span><span>parliamentary </span><span>election </span><span>has </span><span>received </span><span>wide </span><span>coverage </span><span>and </span><span>analysis </span><span>in </span><span>Monday </span><span>'s </span><span>Russian </span><span>papers </span><span>. </span><span>At </span><span>the </span><span>same </span><span>time </span><span>, </span><span>preparations </span><span>for </span><span>Russia </span><span>'s </span><span>own </span><span>parliamentary </span><span>elections </span><span>in </span><span>December </span><span>have </span><span>not </span><span>been </span><span>neglected </span><span>. </span><span>The </span><span>daily </span><span>writes </span><span>that </span><span>the </span><span>Ukrainian </span><span>Central </span><span>Electoral </span><span>Commission </span><span>expressed </span><span>its </span><span>satisfaction </span><span>with </span><span>voter </span><span>turnout </span><span>. </span><span>The </span><span>paper </span><span>publishes </span><span>reports </span><span>from </span><span>different </span><span>regions </span><span>of </span><span>Ukraine </span><span>showing </span><span>that </span><span>the </span><span>election </span><span>was </span><span>peaceful </span><span>and </span><span>slow </span><span>. </span><span>For </span><span>weeks </span><span>before </span><span>the </span><span>Election </span><span>Day </span><span>, </span><span>most </span><span>of </span><span>the </span><span>competing </span><span>political </span><span>parties </span><span>were </span><span>warning </span><span>against </span><span>electoral </span><span>fraud </span><span>by </span><span>their </span><span>opponents </span><span>. </span><span>The </span><span>paper </span><span>says </span><span>after </span><span>the </span><span>election </span><span>there </span><span>may </span><span>come </span><span key=100 class=\"highlight blue\" depth=0 id=PROP onmouseover=\"handleHighlightMouseOver(this)\"                 onmouseout=\"handleHighlightMouseOut(this)\" labelPosition=\"left\">                <span class=\"highlight__label\"><strong>PROP</strong></span>                <span class=\"highlight__content\"><span>an </span> <span>avalanche </span> <span>of </span> <span>accusations. </span></span></span><span>The </span><span>paper </span><span>’s </span><span>analyst </span><span>says </span><span>only </span><span>three </span><span>to </span><span>five </span><span>per </span><span>cent </span><span>of </span><span>the </span><span>votes </span><span>are </span><span>at </span><span>stake </span><span>this </span><span>time </span><span>. </span><span>A </span><span>coalition </span><span>is </span><span>inevitable </span><span>. </span><span>The </span><span>daily </span><span>adds </span><span>it </span><span>may </span><span>be </span><span>sad </span><span>, </span><span>but </span><span>the </span><span>people </span><span>of </span><span>Ukraine </span><span>will </span><span>hardly </span><span>see </span><span>any </span><span>new </span><span>faces </span><span>in </span><span>politics </span><span>in </span><span>the </span><span>next </span><span>five </span><span>years. </span><span>A </span><span>report </span><span>in </span><span>business </span><span>daily </span><span>says </span><span>: </span><span>media </span><span>photographers </span><span>dominated </span><span>the </span><span>polling </span><span>stations </span><span>where </span><span>the </span></div>"
      ],
      "text/plain": [
       "<IPython.core.display.HTML object>"
      ]
     },
     "metadata": {},
     "output_type": "display_data"
    },
    {
     "data": {
      "text/html": [
       "<div style=\"padding: 16px;\"><span>Russian </span><span>newspapers </span><span>cover </span><span>the </span><span key=4 class=\"highlight blue\" depth=0 id=PROP onmouseover=\"handleHighlightMouseOver(this)\"                 onmouseout=\"handleHighlightMouseOut(this)\" labelPosition=\"left\">                <span class=\"highlight__label\"><strong>PROP</strong></span>                <span class=\"highlight__content\"><span>sensation </span></span></span><span>by </span><span>the </span><span>United </span><span>Russia </span><span>Party </span><span>, </span><span>which </span><span>will </span><span>put </span><span>only </span><span>one </span><span>name </span><span>on </span><span>the </span><span>federal </span><span>party </span><span>list </span><span>, </span><span>this </span><span>being </span><span>the </span><span>name </span><span>of </span><span>the </span><span>current </span><span>President </span><span>, </span><span>write </span><span>about </span><span>Patriarch </span><span>Aleksy </span><span>II </span><span>'s </span><span>speech </span><span>at </span><span>PACE </span><span>session </span><span>, </span><span>and </span><span>‘ </span><span>regret </span><span>’ </span><span>Yulia </span><span>TimoshenkThe </span><span>second </span><span>day </span><span>of </span><span>the </span><span>United </span><span>Russia </span><span>party </span><span>congress </span><span>brought </span><span>about </span><span>another </span><span>sensation </span><span>, </span><span>writes </span><span>: </span><span>there </span><span>will </span><span>be </span><span>no </span><span>troika </span><span>on </span><span>the </span><span>federal </span><span>party </span><span>list </span><span>, </span><span>there </span><span>will </span><span>be </span><span>only </span><span>one </span><span>name </span><span>– </span><span>Vladimir </span><span>Putin </span><span>. </span><span>Not </span><span>even </span><span>a </span><span>party </span><span>member </span><span>, </span><span>writes </span><span>the </span><span>paper </span><span>, </span><span>but </span><span>a </span><span>sure </span><span>winner. </span><span>Looking </span><span>at </span><span>the </span><span>handwritten </span><span>pages </span><span>of </span><span>the </span><span>President </span><span>’s </span><span>remarks </span><span>at </span><span>the </span><span>party </span><span>Congress </span><span>, </span><span>the </span><span>correspondent </span><span>asks </span><span>questions </span><span>that </span><span>will </span><span>need </span><span>answers </span><span>soon: </span><span>Is </span><span>there </span><span>any </span><span>sense </span><span>at </span><span>all </span><span>in </span><span>going </span><span>to </span><span>the </span><span>polls </span><span>on </span><span>December </span><span>2 </span><span>, </span><span>when </span><span>everything </span><span>is </span><span>already </span><span>clear? </span><span>The </span><span>paper </span><span>says </span><span>, </span><span>now </span><span>all </span><span>the </span><span>pro </span><span>- </span><span>president </span><span>votes </span><span>go </span><span>to </span><span>United </span><span>Russia </span><span>. </span><span>It </span><span>’s </span><span>a </span><span>Constitutional </span><span>majority </span><span>in </span><span>the </span></div>"
      ],
      "text/plain": [
       "<IPython.core.display.HTML object>"
      ]
     },
     "metadata": {},
     "output_type": "display_data"
    },
    {
     "data": {
      "text/html": [
       "<div style=\"padding: 16px;\"><span>A </span><span>crocodile </span><span>with </span><span>the </span><span>nickname </span><span key=5 class=\"highlight blue\" depth=0 id=PROP onmouseover=\"handleHighlightMouseOver(this)\"                 onmouseout=\"handleHighlightMouseOut(this)\" labelPosition=\"left\">                <span class=\"highlight__label\"><strong>PROP</strong></span>                <span class=\"highlight__content\"><span>Godzilla </span></span></span><span>is </span><span>on </span><span>the </span><span>run </span><span>in </span><span>the </span><span>Southeast </span><span>of </span><span>Ukraine </span><span>and </span><span>is </span><span>proving </span><span>to </span><span>be </span><span>a </span><span>particularly </span><span key=22 class=\"highlight blue\" depth=0 id=PROP onmouseover=\"handleHighlightMouseOver(this)\"                 onmouseout=\"handleHighlightMouseOut(this)\" labelPosition=\"left\">                <span class=\"highlight__label\"><strong>PROP</strong></span>                <span class=\"highlight__content\"><span>elusive </span> <span>beast </span></span></span><span>. </span><span>Residents </span><span>of </span><span>the </span><span>city </span><span>of </span><span>Mariupol </span><span>have </span><span>been </span><span>desperately </span><span>trying </span><span>to </span><span>catch </span><span>the </span><span>escaped </span><span>reptile </span><span>for </span><span>almost </span><span>five </span><span>months </span><span>. </span><span>The </span><span>circus </span><span>star </span><span>was </span><span>brought </span><span>to </span><span>Ukraine </span><span>from </span><span>the </span><span>banks </span><span>of </span><span>the </span><span>Nile </span><span>River </span><span>. </span><span>He </span><span>escaped </span><span>from </span><span>work </span><span>at </span><span>the </span><span>end </span><span>of </span><span>May </span><span>and </span><span>nested </span><span>in </span><span>a </span><span>local </span><span>thermal </span><span>power </span><span>station. </span><span>The </span><span>croc </span><span>was </span><span>then </span><span>spotted </span><span>several </span><span>times </span><span>in </span><span>different </span><span>parts </span><span>of </span><span>Mariupol </span><span>and </span><span>was </span><span>even </span><span>seen </span><span>stealing </span><span>crops </span><span>from </span><span>private </span><span>gardens. </span><span>Several </span><span>attempts </span><span>to </span><span>re </span><span>- </span><span>capture </span><span key=103 class=\"highlight blue\" depth=0 id=PROP onmouseover=\"handleHighlightMouseOver(this)\"                 onmouseout=\"handleHighlightMouseOut(this)\" labelPosition=\"left\">                <span class=\"highlight__label\"><strong>PROP</strong></span>                <span class=\"highlight__content\"><span>Godzilla </span></span></span><span>have </span><span>all </span><span>ended </span><span>in </span><span>failure </span><span>. </span></div>"
      ],
      "text/plain": [
       "<IPython.core.display.HTML object>"
      ]
     },
     "metadata": {},
     "output_type": "display_data"
    },
    {
     "data": {
      "text/html": [
       "<div style=\"padding: 16px;\"><span>At </span><span>least </span><span>ten </span><span>people </span><span>have </span><span>been </span><span>killed </span><span>, </span><span>three </span><span>children </span><span>among </span><span>them </span><span>, </span><span>after </span><span>a </span><span>powerful </span><span>gas </span><span>explosion </span><span>caused </span><span>part </span><span>of </span><span>a </span><span>residential </span><span>building </span><span>to </span><span>collapse </span><span>in </span><span>the </span><span>Ukrainian </span><span>city </span><span>of </span><span>Dnepropetrovsk </span><span>. </span><span>Twenty </span><span>- </span><span>five </span><span>others </span><span>are </span><span>injured </span><span>and </span><span>20 </span><span>reported </span><span>missing </span><span>. </span><span>Rescue </span><span>teamsThe </span><span>explosion </span><span>happened </span><span>in </span><span>a </span><span>nine </span><span>- </span><span>storey </span><span>building </span><span>at </span><span>about </span><span>11 </span><span>am </span><span>local </span><span>time </span><span>. </span><span>The </span><span>city </span><span>'s </span><span>gas </span><span>company </span><span>says </span><span>the </span><span>blast </span><span>was </span><span>caused </span><span>by </span><span>a </span><span>pressure </span><span>surge </span><span>. </span><span>Gas </span><span>supplies </span><span>in </span><span>the </span><span>area </span><span>have </span><span>been </span><span>cut </span><span>as </span><span>a </span><span>safety </span><span>precaution. </span><span>Emergency </span><span>workers </span><span>say </span><span>efforts </span><span>to </span><span>dig </span><span>out </span><span>people </span><span>still </span><span>trapped </span><span>under </span><span>the </span><span>rubble </span><span>are </span><span>likely </span><span>to </span><span>continue </span><span>throughout </span><span>the </span><span>night </span><span>. </span><span>Several </span><span>survivors </span><span>have </span><span>been </span><span>pulled </span><span>alive </span><span>from </span><span>the </span><span>rubble. </span><span>Dozens </span><span>of </span><span key=120 class=\"highlight blue\" depth=0 id=PROP onmouseover=\"handleHighlightMouseOver(this)\"                 onmouseout=\"handleHighlightMouseOut(this)\" labelPosition=\"left\">                <span class=\"highlight__label\"><strong>PROP</strong></span>                <span class=\"highlight__content\"><span>distraught </span> <span>relatives </span></span></span><span>are </span><span>looking </span><span>on </span><span>, </span><span>praying </span><span>their </span><span>missing </span><span>loved </span><span>ones </span><span>will </span><span>be </span><span>pulled </span><span>from </span><span>the </span><span>debris </span><span>alive </span><span>. </span><span>Two </span><span>more </span><span>people </span><span>are </span><span>reported </span><span>to </span><span>have </span><span>been </span><span>detected </span><span>by </span><span>the </span><span>rescue </span><span>workers </span><span>inside </span><span>the </span><span>building </span><span>, </span><span>but </span><span>at </span><span>the </span><span>moment </span><span>it </span><span>is </span><span>impossible </span></div>"
      ],
      "text/plain": [
       "<IPython.core.display.HTML object>"
      ]
     },
     "metadata": {},
     "output_type": "display_data"
    },
    {
     "data": {
      "text/html": [
       "<div style=\"padding: 16px;\"><span>The </span><span>death </span><span>toll </span><span>continues </span><span>to </span><span>rise </span><span>in </span><span>Saturday </span><span>'s </span><span>gas </span><span>explosion </span><span>at </span><span>an </span><span>apartment </span><span>building </span><span>in </span><span>the </span><span>Ukrainian </span><span>city </span><span>of </span><span>Dnepropetrovsk </span><span>. </span><span>Thirteen </span><span>people </span><span>are </span><span>known </span><span>to </span><span>have </span><span>died </span><span>in </span><span>the </span><span>blast </span><span>, </span><span>but </span><span>journalists </span><span>at </span><span>the </span><span>scene </span><span>are </span><span>reporting </span><span>a </span><span>higher </span><span>number </span><span>. </span><span>Dozens </span><span>have </span><span>bThe </span><span>huge </span><span>gas </span><span>explosion </span><span>rocked </span><span>the </span><span>ten </span><span>- </span><span>storey </span><span>building </span><span>in </span><span>the </span><span>Eastern </span><span>part </span><span>of </span><span>Ukraine </span><span>on </span><span>Saturday </span><span>morning </span><span>, </span><span>causing </span><span>part </span><span>of </span><span>it </span><span>to </span><span>collapse. </span><span>Rescuers </span><span>at </span><span>the </span><span>scene </span><span>continued </span><span>to </span><span key=78 class=\"highlight blue\" depth=0 id=PROP onmouseover=\"handleHighlightMouseOver(this)\"                 onmouseout=\"handleHighlightMouseOut(this)\" labelPosition=\"left\">                <span class=\"highlight__label\"><strong>PROP</strong></span>                <span class=\"highlight__content\"><span>work </span> <span>flat </span> <span>out </span></span></span><span>on </span><span>Sunday </span><span>, </span><span key=82 class=\"highlight blue\" depth=0 id=PROP onmouseover=\"handleHighlightMouseOver(this)\"                 onmouseout=\"handleHighlightMouseOut(this)\" labelPosition=\"left\">                <span class=\"highlight__label\"><strong>PROP</strong></span>                <span class=\"highlight__content\"><span>frantically </span> <span>trying </span></span></span><span>to </span><span>reach </span><span>the </span><span>rest </span><span>of </span><span>the </span><span>victims </span><span>A </span><span>local </span><span>reporter </span><span>, </span><span>Vlada </span><span>Khmelnitskaya </span><span>, </span><span>said </span><span>that </span><span>residents </span><span>of </span><span>the </span><span>collapsed </span><span>building </span><span>had </span><span>organised </span><span>a </span><span>round </span><span>- </span><span>the </span><span>- </span><span>clock </span><span>vigil </span><span>: </span><span>, </span><span>she </span><span>said. </span><span>The </span><span>recovery </span><span>operation </span><span>is </span><span>being </span><span>co </span><span>- </span><span>ordinated </span><span>from </span><span>a </span><span>headquarters </span><span>set </span><span>up </span><span>next </span><span>to </span><span>the </span><span>collapsed </span><span>building. </span><span>An </span><span>investigation </span><span>into </span><span>the </span><span>cause </span><span>of </span><span>the </span><span>blast </span><span>has </span><span>been </span><span>launched </span><span>. </span><span>But </span><span>officials </span><span>are </span><span>suggesting </span><span>a </span><span>breakdown </span><span>in </span><span>a </span><span>gas </span><span>distribution </span></div>"
      ],
      "text/plain": [
       "<IPython.core.display.HTML object>"
      ]
     },
     "metadata": {},
     "output_type": "display_data"
    },
    {
     "data": {
      "text/html": [
       "<div style=\"padding: 16px;\"><span>Can </span><span>money </span><span>open </span><span>doors </span><span>to </span><span>Russia </span><span>'s </span><span>politics </span><span>and </span><span>parliament </span><span>? </span><span>With </span><span>a </span><span>parliamentary </span><span>election </span><span>less </span><span>than </span><span>two </span><span>months </span><span>away </span><span>, </span><span>the </span><span>parties </span><span>are </span><span>trying </span><span>hard </span><span>to </span><span>prove </span><span>that </span><span>money </span><span>ca </span><span>n't </span><span>buy </span><span>a </span><span>seat </span><span>in </span><span>the </span><span>Duma </span><span>. </span><span>However </span><span>, </span><span>the </span><span>lists </span><span>of </span><span>candidates </span><span>often </span><span>feature </span><span>the </span><span key=48 class=\"highlight blue\" depth=0 id=PROP onmouseover=\"handleHighlightMouseOver(this)\"                 onmouseout=\"handleHighlightMouseOut(this)\" labelPosition=\"left\">                <span class=\"highlight__label\"><strong>PROP</strong></span>                <span class=\"highlight__content\"><span>super </span> <span>- </span> <span>richThe </span></span></span><span>shops </span><span>in </span><span>the </span><span>lobby </span><span>of </span><span>the </span><span>parliament </span><span>building </span><span>sell </span><span>some </span><span>of </span><span>the </span><span>best </span><span>political </span><span>memorabilia </span><span>in </span><span>town </span><span>. </span><span>Here </span><span>you </span><span>can </span><span>get </span><span>a </span><span>silver </span><span>bookmark </span><span>with </span><span>a </span><span>coat </span><span>of </span><span>arms </span><span>, </span><span>or </span><span>a </span><span>gilded </span><span>coin </span><span>with </span><span>President </span><span>Putin </span><span>’s </span><span>portrait </span><span>. </span><span>But </span><span>when </span><span>it </span><span>comes </span><span>to </span><span>such </span><span>mementos </span><span>, </span><span>money </span><span>is </span><span>not </span><span>an </span><span>issue </span><span>. </span><span>Thus </span><span>, </span><span>a </span><span>set </span><span>of </span><span>glassware </span><span>may </span><span>cost </span><span>$ </span><span>US </span><span>350 </span><span>, </span><span>which </span><span>is </span><span>just </span><span>pocket </span><span>money </span><span>for </span><span>some </span><span>deputies. </span><span>Indeed </span><span>, </span><span>about </span><span>20 </span><span>members </span><span>of </span><span>the </span><span>Russian </span><span>parliament </span><span>make </span><span>the </span><span>list </span><span>of </span><span>Russia </span><span>’s </span><span>richest </span><span>people </span><span>. </span><span>Some </span><span>of </span><span>them </span><span>might </span><span>actually </span><span>need </span><span>something </span><span>to </span><span>remind </span><span>them </span><span>of </span><span>their </span><span>MP </span><span>mandate </span><span>. </span><span>While </span><span>a </span><span>number </span><span>of </span><span>deputies </span><span>regularly </span><span>miss </span><span>the </span><span>parliament </span><span>’s </span><span>meetings </span><span>, </span><span>they </span><span>are </span><span>still </span><span>entitled </span><span>to </span><span>full </span><span>benefits </span><span>, </span><span>including </span><span>immunity </span></div>"
      ],
      "text/plain": [
       "<IPython.core.display.HTML object>"
      ]
     },
     "metadata": {},
     "output_type": "display_data"
    },
    {
     "data": {
      "text/html": [
       "<div style=\"padding: 16px;\"><span>Kosovo </span><span>will </span><span>top </span><span>the </span><span>agenda </span><span>of </span><span>the </span><span>Russia </span><span>- </span><span>EU </span><span>summit </span><span>to </span><span>be </span><span>held </span><span>in </span><span>the </span><span>Portuguese </span><span>capital </span><span>, </span><span>Lisbon </span><span>, </span><span>over </span><span>the </span><span>next </span><span>two </span><span>days </span><span>. </span><span>Russia </span><span>'s </span><span>investment </span><span>in </span><span>the </span><span>EU </span><span>, </span><span>as </span><span>well </span><span>as </span><span>energy </span><span>security </span><span>, </span><span>are </span><span>also </span><span>likely </span><span>to </span><span>be </span><span>discussed </span><span>. </span><span>According </span><span>to </span><span>Russian </span><span>officials </span><span>, </span><span>Moscow </span><span>could </span><span>vote </span><span>in </span><span>favour </span><span>of </span><span>an </span><span>independent </span><span>Kosovo </span><span>if </span><span>Pristina </span><span>and </span><span>Belgrade </span><span>reach </span><span>agreement </span><span>between </span><span>themselves </span><span>first </span><span>. </span><span>commented </span><span>Artyom </span><span>Ulunian </span><span>from </span><span>Moscow </span><span>- </span><span>based </span><span>Institute </span><span>of </span><span>World </span><span>History. </span><span>But </span><span>time </span><span>is </span><span>running </span><span>out </span><span>, </span><span>as </span><span>Kosovans </span><span>threaten </span><span>to </span><span>declare </span><span>independence </span><span>unilaterally </span><span>if </span><span>there </span><span>is </span><span>no </span><span>compromise </span><span>by </span><span>December </span><span>10. </span><span>The </span><span>ultimate </span><span>goal </span><span>for </span><span>the </span><span>EU </span><span>is </span><span>to </span><span>have </span><span>a </span><span>single </span><span>voice </span><span>when </span><span>speaking </span><span>to </span><span>Russia </span><span>. </span><span>To </span><span>date </span><span>they </span><span>'ve </span><span>failed </span><span>to </span><span>do </span><span>it </span><span>. </span><span>Some </span><span>countries </span><span>have </span><span>found </span><span>it </span><span>easier </span><span>to </span><span>deal </span><span>with </span><span>Moscow </span><span>directly </span><span>, </span><span>while </span><span>others </span><span>are </span><span>busy </span><span>settling </span><span>old </span><span>scores </span><span>. </span><span>Russian </span><span>analysts </span><span>point </span><span>to </span><span>the </span><span>Baltic </span><span>States </span><span>and </span><span>Poland </span><span>in </span><span>particular </span><span>. </span><span key=161 class=\"highlight blue\" depth=0 id=PROP onmouseover=\"handleHighlightMouseOver(this)\"                 onmouseout=\"handleHighlightMouseOut(this)\" labelPosition=\"left\">                <span class=\"highlight__label\"><strong>PROP</strong></span>                <span class=\"highlight__content\"><span>We </span> <span>can </span> <span>not </span> <span>understand </span> <span>the </span> <span>history </span> <span>of </span> <span>Europe </span> <span>without </span> <span>Russia </span> <span>and </span> <span>we </span> <span>can </span> <span>not </span></span></span></div>"
      ],
      "text/plain": [
       "<IPython.core.display.HTML object>"
      ]
     },
     "metadata": {},
     "output_type": "display_data"
    },
    {
     "data": {
      "text/html": [
       "<div style=\"padding: 16px;\"><span>Ukrainian </span><span>nationalists </span><span>and </span><span>police </span><span>have </span><span key=5 class=\"highlight blue\" depth=0 id=PROP onmouseover=\"handleHighlightMouseOver(this)\"                 onmouseout=\"handleHighlightMouseOut(this)\" labelPosition=\"left\">                <span class=\"highlight__label\"><strong>PROP</strong></span>                <span class=\"highlight__content\"><span>clashed </span></span></span><span>in </span><span>the </span><span>city </span><span>of </span><span>Odessa </span><span>at </span><span>the </span><span>unveiling </span><span>of </span><span>a </span><span>monument </span><span>to </span><span>the </span><span>city </span><span>'s </span><span>founder </span><span>– </span><span>Russian </span><span>Empress </span><span>Catherine </span><span>the </span><span>Great </span><span>. </span><span>Hundreds </span><span>of </span><span>supporters </span><span>of </span><span>patriotic </span><span>groups </span><span>across </span><span>Ukraine </span><span>descended </span><span>on </span><span>the </span><span>city </span><span>to </span><span>protest </span><span>against </span><span>the </span><span>re </span><span>- </span><span>erection </span><span>of </span><span>a </span><span>statue </span><span>that </span><span>was </span><span>removed </span><span>eighty </span><span>years </span><span>ago. </span><span>The </span><span>nationalists </span><span>describe </span><span>themselves </span><span>as </span><span>heirs </span><span>of </span><span>Cossacks </span><span>. </span><span>They </span><span>accuse </span><span>Catherine </span><span>the </span><span>Great </span><span>of </span><span>colonising </span><span>Ukraine </span><span>, </span><span>and </span><span>say </span><span>her </span><span>monument </span><span>is </span><span>an </span><span>affront </span><span>and </span><span>a </span><span>threat </span><span>to </span><span>Urkainian </span><span>independence. </span><span>Nationalist </span><span>leader </span><span>Igor </span><span>Vardanets </span><span>says </span><span>is </span><span>n't </span><span>right </span><span>. </span><span>he </span><span>said. </span><span>Many </span><span>residents </span><span>of </span><span>Odessa </span><span>, </span><span>however </span><span>, </span><span>have </span><span>welcomed </span><span>the </span><span>statue </span><span>as </span><span>a </span><span>step </span><span>towards </span><span>reviving </span><span>the </span><span>city </span><span>’s </span><span>historic </span><span>past. </span></div>"
      ],
      "text/plain": [
       "<IPython.core.display.HTML object>"
      ]
     },
     "metadata": {},
     "output_type": "display_data"
    },
    {
     "data": {
      "text/html": [
       "<div style=\"padding: 16px;\"><span>The </span><span>U.S. </span><span>and </span><span>NATO </span><span>say </span><span>they </span><span>'re </span><span>ready </span><span>to </span><span>consider </span><span>ratifying </span><span>a </span><span>Europe </span><span>- </span><span>wide </span><span>arms </span><span>agreement </span><span>. </span><span>The </span><span>move </span><span>has </span><span>been </span><span>prompted </span><span>by </span><span>their </span><span>concern </span><span>that </span><span>Russia </span><span>could </span><span>withdraw </span><span>from </span><span>the </span><span>crucial </span><span>balancing </span><span>act </span><span>that </span><span>'s </span><span>meant </span><span>to </span><span>limit </span><span>the </span><span>amount </span><span>of </span><span>weaponry </span><span>deployed </span><span>from </span><span>the </span><span>UrIn </span><span>July </span><span>, </span><span>Russian </span><span>President </span><span>Vladimir </span><span>Putin </span><span>declared </span><span>a </span><span>moratorium </span><span>on </span><span>the </span><span>country </span><span>'s </span><span>compliance </span><span>with </span><span>the </span><span>Conventional </span><span>Forces </span><span>in </span><span>Europe </span><span>Treaty. </span><span>It </span><span>came </span><span>after </span><span>a </span><span key=73 class=\"highlight blue\" depth=0 id=PROP onmouseover=\"handleHighlightMouseOver(this)\"                 onmouseout=\"handleHighlightMouseOut(this)\" labelPosition=\"left\">                <span class=\"highlight__label\"><strong>PROP</strong></span>                <span class=\"highlight__content\"><span>tense </span></span></span><span>conference </span><span>in </span><span>Vienna </span><span>, </span><span>where </span><span>NATO </span><span>member </span><span>- </span><span>states </span><span>refused </span><span>to </span><span>ratify </span><span>an </span><span>amended </span><span>version. </span><span>He </span><span>'d </span><span>warned </span><span>of </span><span>the </span><span>possibility </span><span>of </span><span>withdrawing </span><span>from </span><span>the </span><span>treaty </span><span>months </span><span>earlier </span><span>. </span><span>said </span><span>Vladimir </span><span>Putin. </span><span>In </span><span>mid </span><span>- </span><span>September </span><span>at </span><span>a </span><span>parliamentary </span><span>hearing </span><span>on </span><span>the </span><span>issue </span><span>the </span><span>Russian </span><span>State </span><span>Duma </span><span>Deputy </span><span>Konstantin </span><span>Kosachev </span><span>said </span><span>the </span><span>moratorium </span><span>on </span><span>Russia </span><span>'s </span><span>fulfilment </span><span>of </span><span>the </span><span>treaty </span><span>was </span><span>not </span><span>irreversible </span><span>. </span><span>said </span><span>Mr </span><span>Kosachev. </span></div>"
      ],
      "text/plain": [
       "<IPython.core.display.HTML object>"
      ]
     },
     "metadata": {},
     "output_type": "display_data"
    },
    {
     "data": {
      "text/html": [
       "<div style=\"padding: 16px;\"><span>Deputies </span><span>at </span><span>the </span><span>Russian </span><span>State </span><span>Duma </span><span>are </span><span>preparing </span><span>to </span><span>vote </span><span>on </span><span>President </span><span>Putin </span><span>'s </span><span>proposal </span><span>to </span><span>ditch </span><span>the </span><span>Conventional </span><span>Forces </span><span>in </span><span>Europe </span><span>Treaty </span><span>. </span><span>The </span><span>move </span><span>comes </span><span>despite </span><span>indications </span><span>from </span><span>NATO </span><span>members </span><span>that </span><span>they </span><span>'re </span><span>ready </span><span>to </span><span>consider </span><span>ratifying </span><span>the </span><span>Europe </span><span>- </span><span>wide </span><span>arms </span><span>agIn </span><span>July </span><span>, </span><span>Russian </span><span>President </span><span>Vladimir </span><span>Putin </span><span>declared </span><span>a </span><span>moratorium </span><span>on </span><span>the </span><span>country </span><span>'s </span><span>compliance </span><span>with </span><span>the </span><span>Conventional </span><span>Forces </span><span>in </span><span>Europe </span><span>Treaty. </span><span>It </span><span>came </span><span>after </span><span>a </span><span key=70 class=\"highlight blue\" depth=0 id=PROP onmouseover=\"handleHighlightMouseOver(this)\"                 onmouseout=\"handleHighlightMouseOut(this)\" labelPosition=\"left\">                <span class=\"highlight__label\"><strong>PROP</strong></span>                <span class=\"highlight__content\"><span>tense </span></span></span><span>conference </span><span>in </span><span>Vienna </span><span>, </span><span>where </span><span>NATO </span><span>member </span><span>- </span><span>states </span><span>refused </span><span>to </span><span>ratify </span><span>an </span><span>amended </span><span>version. </span><span>He </span><span>'d </span><span>warned </span><span>of </span><span>the </span><span>possibility </span><span>of </span><span>withdrawing </span><span>from </span><span>the </span><span>treaty </span><span>months </span><span>earlier </span><span>. </span><span>said </span><span>Vladimir </span><span>Putin. </span><span>In </span><span>mid </span><span>- </span><span>September </span><span>at </span><span>a </span><span>parliamentary </span><span>hearing </span><span>on </span><span>the </span><span>issue </span><span>the </span><span>Russian </span><span>State </span><span>Duma </span><span>Deputy </span><span>Konstantin </span><span>Kosachev </span><span>said </span><span>the </span><span>moratorium </span><span>on </span><span>Russia </span><span>'s </span><span>fulfilment </span><span>of </span><span>the </span><span>treaty </span><span>was </span><span>not </span><span>irreversible </span><span>. </span><span>said </span><span>Mr </span><span>Kosachev. </span></div>"
      ],
      "text/plain": [
       "<IPython.core.display.HTML object>"
      ]
     },
     "metadata": {},
     "output_type": "display_data"
    },
    {
     "data": {
      "text/html": [
       "<div style=\"padding: 16px;\"><span>The </span><span>main </span><span>topics </span><span>in </span><span>the </span><span>Russian </span><span>weeklies </span><span>are </span><span>The </span><span>October </span><span>Revolution </span><span>, </span><span>the </span><span>situation </span><span>in </span><span>Georgia </span><span>and </span><span>the </span><span>state </span><span>of </span><span>Russia </span><span>- </span><span>EU </span><span>relations </span><span>. </span><span>Each </span><span>subject </span><span>has </span><span>spawned </span><span>a </span><span>host </span><span>of </span><span>editorials </span><span>, </span><span>comments </span><span>, </span><span>views </span><span>and </span><span>interviews.editor </span><span>Mikhail </span><span>Leontiev </span><span>writes </span><span>that </span><span>the </span><span>Russian </span><span>Empire </span><span>was </span><span>held </span><span>together </span><span>by </span><span>a </span><span>layer </span><span>of </span><span>Russian </span><span>- </span><span>European </span><span>culture </span><span>in </span><span>the </span><span>minds </span><span>of </span><span>the </span><span>educated </span><span>classes </span><span>and </span><span>by </span><span>Christianity </span><span>. </span><span>The </span><span>Bolshevik </span><span>revolution </span><span key=71 class=\"highlight blue\" depth=0 id=PROP onmouseover=\"handleHighlightMouseOver(this)\"                 onmouseout=\"handleHighlightMouseOut(this)\" labelPosition=\"left\">                <span class=\"highlight__label\"><strong>PROP</strong></span>                <span class=\"highlight__content\"><span>wiped </span></span></span><span>out </span><span>both </span><span>. </span><span>Russian </span><span>history </span><span>had </span><span>to </span><span>start </span><span>anew. </span><span>Editor </span><span>of </span><span>Vitaly </span><span>Tretyakov </span><span>writes </span><span>in </span><span>his </span><span>on </span><span>- </span><span>line </span><span>column </span><span>: </span><span>Saakashvili </span><span>has </span><span>proved </span><span>to </span><span>be </span><span key=98 class=\"highlight blue\" depth=0 id=PROP onmouseover=\"handleHighlightMouseOver(this)\"                 onmouseout=\"handleHighlightMouseOut(this)\" labelPosition=\"left\">                <span class=\"highlight__label\"><strong>PROP</strong></span>                <span class=\"highlight__content\"><span>uncontrollable </span></span></span><span>, </span><span>even </span><span>by </span><span>the </span><span>United </span><span>States </span><span>. </span><span>The </span><span>Georgian </span><span>President </span><span>is </span><span>now </span><span key=111 class=\"highlight blue\" depth=0 id=PROP onmouseover=\"handleHighlightMouseOver(this)\"                 onmouseout=\"handleHighlightMouseOut(this)\" labelPosition=\"left\">                <span class=\"highlight__label\"><strong>PROP</strong></span>                <span class=\"highlight__content\"><span>the </span> <span>most </span> <span>dangerous </span> <span>leader </span> <span>in </span> <span>the </span> <span>Caucasus </span></span></span><span>. </span><span>Prolongation </span><span>of </span><span>his </span><span>rule </span><span>may </span><span>give </span><span>birth </span><span>to </span><span>a </span><span>large </span><span>- </span><span>scale </span><span>war. </span><span>Mikhail </span><span>Saakashvili </span><span>says </span><span>in </span><span>an </span><span>interview </span><span>with </span><span>, </span><span>which </span><span>he </span><span>gave </span><span>when </span><span>the </span><span>protests </span><span>were </span><span>already </span><span>in </span><span>full </span><span>swing </span><span>: </span><span>“ </span><span>This </span><span>is </span><span>not </span><span>a </span><span>political </span><span>crisis </span><span>of </span><span>any </span><span>sort </span><span>. </span><span>This </span><span>is </span></div>"
      ],
      "text/plain": [
       "<IPython.core.display.HTML object>"
      ]
     },
     "metadata": {},
     "output_type": "display_data"
    },
    {
     "data": {
      "text/html": [
       "<div style=\"padding: 16px;\"><span>The </span><span>storm </span><span>in </span><span>the </span><span>Black </span><span>Sea </span><span>has </span><span>claimed </span><span>its </span><span>first </span><span>lives </span><span>. </span><span>Two </span><span>crew </span><span>have </span><span>died </span><span>and </span><span>one </span><span>is </span><span>missing </span><span>after </span><span>a </span><span>ship </span><span>carrying </span><span>metal </span><span>cargo </span><span>sank </span><span>early </span><span>on </span><span>Sunday </span><span>in </span><span>Ukrainian </span><span>waters </span><span>off </span><span>Sevastopol </span><span>. </span><span>Fourteen </span><span>people </span><span>were </span><span>rescued </span><span>from </span><span>the </span><span>vessel </span><span>. </span><span>The </span><span>rescue </span><span>operation </span><span>continues </span><span>but </span><span>with </span><span>great </span><span>difficulty </span><span>. </span><span>said </span><span>Aleksandr </span><span>Davydenko </span><span>of </span><span>the </span><span>Federal </span><span>Agency </span><span>for </span><span>Sea </span><span>& </span><span>Inland </span><span>Water </span><span>Transport. </span><span>At </span><span>least </span><span>seven </span><span>vessels </span><span>have </span><span>been </span><span key=72 class=\"highlight blue\" depth=0 id=PROP onmouseover=\"handleHighlightMouseOver(this)\"                 onmouseout=\"handleHighlightMouseOut(this)\" labelPosition=\"left\">                <span class=\"highlight__label\"><strong>PROP</strong></span>                <span class=\"highlight__content\"><span>battered </span></span></span><span>by </span><span>a </span><span>storm </span><span>in </span><span>the </span><span>Black </span><span>and </span><span>Azov </span><span>Seas </span><span>in </span><span>the </span><span>south </span><span>of </span><span>the </span><span>country </span><span>. </span><span>Two </span><span>cargo </span><span>ships </span><span>each </span><span>containing </span><span>over </span><span>2,000 </span><span>tonnes </span><span>of </span><span>sulphur </span><span>have </span><span>sunk </span><span>. </span><span>Eight </span><span>crew </span><span>from </span><span>one </span><span>of </span><span>them </span><span>are </span><span>missing </span><span>. </span><span>All </span><span>crew </span><span>members </span><span>of </span><span>the </span><span>other </span><span>sulphur </span><span>- </span><span>containing </span><span>vessel </span><span>have </span><span>been </span><span>rescued. </span><span>Another </span><span>cargo </span><span>ship </span><span>is </span><span>in </span><span>distress </span><span>. </span><span>An </span><span>oil </span><span>tanker </span><span>has </span><span>split </span><span>in </span><span>half </span><span>spilling </span><span>up </span><span>to </span><span>thirteen </span><span>hundred </span><span>tonnes </span><span>of </span><span>oil </span><span>into </span><span>the </span></div>"
      ],
      "text/plain": [
       "<IPython.core.display.HTML object>"
      ]
     },
     "metadata": {},
     "output_type": "display_data"
    },
    {
     "data": {
      "text/html": [
       "<div style=\"padding: 16px;\"><span>At </span><span>least </span><span>20 </span><span>sailors </span><span>are </span><span>feared </span><span>dead </span><span>in </span><span>the </span><span>Black </span><span>and </span><span>Azov </span><span>Seas </span><span>after </span><span>disappearing </span><span>in </span><span>the </span><span>region </span><span>’s </span><span>worst </span><span>storm </span><span>for </span><span>30 </span><span>years </span><span>. </span><span>Rescuers </span><span>are </span><span>being </span><span>hampered </span><span>by </span><span>9C </span><span>sea </span><span>temperatures </span><span>and </span><span>dangerous </span><span>winds </span><span>. </span><span>The </span><span>20 </span><span>men </span><span>, </span><span>from </span><span>Russia </span><span>and </span><span>Ukraine </span><span>, </span><span>disappeared </span><span>after </span><span>weather </span><span>conditions </span><span>caused </span><span>three </span><span>ships </span><span>to </span><span>sink </span><span>and </span><span>two </span><span>barges </span><span>to </span><span>run </span><span>aground </span><span>last </span><span>weekend. </span><span>At </span><span>least </span><span>three </span><span>bodies </span><span>have </span><span>washed </span><span>ashore </span><span>while </span><span>sixty </span><span>others </span><span>were </span><span>plucked </span><span>from </span><span>the </span><span>sea. </span><span>Nearly </span><span>600 </span><span>people </span><span>are </span><span>involved </span><span>in </span><span>the </span><span>clean </span><span>- </span><span>up </span><span>operation </span><span>, </span><span>although </span><span>it </span><span>’s </span><span>also </span><span>being </span><span>slowed </span><span>by </span><span>weather </span><span>conditions </span><span>which </span><span>are </span><span>expected </span><span>to </span><span>get </span><span>worse </span><span>. </span><span>As </span><span>the </span><span>storms </span><span>continue </span><span>to </span><span key=111 class=\"highlight blue\" depth=0 id=PROP onmouseover=\"handleHighlightMouseOver(this)\"                 onmouseout=\"handleHighlightMouseOut(this)\" labelPosition=\"left\">                <span class=\"highlight__label\"><strong>PROP</strong></span>                <span class=\"highlight__content\"><span>batter </span></span></span><span>the </span><span>coastline </span><span>, </span><span>the </span><span>cleanup </span><span>teams </span><span>are </span><span>trying </span><span>to </span><span>collect </span><span>the </span><span>oil </span><span>from </span><span>the </span><span>beach </span><span>. </span><span>They </span><span>say </span><span>, </span><span>it </span><span>'s </span><span>important </span><span>to </span><span>stop </span><span>it </span><span>from </span><span>being </span><span>washed </span><span>back </span><span>into </span><span>the </span><span>sea. </span><span>Two </span><span>fuel </span><span>spills </span><span>, </span><span>each </span><span>more </span><span>than </span><span>a </span><span>kilometre </span><span>long </span><span>, </span><span>have </span><span>appeared </span><span>on </span><span>the </span><span>sea </span><span>'s </span><span>surface </span></div>"
      ],
      "text/plain": [
       "<IPython.core.display.HTML object>"
      ]
     },
     "metadata": {},
     "output_type": "display_data"
    },
    {
     "data": {
      "text/html": [
       "<div style=\"padding: 16px;\"><span>The </span><span>search </span><span>for </span><span>who </span><span>’s </span><span>responsible </span><span>for </span><span>one </span><span>of </span><span>Russia </span><span>’s </span><span>worst </span><span>maritime </span><span>disasters </span><span>in </span><span>the </span><span>Black </span><span>Sea </span><span>has </span><span>begun </span><span>, </span><span>as </span><span>ship </span><span>captains </span><span>and </span><span>port </span><span>officials </span><span key=27 class=\"highlight blue\" depth=0 id=PROP onmouseover=\"handleHighlightMouseOver(this)\"                 onmouseout=\"handleHighlightMouseOut(this)\" labelPosition=\"left\">                <span class=\"highlight__label\"><strong>PROP</strong></span>                <span class=\"highlight__content\"><span>point </span> <span>the </span> <span>finger </span></span></span><span>at </span><span>each </span><span>other </span><span>. </span><span>Several </span><span>sailors </span><span>are </span><span>dead </span><span>and </span><span>emergency </span><span>teams </span><span>are </span><span>still </span><span>battling </span><span>to </span><span>clean </span><span>a </span><span>massiUkraine </span><span>'s </span><span>President </span><span>Viktor </span><span>Yuschenko </span><span>is </span><span>proposing </span><span>a </span><span>new </span><span>agreement </span><span>with </span><span>Russia </span><span>on </span><span>the </span><span>joint </span><span>use </span><span>of </span><span>the </span><span>Kerch </span><span>Strait. </span><span>Speaking </span><span>in </span><span>Israel </span><span>, </span><span>the </span><span>President </span><span>said </span><span>new </span><span>transport </span><span>regulations </span><span>for </span><span>the </span><span>area </span><span>would </span><span>help </span><span>prevent </span><span>future </span><span>environmental </span><span>disasters. </span><span>A </span><span>massive </span><span>oil </span><span>slick </span><span>remains </span><span>where </span><span>the </span><span>Volganeft-139 </span><span>tanker </span><span>broke </span><span>in </span><span>half </span><span>, </span><span>spilling </span><span>about </span><span>2,000 </span><span>tonnes </span><span>of </span><span>oil </span><span>into </span><span>the </span><span>water </span><span>, </span><span>and </span><span>several </span><span>other </span><span>ships </span><span>, </span><span>carrying </span><span>hazardous </span><span>chemicals </span><span>, </span><span>sank </span><span>during </span><span>the </span><span>region </span><span>'s </span><span>worst </span><span>storms </span><span>for </span><span>30 </span><span>years. </span><span>Thousands </span><span>of </span><span>birds </span><span>were </span><span>trapped </span><span>in </span><span>the </span><span>oil </span><span>spill </span><span>for </span><span>more </span><span>than </span><span>three </span><span>days </span><span>, </span><span>freezing </span><span>in </span><span>the </span><span>cold </span><span>rain </span><span>. </span><span>Some </span><span>were </span><span>saved </span><span>by </span><span>local </span><span>hunters. </span></div>"
      ],
      "text/plain": [
       "<IPython.core.display.HTML object>"
      ]
     },
     "metadata": {},
     "output_type": "display_data"
    },
    {
     "data": {
      "text/html": [
       "<div style=\"padding: 16px;\"><span>Experts </span><span>say </span><span>the </span><span>damage </span><span>from </span><span>the </span><span>Black </span><span>sea </span><span>disaster </span><span>may </span><span>reappear </span><span>each </span><span>spring </span><span>. </span><span>Several </span><span>sailors </span><span>are </span><span>dead </span><span>and </span><span>emergency </span><span>teams </span><span>are </span><span>still </span><span>battling </span><span>to </span><span>clean </span><span>the </span><span>massive </span><span>oil </span><span>spill </span><span>in </span><span>the </span><span>Kerch </span><span>Strait </span><span>. </span><span>In </span><span>all </span><span>, </span><span>five </span><span>ships </span><span>sunk </span><span>during </span><span>the </span><span>region </span><span>'s </span><span>worst </span><span>storm </span><span>in </span><span>30The </span><span>search </span><span>for </span><span>who </span><span>'s </span><span>responsible </span><span>has </span><span>begun </span><span>, </span><span>as </span><span>ship </span><span>captains </span><span>and </span><span>port </span><span>officials </span><span key=63 class=\"highlight blue\" depth=0 id=PROP onmouseover=\"handleHighlightMouseOver(this)\"                 onmouseout=\"handleHighlightMouseOut(this)\" labelPosition=\"left\">                <span class=\"highlight__label\"><strong>PROP</strong></span>                <span class=\"highlight__content\"><span>point </span> <span>the </span> <span>finger </span></span></span><span>at </span><span>each </span><span>other. </span><span>Vladimir </span><span>Slivyak </span><span>, </span><span>from </span><span>the </span><span>international </span><span>Ecodefence </span><span>group </span><span>, </span><span>believes </span><span>the </span><span key=78 class=\"highlight blue\" depth=0 id=PROP onmouseover=\"handleHighlightMouseOver(this)\"                 onmouseout=\"handleHighlightMouseOut(this)\" labelPosition=\"left\">                <span class=\"highlight__label\"><strong>PROP</strong></span>                <span class=\"highlight__content\"><span>invisible </span> <span>consequences </span></span></span><span key=79 class=\"highlight blue\" depth=0 id=PROP onmouseover=\"handleHighlightMouseOver(this)\"                 onmouseout=\"handleHighlightMouseOut(this)\" labelPosition=\"left\">                <span class=\"highlight__label\"><strong>PROP</strong></span>                <span class=\"highlight__content\"><span>will </span> <span>continue </span> <span>damaging </span></span></span><span>the </span><span>region </span><span>for </span><span>years </span><span>. </span><span>Slivyak </span><span>said. </span><span>Ukraine </span><span>'s </span><span>President </span><span>Viktor </span><span>Yuschenko </span><span>is </span><span>proposing </span><span>a </span><span>new </span><span>agreement </span><span>with </span><span>Russia </span><span>on </span><span>the </span><span>joint </span><span>use </span><span>of </span><span>the </span><span>Kerch </span><span>Strait </span><span>. </span><span>Speaking </span><span>in </span><span>Israel </span><span>, </span><span>the </span><span>President </span><span>said </span><span>new </span><span>transport </span><span>regulations </span><span>for </span><span>the </span><span>area </span><span>would </span><span>help </span><span>prevent </span><span>future </span><span>environmental </span><span>disasters. </span><span>The </span><span>body </span><span>of </span><span>one </span><span>more </span><span>sailor </span><span>has </span><span>been </span><span>found </span><span>in </span><span>the </span><span>Kerch </span><span>Strait </span><span>. </span><span>All </span><span>in </span><span>all </span><span>more </span><span>than </span><span>five </span><span>have </span><span>died </span><span>, </span><span>and </span><span>19 </span><span>others </span></div>"
      ],
      "text/plain": [
       "<IPython.core.display.HTML object>"
      ]
     },
     "metadata": {},
     "output_type": "display_data"
    },
    {
     "data": {
      "text/html": [
       "<div style=\"padding: 16px;\"><span>The </span><span>body </span><span>charged </span><span>with </span><span>observing </span><span>Russia </span><span>'s </span><span>parliamentary </span><span>elections </span><span>is </span><span key=10 class=\"highlight blue\" depth=0 id=PROP onmouseover=\"handleHighlightMouseOver(this)\"                 onmouseout=\"handleHighlightMouseOut(this)\" labelPosition=\"left\">                <span class=\"highlight__label\"><strong>PROP</strong></span>                <span class=\"highlight__content\"><span>riddled </span> <span>with </span> <span>double </span> <span>standards </span></span></span><span>and </span><span>must </span><span>be </span><span>reformed </span><span>, </span><span>according </span><span>to </span><span>the </span><span>country </span><span>'s </span><span>Foreign </span><span>Minister </span><span>, </span><span>Sergey </span><span>Lavrov </span><span>. </span><span>He </span><span>says </span><span>in </span><span>its </span><span>current </span><span>form </span><span>the </span><span>Organization </span><span>for </span><span>Security </span><span>and </span><span>Co </span><span>- </span><span>operation </span><span>in </span><span>Europe </span><span>( </span><span>OSCE </span><span>) </span><span key=46 class=\"highlight blue\" depth=0 id=PROP onmouseover=\"handleHighlightMouseOver(this)\"                 onmouseout=\"handleHighlightMouseOut(this)\" labelPosition=\"left\">                <span class=\"highlight__label\"><strong>PROP</strong></span>                <span class=\"highlight__content\"><span>lacks </span> <span>credibility. </span></span></span><span>Meeting </span><span>with </span><span>his </span><span>Finnish </span><span>counterpart </span><span>Ilkka </span><span>Kanerva </span><span>, </span><span>Lavrov </span><span>urged </span><span>Finland </span><span>– </span><span>the </span><span>country </span><span>that </span><span>will </span><span>assume </span><span>the </span><span>OSCE </span><span>chairmanship </span><span>in </span><span>2008 </span><span>– </span><span>to </span><span>begin </span><span>discussing </span><span>The </span><span>Russian </span><span>minister </span><span>said </span><span>, </span><span>The </span><span>comments </span><span>were </span><span>made </span><span>at </span><span>the </span><span>foreign </span><span>ministers </span><span>’ </span><span>meeting </span><span>which </span><span>is </span><span>part </span><span>of </span><span>the </span><span>Barents </span><span>Euro </span><span>- </span><span>Arctic </span><span>Council </span><span>( </span><span>BEAC </span><span>) </span><span>forum </span><span>that </span><span>’s </span><span>been </span><span>taking </span><span>place </span><span>in </span><span>the </span><span>Finnish </span><span>city </span><span>of </span><span>Rovaniemi. </span><span>Among </span><span>other </span><span>topics </span><span>discussed </span><span>was </span><span>the </span><span>Treaty </span><span>on </span><span>Conventional </span><span>Armed </span><span>Forces </span><span>in </span><span>Europe </span><span>( </span><span>CFE </span><span>) </span><span>. </span><span>Lavrov </span><span>has </span><span>once </span><span>again </span><span>reinstated </span><span>that </span></div>"
      ],
      "text/plain": [
       "<IPython.core.display.HTML object>"
      ]
     },
     "metadata": {},
     "output_type": "display_data"
    },
    {
     "data": {
      "text/html": [
       "<div style=\"padding: 16px;\"><span>Voter </span><span>apathy </span><span>just </span><span>two </span><span>weeks </span><span>from </span><span>election </span><span>day </span><span>, </span><span>Russia </span><span>'s </span><span>complete </span><span>withdrawal </span><span>from </span><span>Georgia </span><span>and </span><span>Kosovo </span><span>'s </span><span>independence </span><span>before </span><span>Christmas </span><span>– </span><span>that </span><span>'s </span><span>the </span><span>mixed </span><span>bag </span><span>featured </span><span>in </span><span>Russian </span><span>newspapers.publishes </span><span>an </span><span>interview </span><span>with </span><span>the </span><span>Director </span><span>General </span><span>of </span><span>the </span><span>National </span><span>Centre </span><span>for </span><span>Public </span><span>Opinion </span><span>Research </span><span>, </span><span>Valery </span><span>Fedorov </span><span>, </span><span>who </span><span>says </span><span>: </span><span>our </span><span>polls </span><span>suggest </span><span>that </span><span>the </span><span>public </span><span>interest </span><span>in </span><span>the </span><span>upcoming </span><span>election </span><span>is </span><span>quite </span><span>low </span><span>. </span><span>The </span><span>economic </span><span>stability </span><span>and </span><span>the </span><span>opportunities </span><span>presented </span><span>by </span><span>the </span><span>economic </span><span>growth </span><span>distract </span><span>people </span><span>from </span><span>politics </span><span>. </span><span>Another </span><span>factor </span><span>– </span><span>there </span><span>is </span><span>no </span><span>ideological </span><span>purity </span><span>any </span><span>more </span><span>. </span><span>The </span><span key=95 class=\"highlight blue\" depth=0 id=PROP onmouseover=\"handleHighlightMouseOver(this)\"                 onmouseout=\"handleHighlightMouseOut(this)\" labelPosition=\"left\">                <span class=\"highlight__label\"><strong>PROP</strong></span>                <span class=\"highlight__content\"><span>Communists </span></span></span><span>are </span><span>not </span><span>exactly </span><span>what </span><span>they </span><span>sound </span><span>like </span><span>: </span><span>they </span><span>support </span><span>business </span><span>and </span><span>private </span><span>property </span><span>. </span><span>The </span><span>conservatives </span><span>have </span><span>nothing </span><span>to </span><span>conserve </span><span>. </span><span>Every </span><span>party </span><span>builds </span><span>its </span><span>programme </span><span>around </span><span>universal </span><span>values </span><span>. </span><span>An </span><span>ideological </span><span>cocktail </span><span>is </span><span>the </span><span>trend </span><span>of </span><span>our </span><span>time </span><span>. </span><span>In </span><span>these </span><span>circumstances </span><span>no </span><span>clone </span><span>of </span><span>the </span><span>Communist </span><span>Party </span><span>of </span><span>the </span><span>Soviet </span><span>Union </span><span>may </span><span>emerge </span><span>. </span><span>Trust </span><span>me </span><span>on </span><span>that </span><span>, </span><span>says </span><span>Fedorov </span><span>. </span><span>describes </span><span>the </span><span>final </span><span>minutes </span><span>of </span><span>the </span><span>last </span><span>unit </span><span>of </span><span>the </span><span>Russian </span><span>army </span><span>on </span><span>Georgian </span><span>soil </span><span>. </span><span>As </span><span>it </span><span>was </span><span>promised </span><span>, </span><span>not </span><span>a </span><span>nail </span><span>is </span><span>being </span><span>left </span><span>behind </span><span>. </span><span>Most </span><span>service </span></div>"
      ],
      "text/plain": [
       "<IPython.core.display.HTML object>"
      ]
     },
     "metadata": {},
     "output_type": "display_data"
    },
    {
     "data": {
      "text/html": [
       "<div style=\"padding: 16px;\"><span>Ukraine </span><span>is </span><span>marking </span><span>the </span><span>third </span><span>anniversary </span><span>of </span><span>the </span><span>Orange </span><span>revolution </span><span>. </span><span>In </span><span>2004 </span><span>the </span><span>nation </span><span>was </span><span>divided </span><span>between </span><span>supporters </span><span>of </span><span>Viktor </span><span>Yushchenko </span><span>, </span><span>the </span><span>current </span><span>president </span><span>, </span><span>and </span><span>Viktor </span><span>Yanukovich </span><span>, </span><span>the </span><span>current </span><span>prime </span><span>minister </span><span>. </span><span>The </span><span>rivalry </span><span>continues </span><span>as </span><span>the </span><span>country </span><span>'s </span><span>newThe </span><span>revolution </span><span>split </span><span>many </span><span>villages </span><span>and </span><span>towns </span><span>in </span><span>Ukraine </span><span>. </span><span>Lubov </span><span>Petrivna </span><span>, </span><span>a </span><span>Ukrainian </span><span>villager </span><span>, </span><span>said </span><span>there </span><span>was </span><span>conflict </span><span>in </span><span>the </span><span>smallest </span><span>communities </span><span>. </span><span>she </span><span>said. </span><span>Allegations </span><span>that </span><span>a </span><span>presidential </span><span>vote </span><span>was </span><span>rigged </span><span>in </span><span>favour </span><span>of </span><span>Yanukovich </span><span>prompted </span><span>thousands </span><span>of </span><span>people </span><span>in </span><span>Kiev </span><span>to </span><span>camp </span><span>out </span><span>on </span><span>the </span><span>streets </span><span>in </span><span>freezing </span><span>temperatures </span><span>. </span><span>Three </span><span>years </span><span>on </span><span>, </span><span>many </span><span>say </span><span>they </span><span>still </span><span>believe </span><span>in </span><span>their </span><span>President </span><span>and </span><span>his </span><span>former </span><span>ally </span><span>, </span><span>ex </span><span>- </span><span>Prime </span><span>Minister </span><span>Yulia </span><span>Timoshenko </span><span>. </span><span>Her </span><span>pictures </span><span>are </span><span>hanging </span><span>right </span><span>next </span><span>to </span><span>holy </span><span>icons </span><span>in </span><span>some </span><span>houses. </span><span>But </span><span>it </span><span>'s </span><span>a </span><span>different </span><span>picture </span><span>in </span><span>the </span><span>east </span><span>of </span><span>Ukraine </span><span>. </span><span>For </span><span>many </span><span>in </span><span>the </span><span>town </span><span>Donetsk </span><span>the </span><span>revolution </span><span>was </span><span>a </span><span key=156 class=\"highlight blue\" depth=0 id=PROP onmouseover=\"handleHighlightMouseOver(this)\"                 onmouseout=\"handleHighlightMouseOut(this)\" labelPosition=\"left\">                <span class=\"highlight__label\"><strong>PROP</strong></span>                <span class=\"highlight__content\"><span>farce. </span></span></span><span>Former </span><span>miner </span><span>Dmitry </span></div>"
      ],
      "text/plain": [
       "<IPython.core.display.HTML object>"
      ]
     },
     "metadata": {},
     "output_type": "display_data"
    },
    {
     "data": {
      "text/html": [
       "<div style=\"padding: 16px;\"><span>Ukraine </span><span>'s </span><span>newly </span><span>elected </span><span>Parliament </span><span>is </span><span>meeting </span><span>for </span><span>the </span><span>first </span><span>time </span><span>following </span><span>September </span><span>'s </span><span>early </span><span>election </span><span>. </span><span>Prime </span><span>Minister </span><span>Viktor </span><span>Yanukovich </span><span>has </span><span>formally </span><span>resigned </span><span>with </span><span>the </span><span>pending </span><span>formation </span><span>of </span><span>a </span><span>new </span><span>government </span><span>. </span><span>A </span><span>political </span><span>crisis </span><span>was </span><span>triggered </span><span>by </span><span>claims </span><span>Parliament </span><span>had </span><span>violated </span><span>the </span><span>constitution </span><span>by </span><span>giving </span><span>itself </span><span>greater </span><span>powers. </span><span>President </span><span>Victor </span><span>Yushchenko </span><span>dissolved </span><span>Parliament </span><span>and </span><span>called </span><span>early </span><span>elections </span><span>, </span><span>accusing </span><span>the </span><span>Prime </span><span>Minister </span><span>'s </span><span>Regions </span><span>Party </span><span>, </span><span>led </span><span>by </span><span>Viktor </span><span>Yanukovich </span><span>, </span><span>of </span><span>acting </span><span>unlawfully. </span><span>However </span><span>, </span><span>the </span><span>election </span><span>changed </span><span>little </span><span>. </span><span>The </span><span>parties </span><span>supporting </span><span>Yushchenko </span><span>and </span><span>Yanukovich </span><span>remain </span><span key=90 class=\"highlight blue\" depth=0 id=PROP onmouseover=\"handleHighlightMouseOver(this)\"                 onmouseout=\"handleHighlightMouseOut(this)\" labelPosition=\"left\">                <span class=\"highlight__label\"><strong>PROP</strong></span>                <span class=\"highlight__content\"><span>neck </span> <span>in </span></span></span><span>neck </span><span>, </span><span>suggesting </span><span>more </span><span>deadlock </span><span>in </span><span>the </span><span>new </span><span>parliament. </span><span>After </span><span>listening </span><span>to </span><span>the </span><span>national </span><span>anthem </span><span>, </span><span>the </span><span>MPs </span><span>will </span><span>form </span><span>factions </span><span>and </span><span>elect </span><span>their </span><span>leaders. </span><span>During </span><span>the </span><span>session </span><span>Yanukovich </span><span>has </span><span>formally </span><span>resigned </span><span>as </span><span>required </span><span>by </span><span>the </span><span>legislation </span><span>in </span><span>force </span><span>. </span><span>The </span><span>outgoing </span><span>cabinet </span><span>will </span><span>will </span><span>stay </span><span>in </span></div>"
      ],
      "text/plain": [
       "<IPython.core.display.HTML object>"
      ]
     },
     "metadata": {},
     "output_type": "display_data"
    },
    {
     "data": {
      "text/html": [
       "<div style=\"padding: 16px;\"><span>Ceremonies </span><span>are </span><span>being </span><span>held </span><span>in </span><span>Ukraine </span><span>to </span><span>remember </span><span>the </span><span>victims </span><span>of </span><span>Josef </span><span>Stalin </span><span>'s </span><span>collectivisation </span><span>drive </span><span>. </span><span>Seventy </span><span>- </span><span>five </span><span>years </span><span>ago </span><span>the </span><span>resulting </span><span>famine </span><span>claimed </span><span>10 </span><span>million </span><span>lives </span><span>in </span><span>the </span><span>country </span><span>. </span><span>Ukraine </span><span>demands </span><span>that </span><span>the </span><span>campaign </span><span>be </span><span>internationally </span><span>recognised </span><span>asUkraine </span><span>'s </span><span>President </span><span>Viktor </span><span>Yushenko </span><span>has </span><span>proclaimed </span><span>2008 </span><span>a </span><span>year </span><span>of </span><span>commemoration </span><span>of </span><span>the </span><span>victims </span><span>of </span><span>the </span><span>great </span><span>famine. </span><span>In </span><span>1929 </span><span>Stalin </span><span>launched </span><span>his </span><span>collectivisation </span><span>programme </span><span>. </span><span>No </span><span>private </span><span>farmer </span><span>was </span><span>safe </span><span>. </span><span>The </span><span>government </span><span>confiscated </span><span>crops </span><span>and </span><span>in </span><span>doing </span><span>so </span><span>effectively </span><span>engineering </span><span>the </span><span>famine </span><span>. </span><span>Ukrainian </span><span>villages </span><span>that </span><span>failed </span><span>to </span><span>fulfill </span><span>the </span><span>bread </span><span>- </span><span>delivery </span><span>quota </span><span>were </span><span>listed </span><span>on </span><span>‘ </span><span>black </span><span>boards </span><span>’ </span><span>, </span><span>and </span><span>all </span><span>food </span><span>supplies </span><span>were </span><span>cut </span><span>off. </span><span>The </span><span>famine </span><span>, </span><span>known </span><span>in </span><span>Russian </span><span>and </span><span>Ukrainian </span><span>as </span><span>the </span><span>' </span><span>Holodomor </span><span>' </span><span>, </span><span>had </span><span>a </span><span key=129 class=\"highlight blue\" depth=0 id=PROP onmouseover=\"handleHighlightMouseOver(this)\"                 onmouseout=\"handleHighlightMouseOut(this)\" labelPosition=\"left\">                <span class=\"highlight__label\"><strong>PROP</strong></span>                <span class=\"highlight__content\"><span>devastating </span> <span>effect. </span></span></span><span>Hundreds </span><span>of </span><span>thousands </span><span>starved </span><span>. </span><span>The </span><span>exact </span><span>number </span><span>still </span><span>not </span><span>known </span><span>and </span><span>some </span><span>resortred </span><span>to </span><span key=145 class=\"highlight blue\" depth=0 id=PROP onmouseover=\"handleHighlightMouseOver(this)\"                 onmouseout=\"handleHighlightMouseOut(this)\" labelPosition=\"left\">                <span class=\"highlight__label\"><strong>PROP</strong></span>                <span class=\"highlight__content\"><span>cannibalism </span></span></span></div>"
      ],
      "text/plain": [
       "<IPython.core.display.HTML object>"
      ]
     },
     "metadata": {},
     "output_type": "display_data"
    },
    {
     "data": {
      "text/html": [
       "<div style=\"padding: 16px;\"><span>The </span><span>Russian </span><span>football </span><span>team </span><span>'s </span><span>success </span><span>in </span><span>qualifying </span><span>for </span><span>Euro-2008 </span><span>is </span><span>set </span><span>to </span><span>bring </span><span>a </span><span key=15 class=\"highlight blue\" depth=0 id=PROP onmouseover=\"handleHighlightMouseOver(this)\"                 onmouseout=\"handleHighlightMouseOut(this)\" labelPosition=\"left\">                <span class=\"highlight__label\"><strong>PROP</strong></span>                <span class=\"highlight__content\"><span>windfall </span></span></span><span>for </span><span>the </span><span>economy </span><span>. </span><span>Millions </span><span>of </span><span>dollars </span><span>are </span><span>expected </span><span>to </span><span>pour </span><span>into </span><span>the </span><span>country </span><span>as </span><span>advertisers </span><span>, </span><span>merchandisers </span><span>, </span><span>and </span><span>broadcasters </span><span>take </span><span>advantage </span><span>of </span><span>renewed </span><span>enthusiasm </span><span>forThe </span><span>English </span><span>economy </span><span>will </span><span>lose </span><span>up </span><span>to </span><span>$ </span><span>US </span><span>2 </span><span>BLN </span><span>from </span><span>losing </span><span>to </span><span>Croatia </span><span>in </span><span>the </span><span>qualification </span><span>games </span><span>. </span><span>This </span><span>does </span><span>not </span><span>mean </span><span>though </span><span>that </span><span>Russia </span><span>will </span><span>automatically </span><span>get </span><span>this </span><span>money </span><span>by </span><span>making </span><span>it </span><span>to </span><span>Euro-2008.says </span><span>Robert </span><span>Voskerichyan </span><span>, </span><span>a </span><span>professor </span><span>from </span><span>Moscow </span><span>’s </span><span>Institute </span><span>of </span><span>Business. </span><span>The </span><span>Russian </span><span>merchandising </span><span>industry </span><span>is </span><span>not </span><span>even </span><span>close </span><span>to </span><span>the </span><span>level </span><span>of </span><span>development </span><span>in </span><span>other </span><span>countries </span><span>. </span><span>Currently </span><span>those </span><span>who </span><span>will </span><span>benefit </span><span>most </span><span>economically </span><span>are </span><span>television </span><span>stations </span><span>broadcasting </span><span>the </span><span>matches </span><span>, </span><span>commercial </span><span>producers </span><span>advertising </span><span>during </span><span>prime </span><span>time </span><span>and </span><span>the </span><span>Russian </span><span>Football </span><span>Association </span><span>that </span><span>will </span><span>receive </span><span>money </span><span>from </span><span>UEFA </span><span>for </span><span>making </span><span>it </span><span>to </span><span>the </span><span>tournament </span><span>. </span><span>Russian </span><span>merchandise </span><span>producers </span><span>and </span><span>sports </span><span>bars </span><span>are </span><span>still </span><span>lacking </span><span>customers. </span><span>However </span><span>, </span></div>"
      ],
      "text/plain": [
       "<IPython.core.display.HTML object>"
      ]
     },
     "metadata": {},
     "output_type": "display_data"
    },
    {
     "data": {
      "text/html": [
       "<div style=\"padding: 16px;\"><span>Ukraine </span><span>'s </span><span>newly </span><span>elected </span><span>parliament </span><span>has </span><span>convened </span><span>for </span><span>a </span><span key=9 class=\"highlight blue\" depth=0 id=PROP onmouseover=\"handleHighlightMouseOver(this)\"                 onmouseout=\"handleHighlightMouseOut(this)\" labelPosition=\"left\">                <span class=\"highlight__label\"><strong>PROP</strong></span>                <span class=\"highlight__content\"><span>dramatic </span></span></span><span>first </span><span>session </span><span>. </span><span>The </span><span>factions </span><span>remain </span><span>split </span><span>along </span><span>party </span><span>lines </span><span>and </span><span>the </span><span>session </span><span>resulted </span><span>in </span><span>members </span><span>of </span><span>the </span><span>“ </span><span>orange </span><span>bloc </span><span>” </span><span>theatrically </span><span>leaving </span><span>the </span><span>session </span><span>in </span><span>protest </span><span>at </span><span>criticism </span><span>voicedOn </span><span>Friday </span><span>, </span><span>Prime </span><span>Minister </span><span>Viktor </span><span>Yanukovich </span><span>seemed </span><span>to </span><span>shine </span><span>with </span><span>optimism </span><span>, </span><span>despite </span><span>having </span><span>resigned </span><span>from </span><span>his </span><span>post </span><span>, </span><span>with </span><span>the </span><span>formation </span><span>of </span><span>the </span><span>ruling </span><span>coalition </span><span>pending. </span><span>His </span><span>rival </span><span>Yulia </span><span>Timoshenko </span><span>had </span><span>swapped </span><span>her </span><span>usual </span><span>haute </span><span>couture </span><span>for </span><span>a </span><span>simple </span><span>jumper </span><span>bearing </span><span>her </span><span>party </span><span>'s </span><span>logo </span><span>. </span><span>President </span><span>Viktor </span><span>Yushchenko </span><span>, </span><span>however </span><span>, </span><span>failed </span><span>to </span><span>attend </span><span>the </span><span>first </span><span>sitting </span><span>of </span><span>the </span><span>country </span><span>'s </span><span>new </span><span>parliament </span><span>. </span><span>The </span><span>gathering </span><span key=109 class=\"highlight blue\" depth=0 id=PROP onmouseover=\"handleHighlightMouseOver(this)\"                 onmouseout=\"handleHighlightMouseOut(this)\" labelPosition=\"left\">                <span class=\"highlight__label\"><strong>PROP</strong></span>                <span class=\"highlight__content\"><span>buzzed </span></span></span><span>with </span><span>excitement </span><span>like </span><span>a </span><span>crowded </span><span>classroom </span><span>on </span><span>the </span><span>first </span><span>day </span><span>of </span><span>term. </span><span>The </span><span>deputies </span><span>broke </span><span>the </span><span>ice </span><span>after </span><span>nearly </span><span>a </span><span>year </span><span>of </span><span>political </span><span>stand </span><span>- </span><span>off </span><span>. </span></div>"
      ],
      "text/plain": [
       "<IPython.core.display.HTML object>"
      ]
     },
     "metadata": {},
     "output_type": "display_data"
    },
    {
     "data": {
      "text/html": [
       "<div style=\"padding: 16px;\"><span>Russian </span><span>grain </span><span>shipments </span><span>through </span><span>Black </span><span>Sea </span><span>ports </span><span>could </span><span>be </span><span>in </span><span>jeopardy </span><span>after </span><span>Ukraine </span><span>’s </span><span>state </span><span>railways </span><span>imposed </span><span>extra </span><span>cargo </span><span>payments </span><span>. </span><span>That </span><span>'s </span><span>according </span><span>to </span><span>the </span><span>Ukrainian </span><span>Grain </span><span>Traders </span><span>' </span><span>Union </span><span>. </span><span>The </span><span>railway </span><span>is </span><span>demanding </span><span>payment </span><span>for </span><span>storing </span><span>grain </span><span>while </span><span>it </span><span>'s </span><span>waiting </span><span>to </span><span>be </span><span>unloaded </span><span>near </span><span>Ukrainian </span><span>ports </span><span>. </span><span>Ukrainian </span><span>companies </span><span>have </span><span>stopped </span><span>buying </span><span>and </span><span>shipping </span><span>Russian </span><span>grain </span><span>as </span><span>a </span><span>result. </span><span>In </span><span>June </span><span>, </span><span>Ukraine </span><span>'s </span><span>government </span><span>introduced </span><span key=70 class=\"highlight blue\" depth=0 id=PROP onmouseover=\"handleHighlightMouseOver(this)\"                 onmouseout=\"handleHighlightMouseOut(this)\" labelPosition=\"left\">                <span class=\"highlight__label\"><strong>PROP</strong></span>                <span class=\"highlight__content\"><span>sky </span> <span>- </span> <span>high </span></span></span><span>grain </span><span>export </span><span>quotas </span><span>, </span><span>to </span><span>conserve </span><span>domestic </span><span>stocks </span><span>. </span><span>That </span><span>allowed </span><span>Russia </span><span>and </span><span>Kazakhstan </span><span>to </span><span>boost </span><span>shipments. </span><span>Grain </span><span>transit </span><span>through </span><span>Ukrainian </span><span>Black </span><span>Sea </span><span>ports </span><span>increased </span><span>by </span><span>11 </span><span>percent </span><span>in </span><span>the </span><span>first </span><span>two </span><span>weeks </span><span>of </span><span>November </span><span>alone </span><span>. </span></div>"
      ],
      "text/plain": [
       "<IPython.core.display.HTML object>"
      ]
     },
     "metadata": {},
     "output_type": "display_data"
    },
    {
     "data": {
      "text/html": [
       "<div style=\"padding: 16px;\"><span>Gazprom </span><span>will </span><span>buy </span><span>Turkmen </span><span>gas </span><span>at </span><span>U.S.$130 </span><span>per </span><span>1,000 </span><span>cubic </span><span>metres </span><span>from </span><span>the </span><span>first </span><span>half </span><span>of </span><span>next </span><span>year </span><span>, </span><span>up </span><span>30 </span><span>% </span><span>. </span><span>The </span><span>move </span><span>will </span><span>most </span><span>certainly </span><span>affect </span><span>Ukraine </span><span>. </span><span>Russia </span><span>currently </span><span>buys </span><span>more </span><span>than </span><span>40 </span><span>billion </span><span>cubic </span><span>metres </span><span>of </span><span>gas </span><span>per </span><span>year </span><span>from </span><span>Turkmenistan </span><span>, </span><span>with </span><span>the </span><span>bulk </span><span>being </span><span>exported </span><span>to </span><span>Ukraine </span><span>. </span><span>The </span><span>current </span><span>price </span><span>of </span><span>$ </span><span>100 </span><span>was </span><span>agreed </span><span>with </span><span>in </span><span>September </span><span>2006. </span><span>Ukraine </span><span>expenses </span><span>surging </span><span>Experts </span><span>say </span><span>Ukraine </span><span>will </span><span>have </span><span>to </span><span>pay </span><span>more </span><span>following </span><span>the </span><span>30 </span><span>% </span><span>price </span><span>rise </span><span>. </span><span>Mikhail </span><span>Krutikhin </span><span>, </span><span>analyst </span><span>at </span><span>Rusenergy </span><span>, </span><span>said. </span><span>Ukraine </span><span>on </span><span>the </span><span>other </span><span>hand </span><span>has </span><span>said </span><span>it </span><span>will </span><span>not </span><span>pay </span><span>even </span><span>higher </span><span>prices </span><span>in </span><span>recent </span><span>negotiations </span><span>with </span><span>Moscow </span><span>. </span><span>The </span><span>country </span><span>'s </span><span>Economy </span><span>Minister </span><span>, </span><span>Anatoly </span><span>Kinakh </span><span>, </span><span>said </span><span>a </span><span>price </span><span>of </span><span>$ </span><span>180 </span><span>or </span><span>more </span><span>would </span><span>have </span><span>an </span><span key=133 class=\"highlight blue\" depth=0 id=PROP onmouseover=\"handleHighlightMouseOver(this)\"                 onmouseout=\"handleHighlightMouseOut(this)\" labelPosition=\"left\">                <span class=\"highlight__label\"><strong>PROP</strong></span>                <span class=\"highlight__content\"><span>extremely </span> <span>negative </span></span></span><span>impact </span><span>on </span><span>Ukraine. </span><span>Not </span><span>only </span><span>about </span><span>price </span></div>"
      ],
      "text/plain": [
       "<IPython.core.display.HTML object>"
      ]
     },
     "metadata": {},
     "output_type": "display_data"
    },
    {
     "data": {
      "text/html": [
       "<div style=\"padding: 16px;\"><span>The </span><span>head </span><span>of </span><span>RAO </span><span>UES </span><span>, </span><span>Russia </span><span>'s </span><span>electricity </span><span>monopoly </span><span>, </span><span>admits </span><span>that </span><span>some </span><span>companies </span><span>will </span><span>be </span><span>forced </span><span>out </span><span>of </span><span>business </span><span>by </span><span>the </span><span>latest </span><span>price </span><span>hikes </span><span>. </span><span>But </span><span>Anatoly </span><span>Chubais </span><span>says </span><span>the </span><span>rises </span><span>are </span><span>needed </span><span>to </span><span>pay </span><span>for </span><span>updates </span><span>to </span><span>Russia </span><span>'s </span><span key=42 class=\"highlight blue\" depth=0 id=PROP onmouseover=\"handleHighlightMouseOver(this)\"                 onmouseout=\"handleHighlightMouseOut(this)\" labelPosition=\"left\">                <span class=\"highlight__label\"><strong>PROP</strong></span>                <span class=\"highlight__content\"><span>dilapidated </span></span></span><span>power </span><span>grid </span><span>. </span><span>He </span><span>says </span><span>businesChubais </span><span>said. </span><span>But </span><span>he </span><span>denied </span><span>there </span><span>would </span><span>be </span><span>a </span><span>crisis </span><span>on </span><span>the </span><span>scale </span><span>of </span><span>Ukraine </span><span>, </span><span>where </span><span>some </span><span>industries </span><span>collapsed </span><span>after </span><span>prices </span><span>were </span><span>liberalised </span><span>. </span><span>Chubais </span><span>said </span><span>fuel </span><span>prices </span><span>in </span><span>Russia </span><span>are </span><span>much </span><span>lower </span><span>then </span><span>in </span><span>Ukraine </span><span>and </span><span>it </span><span>makes </span><span>the </span><span>difference. </span><span>Analysts </span><span>accept </span><span>subsidies </span><span>are </span><span>bad </span><span>for </span><span>everyone </span><span>, </span><span>keeping </span><span>companies </span><span>inefficient </span><span>, </span><span>encouraging </span><span>waste </span><span>and </span><span>even </span><span>blocking </span><span>the </span><span>country </span><span>’s </span><span>entry </span><span>to </span><span>the </span><span>World </span><span>Trade </span><span>Organisation. </span><span>But </span><span>the </span><span>fact </span><span>is </span><span>no </span><span>one </span><span>knows </span><span>whether </span><span>Russians </span><span>can </span><span>survive </span><span>a </span><span>sharp </span><span>shock </span><span>to </span><span>break </span><span>90 </span><span>years </span><span>of </span><span>cheap </span><span>electricity </span><span>in </span><span>only </span><span>five </span><span>. </span></div>"
      ],
      "text/plain": [
       "<IPython.core.display.HTML object>"
      ]
     },
     "metadata": {},
     "output_type": "display_data"
    },
    {
     "data": {
      "text/html": [
       "<div style=\"padding: 16px;\"><span>Oleg </span><span>Voloshin </span><span>, </span><span>a </span><span>political </span><span>analyst </span><span>from </span><span>Kiev </span><span>, </span><span>comments </span><span>on </span><span>the </span><span>surprising </span><span>voting </span><span>result </span><span>from </span><span>Ukraine </span><span>'s </span><span>Parliament </span><span>, </span><span>which </span><span>failed </span><span>to </span><span>approve </span><span>Yulia </span><span>Timoshenko </span><span>as </span><span>the </span><span>new </span><span>Prime </span><span>Minister </span><span>. </span><span>“We </span><span>have </span><span>a </span><span>democracy </span><span>that </span><span>has </span><span>reached </span><span>its </span><span>limits </span><span>. </span><span>We </span><span>have </span><span>developed </span><span>a </span><span>pluralistic </span><span>system </span><span>that </span><span>left </span><span>us </span><span>with </span><span>no </span><span>authorities </span><span>, </span><span>no </span><span>government </span><span>at </span><span>all </span><span>. </span><span>Everybody </span><span>was </span><span>sure </span><span>that </span><span>Yulia </span><span>Timoshenko </span><span>will </span><span>be </span><span>approved </span><span>a </span><span>Prime </span><span>Minister </span><span>, </span><span>but </span><span>it </span><span>did </span><span>n't </span><span>happen </span><span>. </span><span>We </span><span>all </span><span>see </span><span>that </span><span>the </span><span>tradition </span><span>of </span><span key=86 class=\"highlight blue\" depth=0 id=PROP onmouseover=\"handleHighlightMouseOver(this)\"                 onmouseout=\"handleHighlightMouseOut(this)\" labelPosition=\"left\">                <span class=\"highlight__label\"><strong>PROP</strong></span>                <span class=\"highlight__content\"><span>chaos </span></span></span><span>in </span><span>Ukrainian </span><span>politics </span><span>continues </span><span>, </span><span>” </span><span>Voloshin </span><span>said </span><span>. </span></div>"
      ],
      "text/plain": [
       "<IPython.core.display.HTML object>"
      ]
     },
     "metadata": {},
     "output_type": "display_data"
    },
    {
     "data": {
      "text/html": [
       "<div style=\"padding: 16px;\"><span>Yulia </span><span>Timoshenko </span><span>could </span><span>become </span><span>Ukraine </span><span>Prime </span><span>Minister </span><span>within </span><span>hours </span><span>, </span><span>if </span><span>the </span><span>country </span><span>’s </span><span>parliament </span><span>supports </span><span>her </span><span>in </span><span>a </span><span>vote </span><span>. </span><span>Recently </span><span>some </span><span>deputies </span><span>have </span><span>torn </span><span>and </span><span>even </span><span>swallowed </span><span>voting </span><span>papers </span><span>in </span><span>protest </span><span>. </span><span>Tuesday </span><span>’s </span><span>process </span><span>may </span><span>prove </span><span>even </span><span>more </span><span>controversial </span><span>. </span><span>The </span><span>‘ </span><span>orange </span><span>team </span><span>’ </span><span>made </span><span>up </span><span>of </span><span>the </span><span>Presidential </span><span>Our </span><span>Ukraine </span><span>Party </span><span>and </span><span>Yulia </span><span>Timoshenko </span><span>’s </span><span>Bloc </span><span>forged </span><span>a </span><span>fragile </span><span>majority </span><span>coalition </span><span>last </span><span>week </span><span>, </span><span>nominating </span><span>Timoshenko </span><span>for </span><span>Prime </span><span>Minister. </span><span>If </span><span>they </span><span>gain </span><span>the </span><span>support </span><span>of </span><span>all </span><span>members </span><span>, </span><span>the </span><span>‘ </span><span key=85 class=\"highlight blue\" depth=0 id=PROP onmouseover=\"handleHighlightMouseOver(this)\"                 onmouseout=\"handleHighlightMouseOut(this)\" labelPosition=\"left\">                <span class=\"highlight__label\"><strong>PROP</strong></span>                <span class=\"highlight__content\"><span>iron </span> <span>lady </span></span></span><span>’ </span><span>will </span><span>form </span><span>the </span><span>government </span><span>on </span><span>the </span><span>same </span><span>day </span><span>. </span><span>So </span><span>, </span><span>the </span><span>Orange </span><span>Revolution </span><span>leader </span><span>is </span><span>expected </span><span>to </span><span>get </span><span>the </span><span>necessary </span><span>majority </span><span>of </span><span>votes </span><span>needed. </span><span>Her </span><span>rivals </span><span>, </span><span>the </span><span>party </span><span>loyal </span><span>to </span><span>the </span><span>governing </span><span>Prime </span><span>Minister </span><span>Viktor </span><span>Yanukovich </span><span>, </span><span>have </span><span>promised </span><span>not </span><span>to </span><span>obstruct </span><span>the </span><span>voting </span><span>. </span><span>However </span><span>, </span><span>they </span><span>insist </span><span>that </span><span>by </span><span>law </span><span>the </span><span>parliamentary </span><span>committees </span><span>must </span><span>be </span><span>formed </span><span>first </span><span>and </span><span>the </span><span>Vice </span><span>Speaker </span><span>must </span><span>be </span><span>selected </span><span>before </span><span>the </span><span>voting </span><span>for </span><span>the </span><span>Prime </span><span>Minister. </span></div>"
      ],
      "text/plain": [
       "<IPython.core.display.HTML object>"
      ]
     },
     "metadata": {},
     "output_type": "display_data"
    },
    {
     "data": {
      "text/html": [
       "<div style=\"padding: 16px;\"><span>The </span><span>Party </span><span>of </span><span>the </span><span>Regions </span><span>in </span><span>Ukraine </span><span>has </span><span>demanded </span><span>an </span><span>apology </span><span>from </span><span>the </span><span>Orange </span><span>coalition </span><span>over </span><span>allegations </span><span>it </span><span>tampered </span><span>with </span><span>electronic </span><span>voting </span><span>during </span><span>Yulia </span><span>Timoshenko </span><span>'s </span><span>nomination </span><span>for </span><span>Prime </span><span>Minister </span><span>. </span><span>She </span><span>lost </span><span>by </span><span>just </span><span>one </span><span>vote </span><span>. </span><span>The </span><span>party </span><span>says </span><span>it </span><span>will </span><span>only </span><span>take </span><span>part </span><span>in </span><span>parliament </span><span>again </span><span>when </span><span>the </span><span>claims </span><span>are </span><span>retracted. </span><span>A </span><span>vote </span><span>could </span><span>still </span><span>be </span><span>held </span><span>later </span><span>Thursday </span><span>on </span><span>Timoshenko </span><span>'s </span><span>bid </span><span>for </span><span>Prime </span><span>Minister- </span><span>this </span><span>time </span><span>replacing </span><span>electronic </span><span>voting </span><span>with </span><span>hand </span><span>counting. </span><span>In </span><span>another </span><span key=79 class=\"highlight blue\" depth=0 id=PROP onmouseover=\"handleHighlightMouseOver(this)\"                 onmouseout=\"handleHighlightMouseOut(this)\" labelPosition=\"left\">                <span class=\"highlight__label\"><strong>PROP</strong></span>                <span class=\"highlight__content\"><span>twist </span></span></span><span>, </span><span>there </span><span>are </span><span>reports </span><span>of </span><span>Timoshenko </span><span>receiving </span><span>death </span><span>threats </span><span>Ukrainian </span><span>political </span><span>analyst </span><span>Oleg </span><span>Voloshin </span><span>says </span><span>the </span><span>Orange </span><span>coalition </span><span>is </span><span>a </span><span>spent </span><span>force </span><span>in </span><span>Ukraine </span><span>, </span><span>and </span><span>the </span><span>only </span><span>way </span><span>out </span><span>of </span><span>the </span><span>current </span><span>political </span><span>crisis </span><span>is </span><span>a </span><span>coalition </span><span>between </span><span>President </span><span>Yushchenko </span><span>'s </span><span>Our </span><span>Ukraine </span><span>party </span><span>and </span><span>Yanukovich </span><span>'s </span><span>Party </span><span>of </span><span>the </span><span>Regions </span><span>. </span><span>he </span><span>said </span><span>. </span><span>Oleg </span><span>Voloshin </span><span>commented </span><span>. </span></div>"
      ],
      "text/plain": [
       "<IPython.core.display.HTML object>"
      ]
     },
     "metadata": {},
     "output_type": "display_data"
    },
    {
     "data": {
      "text/html": [
       "<div style=\"padding: 16px;\"><span>Ukraine </span><span>: </span><span>Yulia </span><span>Timoshenko </span><span>was </span><span>elected </span><span>Prime </span><span>Minister </span><span>by </span><span>an </span><span>old </span><span>- </span><span>fashioned </span><span>hand </span><span>vote </span><span>. </span><span>The </span><span>Putin </span><span>- </span><span>Medvedev </span><span>tandem </span><span>: </span><span>cross </span><span>- </span><span>subordination </span><span>. </span><span>These </span><span>topics </span><span>dominate </span><span>the </span><span>Russian </span><span>papers </span><span>on </span><span>Wednesday </span><span>. </span><span>Hands </span><span>Up </span><span>! </span><span>That </span><span>’s </span><span>the </span><span>headline </span><span>attached </span><span>to </span><span>its </span><span>report </span><span>from </span><span>the </span><span>Ukrainian </span><span>Parliament </span><span>. </span><span>The </span><span>paper </span><span>says </span><span>that </span><span>, </span><span>after </span><span>a </span><span key=58 class=\"highlight blue\" depth=0 id=PROP onmouseover=\"handleHighlightMouseOver(this)\"                 onmouseout=\"handleHighlightMouseOut(this)\" labelPosition=\"left\">                <span class=\"highlight__label\"><strong>PROP</strong></span>                <span class=\"highlight__content\"><span>painful </span></span></span><span>week </span><span>of </span><span>struggle </span><span>for </span><span>every </span><span>vote </span><span>, </span><span>Yulia </span><span>Timoshenko </span><span>has </span><span>finally </span><span>become </span><span>Ukrainian </span><span>Prime </span><span>Minister </span><span>once </span><span>again </span><span>. </span><span>Russian </span><span>analysts </span><span>noticed </span><span>that </span><span>while </span><span>President </span><span>Yushchenko </span><span>was </span><span>absent </span><span>from </span><span>the </span><span>vote </span><span>, </span><span>the </span><span>U.S. </span><span>Ambassador </span><span>was </span><span>present </span><span>and </span><span>seemed </span><span>very </span><span>glad </span><span>for </span><span>the </span><span>Orange </span><span>Princess.says </span><span>that </span><span>judging </span><span>by </span><span>her </span><span>pre </span><span>- </span><span>vote </span><span>remarks </span><span>, </span><span>Yulia </span><span>Timoshenko </span><span>was </span><span>preparing </span><span>herself </span><span>for </span><span>war </span><span>. </span><span>But </span><span>after </span><span>the </span><span>vote </span><span>it </span><span>turned </span><span>out </span><span>that </span><span>there </span><span>was </span><span>no </span><span>one </span><span>to </span><span>wage </span><span>it </span><span>on </span><span>: </span><span>she </span><span>could </span><span>now </span><span>celebrate </span><span>her </span><span>victory </span><span>. </span><span>Now </span><span>, </span><span>continues </span><span>the </span><span>paper </span><span>, </span><span>quoting </span><span>a </span><span>Ukrainian </span><span>expert </span><span>, </span><span>“ </span><span key=156 class=\"highlight blue\" depth=0 id=PROP onmouseover=\"handleHighlightMouseOver(this)\"                 onmouseout=\"handleHighlightMouseOut(this)\" labelPosition=\"left\">                <span class=\"highlight__label\"><strong>PROP</strong></span>                <span class=\"highlight__content\"><span>She </span> <span>is </span> <span>aiming </span> <span>for </span> <span>the </span> <span>presidency </span></span></span><span>, </span><span key=158 class=\"highlight blue\" depth=0 id=PROP onmouseover=\"handleHighlightMouseOver(this)\"                 onmouseout=\"handleHighlightMouseOut(this)\" labelPosition=\"left\">                <span class=\"highlight__label\"><strong>PROP</strong></span>                <span class=\"highlight__content\"><span>there </span> <span>’s </span> <span>no </span> <span>other </span> <span>way </span> <span>for </span> <span>her </span></span></span><span>. </span><span>There </span><span>’ll </span><span>be </span><span>no </span><span>pacifism </span><span>: </span><span>if </span><span>necessary </span><span>she </span><span>will </span><span>clash </span><span>with </span></div>"
      ],
      "text/plain": [
       "<IPython.core.display.HTML object>"
      ]
     },
     "metadata": {},
     "output_type": "display_data"
    },
    {
     "data": {
      "text/html": [
       "<div style=\"padding: 16px;\"><span>Italian </span><span>police </span><span>have </span><span>impounded </span><span>an </span><span>amount </span><span>of </span><span>black </span><span>caviar </span><span>worth </span><span>around </span><span>€ </span><span>1 </span><span>million </span><span>. </span><span>According </span><span>to </span><span>investigators </span><span>, </span><span>the </span><span>caviar </span><span>had </span><span>been </span><span>brought </span><span>into </span><span>the </span><span>country </span><span>from </span><span>Russia </span><span>and </span><span>Ukraine </span><span>and </span><span>sold </span><span>to </span><span>various </span><span>shops </span><span>and </span><span>restaurants </span><span>. </span><span>The </span><span>total </span><span>quantity </span><span>of </span><span>the </span><span>impounded </span><span>delicacy </span><span>is </span><span>160 </span><span>kilograms. </span><span>Obtaining </span><span>roe </span><span>from </span><span>sturgeon </span><span>has </span><span>been </span><span>banned </span><span>by </span><span>a </span><span>UN </span><span>watchdog </span><span>after </span><span>overfishing </span><span>and </span><span>poaching </span><span>led </span><span>to </span><span>worries </span><span>of </span><span key=68 class=\"highlight blue\" depth=0 id=PROP onmouseover=\"handleHighlightMouseOver(this)\"                 onmouseout=\"handleHighlightMouseOut(this)\" labelPosition=\"left\">                <span class=\"highlight__label\"><strong>PROP</strong></span>                <span class=\"highlight__content\"><span>extinction. </span></span></span><span>Each </span><span>of </span><span>the </span><span>five </span><span>Caspian </span><span>Sea </span><span>countries </span><span>, </span><span>including </span><span>Russia </span><span>, </span><span>have </span><span>a </span><span>specific </span><span>quota </span><span>of </span><span>caviar </span><span>stipulating </span><span>the </span><span>quantity </span><span>allowed </span><span>to </span><span>be </span><span>exported. </span><span>The </span><span>delicacy </span><span>was </span><span>delivered </span><span>without </span><span>appropriate </span><span>certificates </span><span>and </span><span>stored </span><span>in </span><span>unsatisfactory </span><span>conditions </span><span>and </span><span>could </span><span>be </span><span>detrimental </span><span>to </span><span>health. </span><span>More </span><span>then </span><span>sixty </span><span>people </span><span>are </span><span>being </span><span>questioned </span><span>by </span><span>the </span><span>Italian </span><span>police </span><span>in </span><span>connection </span><span>with </span><span>the </span><span>incident </span><span>. </span></div>"
      ],
      "text/plain": [
       "<IPython.core.display.HTML object>"
      ]
     },
     "metadata": {},
     "output_type": "display_data"
    },
    {
     "data": {
      "text/html": [
       "<div style=\"padding: 16px;\"><span>The </span><span>AN-124 </span><span>Ruslan </span><span>is </span><span key=4 class=\"highlight blue\" depth=0 id=PROP onmouseover=\"handleHighlightMouseOver(this)\"                 onmouseout=\"handleHighlightMouseOut(this)\" labelPosition=\"left\">                <span class=\"highlight__label\"><strong>PROP</strong></span>                <span class=\"highlight__content\"><span>the </span> <span>biggest </span> <span>cargo </span></span></span><span>plane </span><span>ever </span><span>mass </span><span>produced </span><span>. </span><span>Thursday </span><span>sees </span><span>the </span><span>25th </span><span>anniversary </span><span>of </span><span>its </span><span>first </span><span>flight </span><span>. </span><span>With </span><span>a </span><span>maximum </span><span>payload </span><span>of </span><span>150 </span><span>tons </span><span>, </span><span>this </span><span key=29 class=\"highlight blue\" depth=0 id=PROP onmouseover=\"handleHighlightMouseOver(this)\"                 onmouseout=\"handleHighlightMouseOut(this)\" labelPosition=\"left\">                <span class=\"highlight__label\"><strong>PROP</strong></span>                <span class=\"highlight__content\"><span>colossal </span></span></span><span>flying </span><span>warehouse </span><span>became </span><span>a </span><span>leader </span><span>among </span><span>the </span><span>world </span><span>'s </span><span>outsize </span><span>cargo </span><span>planes </span><span>. </span><span>Initially </span><span>the </span><span>task </span><span>was </span><span>to </span><span>develop </span><span>a </span><span>plane </span><span>that </span><span>could </span><span>provide </span><span>the </span><span>Soviet </span><span>Red </span><span>Army </span><span>with </span><span>a </span><span>strategic </span><span>airlift </span><span>capability </span><span>. </span><span>And </span><span>it </span><span>had </span><span>to </span><span>be </span><span>better </span><span>than </span><span>the </span><span>U.S. </span><span>C-5 </span><span>Galaxy </span><span>plane. </span><span>The </span><span>plane </span><span>'s </span><span>designers </span><span>delivered </span><span>the </span><span>goods </span><span>, </span><span>producing </span><span>a </span><span>welcome </span><span>gift </span><span>on </span><span>the </span><span>USSR </span><span>’s </span><span>60th </span><span>anniversary </span><span>. </span><span>The </span><span>Ruslan </span><span>took </span><span>off </span><span>in </span><span>December </span><span>, </span><span>1982 </span><span>. </span><span>It </span><span>can </span><span>carry </span><span>30 </span><span>tons </span><span>more </span><span>than </span><span>its </span><span>American </span><span>equivalent </span><span>– </span><span>and </span><span>travel </span><span>30 </span><span>per </span><span>cent </span><span>further. </span><span>Pilot </span><span>Andrey </span><span>Rozanov </span><span>says </span><span>most </span><span>people </span><span>are </span><span>stunned </span><span>by </span><span>the </span><span>aircraft </span><span>. </span><span>Rozanov </span><span>said. </span><span>The </span><span>plane </span><span>’s </span><span>chief </span><span>designer </span><span>, </span><span>Victor </span><span>Tolmachev </span><span>, </span><span>remembers </span><span>how </span><span>challenging </span></div>"
      ],
      "text/plain": [
       "<IPython.core.display.HTML object>"
      ]
     },
     "metadata": {},
     "output_type": "display_data"
    },
    {
     "data": {
      "text/html": [
       "<div style=\"padding: 16px;\"><span>A </span><span>man </span><span>has </span><span>died </span><span>in </span><span>Ukraine </span><span>after </span><span>thousands </span><span>of </span><span>people </span><span>queued </span><span>for </span><span>compensation </span><span>at </span><span>banks </span><span>across </span><span>the </span><span>country </span><span>. </span><span>It </span><span>followed </span><span>the </span><span>government </span><span>'s </span><span>decision </span><span>to </span><span>start </span><span>paying </span><span>people </span><span>who </span><span>lost </span><span>their </span><span>savings </span><span>after </span><span>the </span><span>collapse </span><span>of </span><span>the </span><span>Soviet </span><span>Union </span><span>. </span><span>More </span><span>than </span><span>17 </span><span>years </span><span>after </span><span>the </span><span>collapse </span><span>of </span><span>the </span><span>Soviet </span><span>Union </span><span>, </span><span>and </span><span>the </span><span>queues </span><span>are </span><span>back </span><span>the </span><span>Ukraine </span><span>. </span><span>Reminiscent </span><span>of </span><span>days </span><span>gone </span><span>by </span><span>, </span><span>the </span><span>long </span><span>lines </span><span>in </span><span>the </span><span>capital </span><span>Kiev </span><span>were </span><span>not </span><span>for </span><span>food </span><span>but </span><span>for </span><span>cash </span><span>. </span><span>Thousands </span><span>of </span><span>Ukrainians </span><span>flocked </span><span>to </span><span>banks </span><span>to </span><span>be </span><span>compensated </span><span>for </span><span>savings </span><span>they </span><span>lost </span><span>in </span><span>the </span><span key=97 class=\"highlight blue\" depth=0 id=PROP onmouseover=\"handleHighlightMouseOver(this)\"                 onmouseout=\"handleHighlightMouseOut(this)\" labelPosition=\"left\">                <span class=\"highlight__label\"><strong>PROP</strong></span>                <span class=\"highlight__content\"><span>chaos </span></span></span><span>following </span><span>the </span><span>break </span><span>- </span><span>up </span><span>of </span><span>the </span><span>Soviet </span><span>Union. </span><span>One </span><span>man </span><span>died </span><span>of </span><span>a </span><span>heart </span><span>attack </span><span>after </span><span>he </span><span>spent </span><span>hours </span><span>in </span><span>a </span><span>queue </span><span>. </span><span>In </span><span>another </span><span>incident </span><span>in </span><span>Kiev </span><span>, </span><span>two </span><span>bank </span><span>officials </span><span>were </span><span>beaten </span><span>when </span><span>they </span><span>tried </span><span>to </span><span>calm </span><span>an </span><span>angry </span><span>crowd </span><span>. </span><span>One </span><span>of </span><span>them </span><span>, </span><span>a </span><span>woman </span><span>, </span><span>is </span><span>seriously </span><span>injured. </span><span>The </span><span>sheer </span><span>demand </span><span>for </span><span>cash </span><span>meant </span><span>only </span><span>some </span><span>people </span><span>were </span><span>able </span><span>to </span><span>get </span><span>their </span><span>money </span><span>from </span><span>Oschadbank. </span></div>"
      ],
      "text/plain": [
       "<IPython.core.display.HTML object>"
      ]
     },
     "metadata": {},
     "output_type": "display_data"
    },
    {
     "data": {
      "text/html": [
       "<div style=\"padding: 16px;\"><span>A </span><span>young </span><span>Russian </span><span>man </span><span>has </span><span>been </span><span>charged </span><span>with </span><span>murder </span><span>after </span><span>an </span><span>internet </span><span>game </span><span>jumped </span><span>off </span><span>the </span><span>screen </span><span>onto </span><span>the </span><span>street </span><span>. </span><span>It </span><span>'s </span><span>alleged </span><span>he </span><span>killed </span><span>an </span><span>internet </span><span>gaming </span><span>rival </span><span>after </span><span>they </span><span>met </span><span>face </span><span>to </span><span>face </span><span>in </span><span>the </span><span>city </span><span>of </span><span>Ufa </span><span>. </span><span key=42 class=\"highlight blue\" depth=0 id=PROP onmouseover=\"handleHighlightMouseOver(this)\"                 onmouseout=\"handleHighlightMouseOut(this)\" labelPosition=\"left\">                <span class=\"highlight__label\"><strong>PROP</strong></span>                <span class=\"highlight__content\"><span>Violence </span></span></span><span>on </span><span>screen </span><span>is </span><span>n't </span><span>harmful </span><span>to </span><span>anyone </span><span>. </span><span>But </span><span>when </span><span>virtual </span><span>reality </span><span>and </span><span>real </span><span>life </span><span>collide </span><span>an </span><span>innocent </span><span>game </span><span>can </span><span>end </span><span>in </span><span>tragedy. </span><span>It </span><span>all </span><span>started </span><span>when </span><span>two </span><span>clans </span><span>– </span><span>the </span><span>Coo </span><span>- </span><span>clocks </span><span>, </span><span>made </span><span>up </span><span>of </span><span>mostly </span><span>students </span><span>, </span><span>and </span><span>the </span><span>so </span><span>- </span><span>called </span><span>Platanium </span><span>with </span><span>more </span><span>experienced </span><span>gamers </span><span>of </span><span>over </span><span>thirty </span><span>– </span><span>started </span><span>fighting </span><span>to </span><span key=101 class=\"highlight blue\" depth=0 id=PROP onmouseover=\"handleHighlightMouseOver(this)\"                 onmouseout=\"handleHighlightMouseOut(this)\" labelPosition=\"left\">                <span class=\"highlight__label\"><strong>PROP</strong></span>                <span class=\"highlight__content\"><span>wipe </span> <span>out </span></span></span><span>each </span><span>other </span><span>on </span><span>screen </span><span>. </span><span>33-year </span><span>- </span><span>old </span><span>Albert </span><span>used </span><span>to </span><span>spend </span><span>hours </span><span>in </span><span>front </span><span>of </span><span>his </span><span>computer </span><span>. </span><span>On </span><span>the </span><span>web </span><span>he </span><span>had </span><span>his </span><span>own </span><span>clan </span><span>and </span><span>a </span><span>dozen </span><span>of </span><span>warriors </span><span>. </span><span>Just </span><span>days </span><span>before </span><span>the </span><span>New </span><span>Year </span><span>in </span><span>a </span><span>virtual </span><span>battle </span><span>his </span><span>clan </span><span>killed </span><span>a </span><span>member </span><span>of </span><span>the </span><span>hostile </span><span>Coo </span><span>- </span><span>clocks </span><span>. </span><span>Days </span><span>later </span><span>the </span><span>enemies </span><span>agreed </span><span>to </span><span>meet </span><span>literally </span><span>face </span><span>to </span><span>face </span><span>in </span><span>the </span><span>real </span><span>world. </span></div>"
      ],
      "text/plain": [
       "<IPython.core.display.HTML object>"
      ]
     },
     "metadata": {},
     "output_type": "display_data"
    },
    {
     "data": {
      "text/html": [
       "<div style=\"padding: 16px;\"><span>Ukrainian </span><span>leaders </span><span>make </span><span>the </span><span>first </span><span>step </span><span>to </span><span>NATO </span><span>membership </span><span>without </span><span>consent </span><span>from </span><span>the </span><span>Ukrainian </span><span>people </span><span>and </span><span>the </span><span>conflict </span><span>over </span><span>regional </span><span>offices </span><span>of </span><span>the </span><span>British </span><span>Council </span><span>in </span><span>Russia </span><span>is </span><span>slowly </span><span>turning </span><span>into </span><span>a </span><span key=32 class=\"highlight blue\" depth=0 id=PROP onmouseover=\"handleHighlightMouseOver(this)\"                 onmouseout=\"handleHighlightMouseOut(this)\" labelPosition=\"left\">                <span class=\"highlight__label\"><strong>PROP</strong></span>                <span class=\"highlight__content\"><span>huge </span> <span>scandal </span></span></span><span>. </span><span>These </span><span>topics </span><span>dominate </span><span>the </span><span>Russian </span><span>press </span><span>on </span><span>Thwrites </span><span>, </span><span>the </span><span>letter </span><span>to </span><span>NATO </span><span>signed </span><span>by </span><span>three </span><span>Ukrainian </span><span>“ </span><span>Orange </span><span>” </span><span>leaders </span><span>resembled </span><span>a </span><span>report </span><span>to </span><span>a </span><span>commander </span><span>after </span><span>an </span><span>accomplished </span><span>mission </span><span>. </span><span>The </span><span>paper </span><span>also </span><span>notes </span><span>the </span><span>fact </span><span>that </span><span>the </span><span>first </span><span>announcement </span><span>of </span><span>the </span><span>move </span><span>was </span><span>not </span><span>made </span><span>by </span><span>a </span><span>Ukrainian </span><span>official </span><span>but </span><span>by </span><span>a </span><span>U.S. </span><span>Senator </span><span>. </span><span>Evgeny </span><span>Kozhokin </span><span>of </span><span>the </span><span>Russian </span><span>Institute </span><span>of </span><span>Strategic </span><span>Studies </span><span>highlights </span><span>another </span><span>fact </span><span>: </span><span>the </span><span>letter </span><span>stipulates </span><span>that </span><span>in </span><span>the </span><span>future </span><span>the </span><span>government </span><span>is </span><span>going </span><span>to </span><span>“ </span><span>discuss </span><span>the </span><span>matter </span><span>with </span><span>the </span><span>public </span><span>” </span><span>. </span><span>No </span><span>direct </span><span>mention </span><span>of </span><span>a </span><span>referendum.quotes </span><span>its </span><span>sources </span><span>saying </span><span>the </span><span>letter </span><span>was </span><span>signed </span><span>on </span><span>the </span><span>11th </span><span>of </span><span>January </span><span>. </span><span>President </span><span>Yushchenko </span><span>planned </span><span>to </span><span>make </span><span>it </span><span>public </span><span>in </span><span>a </span><span>special </span><span>television </span><span>address </span><span>later </span><span>this </span><span>week </span><span>, </span><span>but </span><span>the </span><span key=163 class=\"highlight blue\" depth=0 id=PROP onmouseover=\"handleHighlightMouseOver(this)\"                 onmouseout=\"handleHighlightMouseOut(this)\" labelPosition=\"left\">                <span class=\"highlight__label\"><strong>PROP</strong></span>                <span class=\"highlight__content\"><span>eager </span></span></span><span>American </span><span>Congressman </span><span>, </span><span>co </span><span>- </span><span>Chairman </span><span>of </span><span>the </span><span>International </span><span>affairs </span><span>Committee </span><span>Richard </span><span>Lugar </span></div>"
      ],
      "text/plain": [
       "<IPython.core.display.HTML object>"
      ]
     },
     "metadata": {},
     "output_type": "display_data"
    },
    {
     "data": {
      "text/html": [
       "<div style=\"padding: 16px;\"><span>A </span><span>modest </span><span>inauguration </span><span>in </span><span>Georgia </span><span>– </span><span>this </span><span>topic </span><span>dominates </span><span>the </span><span>Russian </span><span>press </span><span>on </span><span>Monday.writes </span><span>the </span><span>second </span><span>inauguration </span><span>of </span><span>Mikhail </span><span>Saakashvili </span><span>appeared </span><span>much </span><span>less </span><span>pompous </span><span>than </span><span>the </span><span>first </span><span>. </span><span>The </span><span>modest </span><span>ceremony </span><span>was </span><span>supposed </span><span>to </span><span>demonstrate </span><span>a </span><span>state </span><span>of </span><span>unity </span><span>between </span><span>the </span><span>President </span><span>and </span><span>the </span><span>people </span><span>– </span><span>such </span><span>unity </span><span>that </span><span>no </span><span>showing </span><span>off </span><span>is </span><span>required </span><span>. </span><span>Meanwhile </span><span>, </span><span>continues </span><span>the </span><span>paper </span><span>, </span><span>over </span><span>80,000 </span><span>Georgians </span><span>joined </span><span>a </span><span>protest </span><span>meeting </span><span>that </span><span>was </span><span>arranged </span><span>exactly </span><span>at </span><span>the </span><span>time </span><span>of </span><span>the </span><span>inauguration </span><span>. </span><span>says </span><span>the </span><span>inauguration </span><span>day </span><span>revealed </span><span>a </span><span key=85 class=\"highlight blue\" depth=0 id=PROP onmouseover=\"handleHighlightMouseOver(this)\"                 onmouseout=\"handleHighlightMouseOut(this)\" labelPosition=\"left\">                <span class=\"highlight__label\"><strong>PROP</strong></span>                <span class=\"highlight__content\"><span>dangerous </span></span></span><span>division </span><span>of </span><span>Georgian </span><span>society </span><span>into </span><span>“ </span><span key=92 class=\"highlight blue\" depth=0 id=PROP onmouseover=\"handleHighlightMouseOver(this)\"                 onmouseout=\"handleHighlightMouseOut(this)\" labelPosition=\"left\">                <span class=\"highlight__label\"><strong>PROP</strong></span>                <span class=\"highlight__content\"><span>whites </span></span></span><span>” </span><span>and </span><span>“ </span><span>reds </span><span>” </span><span>– </span><span>the </span><span>paper </span><span>borrows </span><span>from </span><span>the </span><span>vocabulary </span><span>of </span><span>the </span><span>Russian </span><span>Civil </span><span>war </span><span>, </span><span>meaning </span><span>that </span><span>the </span><span>gap </span><span>between </span><span>Saakashvili </span><span>loyalists </span><span>and </span><span>his </span><span>critics </span><span>is </span><span>as </span><span>wide </span><span>as </span><span>between </span><span>the </span><span key=127 class=\"highlight blue\" depth=0 id=PROP onmouseover=\"handleHighlightMouseOver(this)\"                 onmouseout=\"handleHighlightMouseOut(this)\" labelPosition=\"left\">                <span class=\"highlight__label\"><strong>PROP</strong></span>                <span class=\"highlight__content\"><span>Communists </span></span></span><span>and </span><span>the </span><span>White </span><span>Guard </span><span>in </span><span>1920s </span><span>. </span><span>writes </span><span>recent </span><span>events </span><span>in </span><span>Georgia </span><span>initiated </span><span>the </span><span>acceleration </span><span>of </span><span>Euro </span><span>- </span><span>Atlantic </span><span>integration </span><span>for </span><span>Georgia </span><span>itself </span><span>, </span><span>as </span><span>well </span><span>as </span><span>for </span><span>Ukraine </span><span>, </span><span>Azerbaijan </span><span>and </span><span>Moldova </span><span>. </span><span>The </span><span>paper </span><span>says </span><span>, </span><span>Mikhail </span><span>Saakashvili </span></div>"
      ],
      "text/plain": [
       "<IPython.core.display.HTML object>"
      ]
     },
     "metadata": {},
     "output_type": "display_data"
    },
    {
     "data": {
      "text/html": [
       "<div style=\"padding: 16px;\"><span>Russia </span><span>'s </span><span>new </span><span>envoy </span><span>to </span><span>NATO </span><span>is </span><span>geting </span><span>ready </span><span>for </span><span>his </span><span>job </span><span>. </span><span>Dmitriy </span><span>Rogozin </span><span>, </span><span>a </span><span>former </span><span>leader </span><span>of </span><span>the </span><span>Motherland </span><span>party </span><span>was </span><span>banned </span><span>from </span><span>Moscow </span><span>'s </span><span>2005 </span><span>elections </span><span>for </span><span>being </span><span>xenophobic </span><span>. </span><span>Just </span><span>days </span><span>before </span><span>his </span><span>departure </span><span>for </span><span>Brussels </span><span>, </span><span>Rogozin </span><span>spoke </span><span>to </span><span>RT.No </span><span>surprises </span><span>here </span><span>, </span><span>my </span><span>academic </span><span>career </span><span>has </span><span>been </span><span>tied </span><span>to </span><span>war </span><span>- </span><span>and </span><span>- </span><span>peace </span><span>issues </span><span>, </span><span>I </span><span>’m </span><span>sure </span><span>I </span><span>’ll </span><span>adapt </span><span>well </span><span>to </span><span>the </span><span>job. </span><span>I </span><span>was </span><span>never </span><span>part </span><span>of </span><span>the </span><span>movement </span><span>but </span><span>I </span><span>dealt </span><span>with </span><span>the </span><span>issue </span><span>within </span><span>the </span><span>State </span><span>Duma </span><span>Security </span><span>Committee </span><span>and </span><span>I </span><span>understand </span><span>migration </span><span>and </span><span>labour </span><span>migration </span><span>are </span><span>unavoidable </span><span>. </span><span>But </span><span>in </span><span>a </span><span>world </span><span>that </span><span>is </span><span>facing </span><span>the </span><span>threat </span><span>of </span><span>terrorism </span><span>, </span><span>I </span><span>’m </span><span>for </span><span>controlled </span><span>and </span><span>organized </span><span>migration. </span><span>These </span><span>are </span><span>purely </span><span>the </span><span>speculations </span><span>of </span><span>my </span><span>political </span><span>opponents </span><span>, </span><span>who </span><span>in </span><span>the </span><span>midst </span><span>of </span><span>the </span><span>election </span><span>rush </span><span>, </span><span>tried </span><span>to </span><span>interpret </span><span>my </span><span>stand </span><span>. </span><span>I </span><span>come </span><span>from </span><span>an </span><span>intelligent </span><span>family </span><span>and </span><span>I </span><span>could </span><span>never </span><span>call </span><span>human </span><span>being </span><span>‘ </span><span key=160 class=\"highlight blue\" depth=0 id=PROP onmouseover=\"handleHighlightMouseOver(this)\"                 onmouseout=\"handleHighlightMouseOut(this)\" labelPosition=\"left\">                <span class=\"highlight__label\"><strong>PROP</strong></span>                <span class=\"highlight__content\"><span>garbage </span></span></span><span>’ </span><span>. </span><span>By </span><span key=164 class=\"highlight blue\" depth=0 id=PROP onmouseover=\"handleHighlightMouseOver(this)\"                 onmouseout=\"handleHighlightMouseOut(this)\" labelPosition=\"left\">                <span class=\"highlight__label\"><strong>PROP</strong></span>                <span class=\"highlight__content\"><span>garbage </span></span></span><span>I </span><span>mean </span><span key=167 class=\"highlight blue\" depth=0 id=PROP onmouseover=\"handleHighlightMouseOver(this)\"                 onmouseout=\"handleHighlightMouseOut(this)\" labelPosition=\"left\">                <span class=\"highlight__label\"><strong>PROP</strong></span>                <span class=\"highlight__content\"><span>disrespect </span></span></span><span>and </span><span>rudeness </span></div>"
      ],
      "text/plain": [
       "<IPython.core.display.HTML object>"
      ]
     },
     "metadata": {},
     "output_type": "display_data"
    },
    {
     "data": {
      "text/html": [
       "<div style=\"padding: 16px;\"><span>U.S. </span><span>President </span><span>George </span><span>W. </span><span>Bush </span><span>has </span><span>delivered </span><span>his </span><span>final </span><span>State </span><span>of </span><span>the </span><span>Union </span><span>Address </span><span>to </span><span>the </span><span>U.S. </span><span>Congress </span><span>. </span><span>The </span><span>speech </span><span>was </span><span>dominated </span><span>by </span><span>the </span><span>current </span><span>state </span><span>of </span><span>the </span><span>American </span><span>economy </span><span>and </span><span>foreign </span><span>policy </span><span>. </span><span>Bush </span><span>asked </span><span>the </span><span>Congress </span><span>to </span><span>agree </span><span>to </span><span>a </span><span>stimulus </span><span>package </span><span>and </span><span>tax </span><span>cuts </span><span>worth </span><span>about </span><span>$ </span><span>US </span><span>150 </span><span>billion. </span><span>The </span><span>President </span><span>made </span><span>no </span><span>grand </span><span>foreign </span><span>policy </span><span>announcements </span><span>, </span><span>only </span><span>asking </span><span>the </span><span>nation </span><span>to </span><span>be </span><span>patient </span><span>with </span><span>the </span><span>war </span><span>in </span><span>Iraq. </span><span>He </span><span>said </span><span>that </span><span>after </span><span>a </span><span>long </span><span>and </span><span key=82 class=\"highlight blue\" depth=0 id=PROP onmouseover=\"handleHighlightMouseOver(this)\"                 onmouseout=\"handleHighlightMouseOut(this)\" labelPosition=\"left\">                <span class=\"highlight__label\"><strong>PROP</strong></span>                <span class=\"highlight__content\"><span>costly </span></span></span><span>war </span><span>, </span><span>troops </span><span>were </span><span>experiencing </span><span>success. </span><span>Bush </span><span>urged </span><span>Iran </span><span>to </span><span>halt </span><span>any </span><span>nuclear </span><span>enrichment </span><span>programmes </span><span>, </span><span>to </span><span>make </span><span>way </span><span>for </span><span>negotiations. </span><span>Bush </span><span>also </span><span>spoke </span><span>about </span><span>the </span><span>history </span><span>of </span><span>liberty </span><span>, </span><span>calling </span><span>the </span><span>Orange </span><span>and </span><span>Rose </span><span>Revolutions </span><span>in </span><span>Ukraine </span><span>and </span><span>Georgia </span><span>' </span><span>images </span><span>of </span><span>new </span><span>freedom'. </span><span>George </span><span>W. </span><span>Bush </span><span>has </span><span>less </span><span>than </span><span>a </span><span>year </span><span>left </span><span>in </span><span>office </span><span>. </span><span>Democratic </span><span>candidate </span><span>for </span><span>the </span><span>presidency </span><span>, </span></div>"
      ],
      "text/plain": [
       "<IPython.core.display.HTML object>"
      ]
     },
     "metadata": {},
     "output_type": "display_data"
    },
    {
     "data": {
      "text/html": [
       "<div style=\"padding: 16px;\"><span>Queues </span><span>on </span><span>Poland </span><span>'s </span><span>eastern </span><span>border </span><span>are </span><span>not </span><span>getting </span><span>any </span><span>shorter </span><span>, </span><span>with </span><span>thousands </span><span>of </span><span>trucks </span><span>stuck </span><span>after </span><span>Polish </span><span>custom </span><span>staff </span><span>went </span><span>on </span><span>strike </span><span>. </span><span>They </span><span>are </span><span>demanding </span><span>higher </span><span>salaries </span><span>and </span><span>more </span><span>favourable </span><span>working </span><span>conditions </span><span>. </span><span>The </span><span>hot </span><span>spots </span><span>are </span><span>now </span><span>Poland </span><span>'s </span><span>border </span><span>with </span><span>Belarus </span><span>and </span><span>Ukraine </span><span>. </span><span>For </span><span>over </span><span>a </span><span>week </span><span>, </span><span>drivers </span><span>have </span><span key=56 class=\"highlight blue\" depth=0 id=PROP onmouseover=\"handleHighlightMouseOver(this)\"                 onmouseout=\"handleHighlightMouseOut(this)\" labelPosition=\"left\">                <span class=\"highlight__label\"><strong>PROP</strong></span>                <span class=\"highlight__content\"><span>desperately </span></span></span><span>waited </span><span>for </span><span>permission </span><span>to </span><span>cross </span><span>. </span><span>They </span><span>also </span><span>have </span><span>to </span><span>cope </span><span>with </span><span>no </span><span>food </span><span>, </span><span>and </span><span>nowhere </span><span>to </span><span>go </span><span>to </span><span>the </span><span>toilet </span><span>or </span><span>have </span><span>a </span><span>shower. </span><span>The </span><span key=84 class=\"highlight blue\" depth=0 id=PROP onmouseover=\"handleHighlightMouseOver(this)\"                 onmouseout=\"handleHighlightMouseOut(this)\" labelPosition=\"left\">                <span class=\"highlight__label\"><strong>PROP</strong></span>                <span class=\"highlight__content\"><span>despair </span></span></span><span>among </span><span>the </span><span>drivers </span><span>is </span><span>mounting </span><span>. </span><span>It </span><span>is </span><span>also </span><span>taking </span><span>a </span><span>toll </span><span>on </span><span>their </span><span>health </span><span>. </span><span>Last </span><span>Wednesday </span><span>a </span><span>Polish </span><span>truck </span><span>driver </span><span>died </span><span>of </span><span>a </span><span>heart </span><span>attack </span><span>after </span><span>spending </span><span>three </span><span>days </span><span>in </span><span>the </span><span>queue. </span><span>Now </span><span>it </span><span>is </span><span>quite </span><span>empty </span><span>on </span><span>the </span><span>Belarus </span><span>side </span><span>of </span><span>the </span><span>border </span><span>as </span><span>trucks </span><span>going </span><span>to </span><span>Europe </span><span>are </span><span>diverted </span><span>to </span><span>neighbouring </span><span>Lithuania </span><span>. </span><span>But </span><span>on </span><span>the </span><span>border </span><span>with </span><span>Ukraine </span><span>, </span><span>trucks </span><span>are </span><span>queuing </span><span>on </span><span>both </span><span>sides </span><span>. </span><span>Money </span><span>, </span><span>food </span><span>and </span><span>patience </span><span>are </span><span>gradually </span><span>running </span><span>out. </span></div>"
      ],
      "text/plain": [
       "<IPython.core.display.HTML object>"
      ]
     },
     "metadata": {},
     "output_type": "display_data"
    },
    {
     "data": {
      "text/html": [
       "<div style=\"padding: 16px;\"><span>Ukraine </span><span>has </span><span>sealed </span><span>a </span><span>deal </span><span>to </span><span>join </span><span>the </span><span>World </span><span>Trade </span><span>Organisation </span><span>. </span><span>The </span><span>request </span><span>for </span><span>acceptance </span><span>into </span><span>the </span><span>151-member </span><span>trade </span><span>body </span><span>was </span><span>approved </span><span>by </span><span>the </span><span>WTO </span><span>General </span><span>Council </span><span>in </span><span>Geneva </span><span>. </span><span>WTO </span><span>membership </span><span>will </span><span>mean </span><span>not </span><span>only </span><span>new </span><span>export </span><span>opportunities </span><span>for </span><span>Ukrainian </span><span>industrieIt </span><span>’s </span><span>taken </span><span>Ukraine </span><span>14 </span><span>difficult </span><span>years </span><span>to </span><span>enter </span><span>the </span><span>World </span><span>Trade </span><span>Organisation </span><span>. </span><span>A </span><span>key </span><span>part </span><span>of </span><span>Kiev </span><span>’s </span><span>strategy </span><span>of </span><span>integrating </span><span>more </span><span>closely </span><span>with </span><span>the </span><span>EU </span><span>, </span><span>it </span><span>has </span><span>involved </span><span>some </span><span key=75 class=\"highlight blue\" depth=0 id=PROP onmouseover=\"handleHighlightMouseOver(this)\"                 onmouseout=\"handleHighlightMouseOut(this)\" labelPosition=\"left\">                <span class=\"highlight__label\"><strong>PROP</strong></span>                <span class=\"highlight__content\"><span>painful </span></span></span><span>concessions </span><span>, </span><span>including </span><span>caps </span><span>on </span><span>export </span><span>duties </span><span>on </span><span>the </span><span>country </span><span>’s </span><span>highly </span><span>productive </span><span>metals </span><span>and </span><span>agricultural </span><span>sectors </span><span>. </span><span>By </span><span>entering </span><span>before </span><span>Russia </span><span>– </span><span>albeit </span><span>on </span><span>less </span><span>favourable </span><span>terms </span><span>than </span><span>it </span><span>might </span><span>have </span><span>hoped </span><span>for </span><span>– </span><span>Ukraine </span><span>has </span><span>gained </span><span>some </span><span>leverage </span><span>over </span><span>Russia </span><span>’s </span><span>accession </span><span>hopes </span><span>. </span><span>Under </span><span>WTO </span><span>rules </span><span>each </span><span>existing </span><span>member </span><span>can </span><span>block </span><span>new </span><span>members </span><span>from </span><span>joining </span><span>unless </span><span>they </span><span>make </span><span>trade </span><span>reforms </span><span>. </span><span>believes </span><span>Aleksandr </span><span>Shokhin </span><span>, </span><span>Head </span><span>of </span><span>Russia </span><span>’s </span><span>Union </span><span>of </span><span>Industrialists </span><span>. </span><span>Earlier </span><span>this </span><span>week </span><span>, </span><span>Ukrainian </span><span>President </span><span>Viktor </span><span>Yushchenko </span><span>said </span><span>that </span><span>membership </span><span>of </span><span>the </span><span>WTO </span><span>would </span><span>allow </span><span>Ukraine </span><span>to </span><span>negotiate </span><span>with </span><span>Russia </span><span>over </span><span>“ </span></div>"
      ],
      "text/plain": [
       "<IPython.core.display.HTML object>"
      ]
     },
     "metadata": {},
     "output_type": "display_data"
    },
    {
     "data": {
      "text/html": [
       "<div style=\"padding: 16px;\"><span>Ukraine </span><span>'s </span><span>President </span><span>Yushchenko </span><span>is </span><span>urging </span><span>the </span><span>country </span><span>'s </span><span>Prime </span><span>Minister </span><span>, </span><span>Yulia </span><span>Timoshenko </span><span>, </span><span>who </span><span>’s </span><span>dubbed </span><span>‘ </span><span key=19 class=\"highlight blue\" depth=0 id=PROP onmouseover=\"handleHighlightMouseOver(this)\"                 onmouseout=\"handleHighlightMouseOut(this)\" labelPosition=\"left\">                <span class=\"highlight__label\"><strong>PROP</strong></span>                <span class=\"highlight__content\"><span>gas </span> <span>princess </span></span></span><span>' </span><span>in </span><span>Ukraine </span><span>, </span><span>to </span><span>settle </span><span>the </span><span>conflict </span><span>with </span><span>Russia </span><span>over </span><span>gas </span><span>supplies </span><span>as </span><span>soon </span><span>as </span><span>possible </span><span>. </span><span>Russia </span><span>'s </span><span>gas </span><span>giant </span><span>Gazprom </span><span>says </span><span>it </span><span>will </span><span>cut </span><span>off </span><span>enerUkraine </span><span>says </span><span>it </span><span>'s </span><span>willing </span><span>to </span><span>settle </span><span>the </span><span>debt </span><span>, </span><span>but </span><span>in </span><span>return </span><span>it </span><span>would </span><span>like </span><span>to </span><span>receive </span><span>gas </span><span>directly </span><span>from </span><span>Gazprom </span><span>. </span><span>That </span><span>would </span><span>by </span><span>- </span><span>pass </span><span>the </span><span>Russian </span><span>- </span><span>Swiss </span><span>joint </span><span>company </span><span>, </span><span>RosUkr </span><span>- </span><span>Energo </span><span>, </span><span>which </span><span>currently </span><span>acts </span><span>as </span><span>an </span><span>intermediary. </span><span>Executives </span><span>from </span><span>Ukraine </span><span>’s </span><span>energy </span><span>firm </span><span>Naftogaz </span><span>are </span><span>to </span><span>meet </span><span>with </span><span>Gazprom </span><span>in </span><span>Moscow </span><span>for </span><span>further </span><span>negotiations </span><span>. </span><span>Sergey </span><span>Mikheev </span><span>, </span><span>a </span><span>political </span><span>analyst </span><span>from </span><span>the </span><span>Moscow </span><span>- </span><span>based </span><span>Centre </span><span>of </span><span>Political </span><span>Technologies </span><span>, </span><span>says </span><span>there </span><span>may </span><span>be </span><span>unforeseen </span><span>consequences </span><span>for </span><span>Ukraine </span><span>if </span><span>the </span><span>dispute </span><span>escalates </span><span>. </span></div>"
      ],
      "text/plain": [
       "<IPython.core.display.HTML object>"
      ]
     },
     "metadata": {},
     "output_type": "display_data"
    },
    {
     "data": {
      "text/html": [
       "<div style=\"padding: 16px;\"><span>Gazprom </span><span>has </span><span>pushed </span><span>back </span><span>a </span><span>deadline </span><span>to </span><span>cut </span><span>off </span><span>gas </span><span>to </span><span>Ukraine </span><span>as </span><span>officials </span><span>from </span><span>both </span><span>sides </span><span>continue </span><span>talks </span><span>on </span><span>payment </span><span>issues </span><span>. </span><span>The </span><span>new </span><span>deadline </span><span>is </span><span>set </span><span>for </span><span>6 </span><span>pm </span><span>on </span><span>Tuesday </span><span>, </span><span>Moscow </span><span>time </span><span>. </span><span>This </span><span>follows </span><span>a </span><span>day </span><span>of </span><span>talks </span><span>between </span><span>executives </span><span>of </span><span>Russian </span><span>and </span><span>Ukranian </span><span>gaThe </span><span>current </span><span>row </span><span>is </span><span>far </span><span>from </span><span>being </span><span>the </span><span>first </span><span>one </span><span>in </span><span>the </span><span key=61 class=\"highlight blue\" depth=0 id=PROP onmouseover=\"handleHighlightMouseOver(this)\"                 onmouseout=\"handleHighlightMouseOut(this)\" labelPosition=\"left\">                <span class=\"highlight__label\"><strong>PROP</strong></span>                <span class=\"highlight__content\"><span>turbulent </span></span></span><span>energy </span><span>relationship </span><span>between </span><span>Russia </span><span>and </span><span>Ukraine. </span><span>On </span><span>New </span><span>Year </span><span>’s </span><span>Day </span><span>2006 </span><span>Gazprom </span><span>stopped </span><span>its </span><span>gas </span><span>supplies </span><span>to </span><span>Ukraine </span><span>following </span><span>a </span><span>months </span><span>- </span><span>long </span><span>dispute </span><span>. </span><span>For </span><span>some </span><span>years </span><span>Russia </span><span>’s </span><span>ex </span><span>- </span><span>Soviet </span><span>neighbour </span><span>had </span><span>been </span><span>acquiring </span><span>Russian </span><span>gas </span><span>at </span><span>a </span><span>price </span><span>almost </span><span>five </span><span>times </span><span>lower </span><span>than </span><span>Europe. </span><span>In </span><span>March </span><span>2005 </span><span>Ukraine </span><span>proposed </span><span>a </span><span>transition </span><span>to </span><span>market </span><span>relations </span><span>with </span><span>Russia </span><span>cancelling </span><span>earlier </span><span>agreements </span><span>for </span><span>Russian </span><span>gas </span><span>transportation </span><span>. </span><span>In </span><span>return </span><span>, </span><span>Gazprom </span><span>announced </span><span>new </span><span>market </span><span>prices </span><span>for </span><span>Ukraine </span><span>, </span><span>which </span><span>it </span><span>refused </span><span>to </span><span>pay </span><span>. </span><span>After </span><span>months </span><span>of </span><span>deadlock </span><span>and </span><span>clear </span><span>notice </span><span>the </span><span>country </span><span>was </span><span>cut </span><span>off. </span></div>"
      ],
      "text/plain": [
       "<IPython.core.display.HTML object>"
      ]
     },
     "metadata": {},
     "output_type": "display_data"
    },
    {
     "data": {
      "text/html": [
       "<div style=\"padding: 16px;\"><span>Gas </span><span>, </span><span>gas </span><span>and </span><span>more </span><span>gas </span><span>is </span><span>the </span><span>focus </span><span>in </span><span>Russian </span><span>newspapers </span><span>on </span><span>Tuesday </span><span>. </span><span>Is </span><span>the </span><span>conflict </span><span>between </span><span>Russia </span><span>and </span><span>Ukraine </span><span>a </span><span>business </span><span>dispute </span><span>or </span><span key=26 class=\"highlight blue\" depth=0 id=PROP onmouseover=\"handleHighlightMouseOver(this)\"                 onmouseout=\"handleHighlightMouseOut(this)\" labelPosition=\"left\">                <span class=\"highlight__label\"><strong>PROP</strong></span>                <span class=\"highlight__content\"><span>political </span> <span>history </span></span></span><span>repeating </span><span>itself?reports </span><span>: </span><span>the </span><span>tension </span><span>in </span><span>“ </span><span>gas </span><span>relations </span><span>” </span><span>has </span><span>created </span><span>more </span><span>questions </span><span>than </span><span>answers </span><span>. </span><span>The </span><span>Ukrainian </span><span>side </span><span>wonders </span><span>about </span><span>who </span><span>brought </span><span>the </span><span>1.5 </span><span>billion </span><span>dollar </span><span>debt </span><span>into </span><span>existence </span><span>? </span><span>Gazprom </span><span>’s </span><span>Sergey </span><span>Kupriyanov </span><span>says </span><span>in </span><span>response </span><span>: </span><span>let </span><span>’s </span><span>get </span><span>a </span><span>legal </span><span>framework </span><span>for </span><span>gas </span><span>supply </span><span>. </span><span>And </span><span>– </span><span>you </span><span>shall </span><span>pay </span><span>the </span><span>debt.writes </span><span>, </span><span>Russia </span><span>- </span><span>Ukraine </span><span>relations </span><span>are </span><span>getting </span><span>more </span><span>and </span><span>more </span><span>theatrical </span><span>. </span><span>Yulia </span><span>Timoshenko </span><span>strikes </span><span>a </span><span>pose </span><span>and </span><span>promises </span><span>to </span><span>break </span><span>all </span><span>contracts </span><span>, </span><span>raise </span><span>transit </span><span>tariffs </span><span>and </span><span>destroy </span><span>RosUkrEnergo </span><span>. </span><span>Viktor </span><span>Yushchenko </span><span>understands </span><span>what </span><span>this </span><span>may </span><span>do </span><span>to </span><span>his </span><span>country </span><span>and </span><span>tries </span><span>to </span><span>calm </span><span>everyone </span><span>down </span><span>. </span><span>Gazprom </span><span>, </span><span>getting </span><span>no </span><span>payment </span><span>for </span><span>delivered </span><span>goods </span><span>, </span><span>threatens </span><span>to </span><span>turn </span><span>off </span><span>the </span><span>tap </span><span>. </span><span key=148 class=\"highlight blue\" depth=0 id=PROP onmouseover=\"handleHighlightMouseOver(this)\"                 onmouseout=\"handleHighlightMouseOut(this)\" labelPosition=\"left\">                <span class=\"highlight__label\"><strong>PROP</strong></span>                <span class=\"highlight__content\"><span>European </span> <span>Russia </span> <span>- </span> <span>haters </span></span></span><span>, </span><span>again </span><span>, </span><span>start </span><span key=153 class=\"highlight blue\" depth=0 id=PROP onmouseover=\"handleHighlightMouseOver(this)\"                 onmouseout=\"handleHighlightMouseOut(this)\" labelPosition=\"left\">                <span class=\"highlight__label\"><strong>PROP</strong></span>                <span class=\"highlight__content\"><span>threatening </span> <span>the </span> <span>World </span> <span>with </span> <span>big </span> <span>bad </span> <span>Russia </span> <span>that </span> <span>wants </span> <span>to </span> <span>strangle </span> <span>Ukrainian </span> <span>independence </span></span></span><span>. </span><span>Valentin </span></div>"
      ],
      "text/plain": [
       "<IPython.core.display.HTML object>"
      ]
     },
     "metadata": {},
     "output_type": "display_data"
    },
    {
     "data": {
      "text/html": [
       "<div style=\"padding: 16px;\"><span>Ukraine </span><span>'s </span><span>boxing </span><span>champion </span><span>Vladimir </span><span>Klitschko </span><span>and </span><span>Russia </span><span>'s </span><span>Sultan </span><span>Ibragimov </span><span>are </span><span>set </span><span>to </span><span>fight </span><span>it </span><span>out </span><span>for </span><span>the </span><span>world </span><span>heavyweight </span><span>unification </span><span>belt </span><span>. </span><span>Klitschko </span><span>has </span><span>described </span><span>the </span><span>fight </span><span>as </span><span>a </span><span>turning </span><span>point </span><span>in </span><span>boxing </span><span>history </span><span>. </span><span>The </span><span>pair </span><span>will </span><span>meet </span><span>on </span><span>Saturday </span><span>in </span><span>MadisoAfter </span><span>elder </span><span>brother </span><span>Vitaly </span><span>Klitschko </span><span>'s </span><span>string </span><span>of </span><span>success </span><span>as </span><span>both </span><span>amateur </span><span>and </span><span>pro </span><span>, </span><span>younger </span><span>Vladimir </span><span>did </span><span>n't </span><span>fail </span><span>to </span><span>catch </span><span>up </span><span>. </span><span>In </span><span>1996 </span><span>he </span><span>punched </span><span>and </span><span>jabbed </span><span>his </span><span>way </span><span>to </span><span>Olympic </span><span>gold </span><span>in </span><span>Atlanta </span><span>, </span><span>just </span><span>days </span><span>before </span><span>both </span><span>men </span><span>turned </span><span>professional </span><span>and </span><span>moved </span><span>to </span><span>Germany </span><span>. </span><span>Since </span><span>then </span><span>the </span><span>Slavic </span><span>duo </span><span>have </span><span>been </span><span key=101 class=\"highlight blue\" depth=0 id=PROP onmouseover=\"handleHighlightMouseOver(this)\"                 onmouseout=\"handleHighlightMouseOut(this)\" labelPosition=\"left\">                <span class=\"highlight__label\"><strong>PROP</strong></span>                <span class=\"highlight__content\"><span>storming </span> <span>up </span></span></span><span>the </span><span>rankings </span><span>, </span><span>securing </span><span>one </span><span>title </span><span>after </span><span>another. </span><span>Today </span><span>Vitaly </span><span>Klitschko </span><span>is </span><span>more </span><span>often </span><span>seen </span><span>holding </span><span>court </span><span>in </span><span>Kiev </span><span>'s </span><span>political </span><span>circles </span><span>, </span><span>while </span><span>Vladimir </span><span>is </span><span>still </span><span>in </span><span>the </span><span>ring </span><span>, </span><span>currently </span><span>holding </span><span>two </span><span>championship </span><span>belts </span><span>at </span><span>the </span><span>same </span><span>time </span><span>– </span><span>the </span><span>IBF </span><span>and </span><span>the </span><span>IBO </span><span>versions. </span><span>In </span><span>12 </span><span>years </span><span>his </span><span>thunderbolt </span><span>punch </span><span>knocked </span><span>down </span><span>as </span><span>many </span><span>as </span><span>44 </span><span>boxers </span><span>and </span><span>won </span><span>a </span><span>nickname </span></div>"
      ],
      "text/plain": [
       "<IPython.core.display.HTML object>"
      ]
     },
     "metadata": {},
     "output_type": "display_data"
    },
    {
     "data": {
      "text/html": [
       "<div style=\"padding: 16px;\"><span>A </span><span>road </span><span>- </span><span>rage </span><span>incident </span><span>in </span><span>Ukraine </span><span>could </span><span>see </span><span>heads </span><span>roll </span><span>among </span><span>the </span><span>country </span><span>'s </span><span>top </span><span>brass </span><span>. </span><span>The </span><span>Parliament </span><span>Speaker </span><span>claims </span><span>the </span><span>owner </span><span>of </span><span>a </span><span>Porsche </span><span>made </span><span>an </span><span key=29 class=\"highlight blue\" depth=0 id=PROP onmouseover=\"handleHighlightMouseOver(this)\"                 onmouseout=\"handleHighlightMouseOut(this)\" labelPosition=\"left\">                <span class=\"highlight__label\"><strong>PROP</strong></span>                <span class=\"highlight__content\"><span>obscene </span></span></span><span>gesture </span><span>to </span><span>him </span><span>while </span><span>driving </span><span>in </span><span>Kiev </span><span>. </span><span>The </span><span>mystery </span><span>driver </span><span>was </span><span>tracked </span><span>down </span><span>– </span><span>and </span><span>found </span><span>in </span><span>thThe </span><span>Speaker </span><span>of </span><span>Ukraine </span><span>'s </span><span>Parliament </span><span>, </span><span>Arseny </span><span>Yatsenyuk </span><span>, </span><span>was </span><span>on </span><span>his </span><span>way </span><span>to </span><span>work </span><span>when </span><span>an </span><span>off </span><span>- </span><span>roader </span><span>apparently </span><span>got </span><span>in </span><span>front </span><span>of </span><span>him </span><span>and </span><span>blocked </span><span>his </span><span>way </span><span>. </span><span>The </span><span>cars </span><span>then </span><span>drove </span><span>side </span><span>by </span><span>side </span><span>when </span><span>the </span><span>window </span><span>of </span><span>a </span><span>Porsche </span><span>Cayennes </span><span>came </span><span>down </span><span>, </span><span>the </span><span>hand </span><span>came </span><span>out </span><span>and </span><span>the </span><span>speaker </span><span>was </span><span>shown </span><span>the </span><span>middle </span><span>finger. </span><span>The </span><span>politician </span><span>asked </span><span>the </span><span>police </span><span>to </span><span>track </span><span>the </span><span>man </span><span>down </span><span>but </span><span>they </span><span>failed </span><span>. </span><span>So </span><span>he </span><span>launched </span><span>his </span><span>own </span><span>investigation </span><span>with </span><span>a </span><span>surprising </span><span>result </span><span>. </span><span>Arseny </span><span>Yatsenyuk </span><span>explained. </span><span>President </span><span>Yushchenko </span><span>and </span><span>the </span><span>speaker </span><span>arrived </span><span>at </span><span>an </span><span>official </span><span>meeting </span><span>attended </span><span>by </span><span>senior </span><span>road </span><span>traffic </span><span>police </span><span>– </span><span>heads </span><span>were </span><span>about </span><span>to </span><span>roll </span><span>. </span><span>President </span><span>Yushchenko </span><span>said. </span><span>Ukraine </span></div>"
      ],
      "text/plain": [
       "<IPython.core.display.HTML object>"
      ]
     },
     "metadata": {},
     "output_type": "display_data"
    },
    {
     "data": {
      "text/html": [
       "<div style=\"padding: 16px;\"><span>In </span><span>the </span><span>spotlight </span><span>of </span><span>the </span><span>Russian </span><span>press </span><span>today </span><span>are </span><span>the </span><span>following </span><span>events </span><span>: </span><span>a </span><span>record </span><span>turnout </span><span>at </span><span>the </span><span>CIS </span><span>summit </span><span>in </span><span>Moscow </span><span>and </span><span>Kosovo </span><span>becoming </span><span key=25 class=\"highlight blue\" depth=0 id=PROP onmouseover=\"handleHighlightMouseOver(this)\"                 onmouseout=\"handleHighlightMouseOut(this)\" labelPosition=\"left\">                <span class=\"highlight__label\"><strong>PROP</strong></span>                <span class=\"highlight__content\"><span>another </span> <span>nail </span> <span>in </span> <span>the </span> <span>coffin </span> <span>of </span> <span>international </span> <span>law </span> <span>as </span> <span>we </span> <span>know </span> <span>it.writes </span></span></span><span>that </span><span>the </span><span>current </span><span>summit </span><span>of </span><span>the </span><span>leaders </span><span>of </span><span>the </span><span>Commonwealth </span><span>of </span><span>Independent </span><span>States </span><span>in </span><span>Moscow </span><span>is </span><span>unique </span><span>: </span><span>for </span><span>the </span><span>first </span><span>time </span><span>in </span><span>years </span><span>all </span><span>Heads </span><span>of </span><span>States </span><span>of </span><span>the </span><span>post </span><span>- </span><span>Soviet </span><span>nations </span><span>are </span><span>attending </span><span>the </span><span>meeting </span><span>. </span><span>says </span><span>the </span><span>main </span><span>talk </span><span>at </span><span>the </span><span>summit </span><span>is </span><span>about </span><span>the </span><span>consequences </span><span>of </span><span>Kosovo </span><span>’s </span><span>self </span><span>- </span><span>proclaimed </span><span>independence </span><span>for </span><span>the </span><span>unrecognised </span><span>states </span><span>in </span><span>the </span><span>post </span><span>- </span><span>Soviet </span><span>space </span><span>. </span><span>publishes </span><span>an </span><span>interview </span><span>with </span><span>the </span><span>President </span><span>of </span><span>Ukraine </span><span>, </span><span>Victor </span><span>Yushenko </span><span>, </span><span>who </span><span>is </span><span>in </span><span>Moscow </span><span>for </span><span>the </span><span>summit </span><span>. </span><span>He </span><span>says </span><span>if </span><span>Ukraine </span><span>enters </span><span>NATO </span><span>, </span><span>no </span><span>new </span><span>threats </span><span>will </span><span>emerge </span><span>for </span><span>Russia </span><span>. </span><span>The </span><span>Ukrainian </span><span>President </span><span>reminded </span><span>the </span><span>paper </span><span>’s </span><span>readers </span><span>that </span><span>the </span><span>course </span><span>towards </span><span>NATO </span><span>membership </span><span>has </span><span>been </span><span>part </span><span>of </span><span>the </span><span>nation </span><span>’s </span><span>Doctrine </span><span>of </span><span>National </span><span>Security </span><span>since </span><span>2003 </span><span>. </span><span>However </span><span>, </span><span>the </span><span>President </span><span>confirmed </span><span>again </span><span>that </span><span>Ukraine </span><span>is </span><span>going </span><span>to </span><span>stay </span><span>nuclear </span><span>free </span><span>and </span><span>that </span><span>there </span><span>’s </span><span>no </span></div>"
      ],
      "text/plain": [
       "<IPython.core.display.HTML object>"
      ]
     },
     "metadata": {},
     "output_type": "display_data"
    },
    {
     "data": {
      "text/html": [
       "<div style=\"padding: 16px;\"><span>Dmitry </span><span>Medvedev </span><span>– </span><span key=3 class=\"highlight blue\" depth=0 id=PROP onmouseover=\"handleHighlightMouseOver(this)\"                 onmouseout=\"handleHighlightMouseOut(this)\" labelPosition=\"left\">                <span class=\"highlight__label\"><strong>PROP</strong></span>                <span class=\"highlight__content\"><span>a </span> <span>liberal </span></span></span><span>or </span><span>not </span><span>? </span><span>Kosovo </span><span>– </span><span>a </span><span>big </span><span>problem </span><span>for </span><span>Europe </span><span>or </span><span>just </span><span>a </span><span>routine </span><span>one </span><span>? </span><span>And </span><span>a </span><span>family </span><span>reunion </span><span>after </span><span>66 </span><span>years </span><span>. </span><span>These </span><span>are </span><span>some </span><span>of </span><span>the </span><span>topics </span><span>the </span><span>Media </span><span>Mirror </span><span>has </span><span>selected </span><span>from </span><span>the </span><span>recent </span><span>weekly </span><span>and </span><span>daily </span><span>editions </span><span>. </span><span>The </span><span>weekly </span><span>poses </span><span>the </span><span>question </span><span>, </span><span>“ </span><span>Is </span><span>Mr </span><span>Medvedev </span><span>a </span><span>liberal </span><span>? </span><span>” </span><span>Political </span><span>scientist </span><span>Vitaly </span><span>Ivanov </span><span>thinks </span><span>he </span><span>is </span><span>not </span><span>. </span><span>Ivanov </span><span>says </span><span>this </span><span>needs </span><span>no </span><span>proof </span><span>. </span><span>Putin </span><span>is </span><span>not </span><span key=80 class=\"highlight blue\" depth=0 id=PROP onmouseover=\"handleHighlightMouseOver(this)\"                 onmouseout=\"handleHighlightMouseOut(this)\" labelPosition=\"left\">                <span class=\"highlight__label\"><strong>PROP</strong></span>                <span class=\"highlight__content\"><span>a </span> <span>liberal </span></span></span><span>and </span><span>he </span><span>is </span><span>highly </span><span>unlikely </span><span>to </span><span>choose </span><span>a </span><span>liberal </span><span>as </span><span>his </span><span>co </span><span>- </span><span>ruler </span><span>. </span><span>No </span><span>“ </span><span>new </span><span>times </span><span>” </span><span>are </span><span>looming </span><span>. </span><span>The </span><span>Putin </span><span>era </span><span>is </span><span>going </span><span>to </span><span>continue. </span><span>The </span><span>same </span><span>magazine </span><span>presents </span><span>another </span><span>opinion </span><span>from </span><span>by </span><span>political </span><span>commentator </span><span>Aleksandr </span><span>Brudberg </span><span>. </span><span>He </span><span>writes </span><span>Medvedev </span><span>may </span><span>not </span><span>be </span><span>a </span><span>liberal </span><span>, </span><span>but </span><span>there </span><span>’s </span><span>still </span><span>no </span><span>sense </span><span>in </span><span>having </span><span>a </span><span>heated </span><span>discussion </span><span>over </span><span>it </span><span>. </span><span>Other </span><span>matters </span><span>are </span><span>more </span><span>important </span><span>at </span><span>the </span><span>moment </span><span>, </span><span>such </span><span>as </span><span>the </span><span>continuation </span><span>of </span><span>economic </span><span>and </span><span>political </span><span>stability </span><span>. </span><span>daily </span><span>calls </span><span>the </span><span>breakaway </span><span>region </span><span>of </span><span>Serbia </span><span>“ </span><span>Ameri </span><span>- </span><span>Kosovo </span><span>” </span><span>. </span><span>The </span><span>paper </span><span>writes </span></div>"
      ],
      "text/plain": [
       "<IPython.core.display.HTML object>"
      ]
     },
     "metadata": {},
     "output_type": "display_data"
    },
    {
     "data": {
      "text/html": [
       "<div style=\"padding: 16px;\"><span>The </span><span>gas </span><span>dispute </span><span>between </span><span>Moscow </span><span>and </span><span>Kiev </span><span>has </span><span>again </span><span>threatened </span><span>energy </span><span>supplies </span><span>to </span><span>Europe </span><span>. </span><span>Some </span><span>analysts </span><span>say </span><span>the </span><span>cause </span><span>of </span><span>the </span><span>row </span><span>is </span><span>a </span><span>power </span><span>struggle </span><span>at </span><span>the </span><span>heart </span><span>of </span><span>Ukraine </span><span>'s </span><span>government </span><span>. </span><span>Ukraine </span><span>'s </span><span>President </span><span>Viktor </span><span>Yushchenko </span><span>and </span><span>Prime </span><span>Minister </span><span>Yulia </span><span>Timoshenko </span><span>could </span><span>not </span><span>agree </span><span>between </span><span>themselves </span><span>who </span><span>would </span><span>manage </span><span>the </span><span>energy </span><span>sector. </span><span>Frustrated </span><span>by </span><span>conflicting </span><span>reports </span><span>and </span><span>actions </span><span>, </span><span>Russia </span><span>got </span><span>tired </span><span>of </span><span>waiting </span><span>and </span><span>has </span><span>cut </span><span>off </span><span>a </span><span>quarter </span><span>of </span><span>its </span><span>regular </span><span>supplies. </span><span>Some </span><span>analysts </span><span>say </span><span>that </span><span>Ukraine </span><span>’s </span><span>power </span><span>wars </span><span>are </span><span>to </span><span>blame </span><span>. </span><span>Oleg </span><span>Voloshin </span><span>, </span><span>political </span><span>analyst </span><span>from </span><span>Expert </span><span>magazine </span><span>says. </span><span>The </span><span>split </span><span>between </span><span>the </span><span>‘ </span><span key=104 class=\"highlight blue\" depth=0 id=PROP onmouseover=\"handleHighlightMouseOver(this)\"                 onmouseout=\"handleHighlightMouseOut(this)\" labelPosition=\"left\">                <span class=\"highlight__label\"><strong>PROP</strong></span>                <span class=\"highlight__content\"><span>gas </span> <span>princess </span> <span>’ </span></span></span><span>- </span><span>as </span><span>Timoshenko </span><span>’s </span><span>known </span><span>at </span><span>home </span><span>- </span><span>and </span><span>the </span><span>President </span><span>is </span><span>old </span><span>news </span><span>in </span><span>Ukraine. </span><span>They </span><span>started </span><span>off </span><span>as </span><span>friends </span><span>and </span><span>heroes </span><span>of </span><span>the </span><span>Orange </span><span>Revolution </span><span>, </span><span>but </span><span>could </span><span>n’t </span><span>keep </span><span>the </span><span>marriage </span><span>going </span><span>for </span><span>longer </span><span>than </span><span>a </span><span>year </span><span>. </span></div>"
      ],
      "text/plain": [
       "<IPython.core.display.HTML object>"
      ]
     },
     "metadata": {},
     "output_type": "display_data"
    },
    {
     "data": {
      "text/html": [
       "<div style=\"padding: 16px;\"><span>Gazprom </span><span>has </span><span>cut </span><span>supplies </span><span>to </span><span>Ukraine </span><span>to </span><span>half </span><span>of </span><span>the </span><span>normal </span><span>rate </span><span>, </span><span>but </span><span>has </span><span>insisted </span><span>it </span><span>'s </span><span>continuing </span><span>its </span><span>deliveries </span><span>to </span><span>European </span><span>customers </span><span>in </span><span>full </span><span>. </span><span>Ukraine </span><span>'s </span><span>gas </span><span>company </span><span>Naftogaz </span><span>promised </span><span>not </span><span>to </span><span>divert </span><span>gas </span><span>meant </span><span>for </span><span>Europe </span><span>for </span><span>at </span><span>least </span><span>two </span><span>weeks </span><span>, </span><span>although </span><span>it </span><span>dRussia </span><span>'s </span><span>gas </span><span>monopoly </span><span>also </span><span>threatened </span><span>Ukraine </span><span>with </span><span>further </span><span>cuts </span><span>in </span><span>a </span><span>row </span><span>over </span><span>unpaid </span><span>gas </span><span>debts. </span><span>Gazprom </span><span>spokesman </span><span>Sergey </span><span>Kupriyanov </span><span>is </span><span key=70 class=\"highlight blue\" depth=0 id=PROP onmouseover=\"handleHighlightMouseOver(this)\"                 onmouseout=\"handleHighlightMouseOut(this)\" labelPosition=\"left\">                <span class=\"highlight__label\"><strong>PROP</strong></span>                <span class=\"highlight__content\"><span>highly </span></span></span><span>critical </span><span>of </span><span>Kiev </span><span>'s </span><span>handling </span><span>of </span><span>the </span><span>dispute </span><span>. </span><span>Kupriyanov </span><span>said. </span><span>As </span><span>of </span><span>Tuesday </span><span>evening </span><span>, </span><span>Ukraine </span><span>is </span><span>receiving </span><span>only </span><span>75 </span><span>million </span><span>cubic </span><span>metres </span><span>of </span><span>gas </span><span>, </span><span>half </span><span>the </span><span>usual </span><span>daily </span><span>volume. </span><span>Naftogaz </span><span>says </span><span>it </span><span>is </span><span>ready </span><span>to </span><span>return </span><span>to </span><span>the </span><span>negotiating </span><span>table </span><span>and </span><span>has </span><span>already </span><span>lodged </span><span>its </span><span>proposals </span><span>with </span><span>Gazprom. </span><span>So </span><span>far </span><span>, </span><span>there </span><span>are </span><span>no </span><span>reports </span><span>from </span><span>Europe </span><span>of </span><span>shortfalls </span></div>"
      ],
      "text/plain": [
       "<IPython.core.display.HTML object>"
      ]
     },
     "metadata": {},
     "output_type": "display_data"
    },
    {
     "data": {
      "text/html": [
       "<div style=\"padding: 16px;\"><span>The </span><span>Russian </span><span>gas </span><span>giant </span><span>Gazprom </span><span>and </span><span>Ukraine </span><span>'s </span><span>Naftogaz </span><span>have </span><span>announced </span><span>they </span><span>’ve </span><span>signed </span><span>a </span><span>deal </span><span>for </span><span>gas </span><span>supplies </span><span>. </span><span>The </span><span>two </span><span>entities </span><span>have </span><span>been </span><span>in </span><span>dispute </span><span>for </span><span>months </span><span>over </span><span>Ukraine </span><span>'s </span><span>standing </span><span>debt </span><span>. </span><span>No </span><span>intermediates </span><span>will </span><span>be </span><span>used </span><span>by </span><span>Gazprom </span><span>and </span><span>Nafrogaz </span><span>from </span><span>now </span><span>on </span><span>. </span><span>The </span><span>parties </span><span>also </span><span>agreed </span><span>on </span><span>pricing </span><span>terms </span><span>. </span><span>Ukraine </span><span>will </span><span>pay </span><span>$ </span><span>US </span><span>315 </span><span>for </span><span>each </span><span>thousand </span><span>cubic </span><span>metre </span><span>of </span><span>Russian </span><span>gas </span><span>. </span><span>The </span><span>price </span><span>for </span><span>Central </span><span>Asian </span><span>gas </span><span>, </span><span>which </span><span>Gazprom </span><span>re </span><span>- </span><span>sells </span><span>, </span><span>will </span><span>be </span><span>$ </span><span>US </span><span>179.5.Gazprom </span><span>and </span><span>Ukraine </span><span>were </span><span key=92 class=\"highlight blue\" depth=0 id=PROP onmouseover=\"handleHighlightMouseOver(this)\"                 onmouseout=\"handleHighlightMouseOut(this)\" labelPosition=\"left\">                <span class=\"highlight__label\"><strong>PROP</strong></span>                <span class=\"highlight__content\"><span>clashed </span></span></span><span>in </span><span>a </span><span>stand </span><span>- </span><span>off </span><span>over </span><span>Ukraine </span><span>’s </span><span>debt </span><span>for </span><span>Russian </span><span>gas </span><span>. </span><span>The </span><span>Russian </span><span>company </span><span>had </span><span>to </span><span>compensate </span><span>the </span><span>shortage </span><span>of </span><span>cheaper </span><span>Central </span><span>Asian </span><span>gas </span><span>, </span><span>and </span><span>Ukraine </span><span>failed </span><span>to </span><span>cover </span><span>the </span><span>price </span><span>difference </span><span>. </span><span>The </span><span>new </span><span>agreement </span><span>allows </span><span>Ukraine </span><span>not </span><span>to </span><span>pay </span><span>, </span><span>if </span><span>it </span><span>reimburses </span><span>the </span><span>gas </span><span>delivered </span><span>earlier </span><span>. </span><span>Naftogaz </span><span>hinted </span><span>it </span><span>will </span><span>use </span><span>this </span><span>option </span><span>. </span><span>Also </span><span>a </span><span>Gazprom </span><span>affiliate </span><span>will </span><span>be </span><span>able </span><span>to </span><span>supply </span><span>gas </span><span>to </span><span>Ukraine </span><span>directly </span><span>. </span><span>At </span><span>least </span><span>7.5 </span><span>BLN </span><span>cubic </span></div>"
      ],
      "text/plain": [
       "<IPython.core.display.HTML object>"
      ]
     },
     "metadata": {},
     "output_type": "display_data"
    },
    {
     "data": {
      "text/html": [
       "<div style=\"padding: 16px;\"><span>Three </span><span>former </span><span>high </span><span>ranking </span><span>Ukrainian </span><span>police </span><span>officers </span><span>, </span><span>who </span><span>confessed </span><span>to </span><span>the </span><span>murder </span><span>of </span><span>the </span><span>opposition </span><span>journalist </span><span>, </span><span>Georgy </span><span>Gongadze </span><span>, </span><span>have </span><span>been </span><span>sentenced </span><span>to </span><span>more </span><span>than </span><span>10 </span><span>years </span><span>in </span><span>prison </span><span>. </span><span>Hearings </span><span>have </span><span>been </span><span>going </span><span>for </span><span>more </span><span>than </span><span>two </span><span>years </span><span>. </span><span>The </span><span>case </span><span>of </span><span>a </span><span>beheaded </span><span>opposition </span><span>journalist </span><span key=49 class=\"highlight blue\" depth=0 id=PROP onmouseover=\"handleHighlightMouseOver(this)\"                 onmouseout=\"handleHighlightMouseOut(this)\" labelPosition=\"left\">                <span class=\"highlight__label\"><strong>PROP</strong></span>                <span class=\"highlight__content\"><span>shocked </span> <span>the </span></span></span><span>nation </span><span>and </span><span>exposed </span><span>the </span><span key=54 class=\"highlight blue\" depth=0 id=PROP onmouseover=\"handleHighlightMouseOver(this)\"                 onmouseout=\"handleHighlightMouseOut(this)\" labelPosition=\"left\">                <span class=\"highlight__label\"><strong>PROP</strong></span>                <span class=\"highlight__content\"><span>ugly </span> <span>side </span></span></span><span>of </span><span>power </span><span>circles </span><span>in </span><span>Ukraine. </span><span>Three </span><span>former </span><span>policemen </span><span>have </span><span>been </span><span>convicted </span><span>of </span><span>murder </span><span>. </span><span>Their </span><span>chief </span><span>, </span><span>Oleksey </span><span>Pukach </span><span>, </span><span>is </span><span>still </span><span>at </span><span>large </span><span>. </span><span>Discrediting </span><span>the </span><span>police </span><span>force </span><span>, </span><span>defendants </span><span>used </span><span>violence </span><span>against </span><span>Gongandze </span><span>. </span><span>Keeping </span><span>him </span><span>in </span><span>a </span><span>back </span><span>seat </span><span>of </span><span>their </span><span>car </span><span>, </span><span>Protasov </span><span>and </span><span>Kostenko </span><span>assaulted </span><span>him </span><span>physically. </span><span>Georgy </span><span>Gongadze </span><span>used </span><span>to </span><span>openly </span><span>criticize </span><span>Ukraine </span><span>'s </span><span>government </span><span>under </span><span>former </span><span>president </span><span>Leonid </span><span>Kuchma </span><span>. </span><span>He </span><span>wrote </span><span>a </span><span>number </span><span>of </span><span>damaging </span><span>articles </span><span>accusing </span><span>the </span><span>ministers </span><span>of </span><span>corruption </span><span>. </span><span>He </span><span>disappeared </span><span>in </span><span>2000 </span><span>. </span><span>His </span><span>body </span><span>was </span><span>found </span><span>decapitated </span><span>in </span><span>woods </span><span>near </span><span>Kiev. </span></div>"
      ],
      "text/plain": [
       "<IPython.core.display.HTML object>"
      ]
     },
     "metadata": {},
     "output_type": "display_data"
    },
    {
     "data": {
      "text/html": [
       "<div style=\"padding: 16px;\"><span>The </span><span>possible </span><span>inclusion </span><span>of </span><span>Georgia </span><span>and </span><span>Ukraine </span><span>in </span><span>NATO </span><span>is </span><span>‘ </span><span key=11 class=\"highlight blue\" depth=0 id=PROP onmouseover=\"handleHighlightMouseOver(this)\"                 onmouseout=\"handleHighlightMouseOut(this)\" labelPosition=\"left\">                <span class=\"highlight__label\"><strong>PROP</strong></span>                <span class=\"highlight__content\"><span>extremely </span> <span>troublesome </span></span></span><span>’ </span><span>for </span><span>European </span><span>security </span><span>, </span><span>according </span><span>to </span><span>Dmitry </span><span>Medvedev </span><span>. </span><span>In </span><span>his </span><span>first </span><span>foreign </span><span>interview </span><span>as </span><span>Russia </span><span>’s </span><span>President </span><span>- </span><span>elect </span><span>, </span><span>he </span><span>says </span><span>his </span><span>country </span><span>is </span><span>not </span><span>happy </span><span>with </span><span>NATO </span><span>developments.he </span><span>told </span><span>the </span><span>Financial </span><span>Times. </span><span>Dmitry </span><span>Medvedev </span><span>also </span><span>said </span><span>Russia </span><span>must </span><span>now </span><span>use </span><span>economic </span><span>growth </span><span>to </span><span>help </span><span>citizens </span><span>. </span><span>Medevev </span><span>told </span><span>the </span><span>Financial </span><span>Times. </span><span>Medvedev </span><span>also </span><span>told </span><span>the </span><span>newspaper </span><span>that </span><span>Russia </span><span>is </span><span>well </span><span>- </span><span>prepared </span><span>for </span><span>changes </span><span>in </span><span>other </span><span>economies </span><span>. </span><span>Medvedev </span><span>said. </span><span>Amid </span><span>western </span><span>fears </span><span>of </span><span>a </span><span>power </span><span>split </span><span>in </span><span>the </span><span>Kremlin </span><span>, </span><span>Medvedev </span><span>was </span><span>crystal </span><span>clear </span><span>. </span><span>he </span><span>said. </span><span>He </span><span>repeated </span><span>his </span><span>statement </span><span>from </span><span>the </span><span>Krasnoyarsk </span><span>forum </span><span>that </span><span>freedom </span><span>for </span><span>citizens </span><span>is </span><span>always </span><span>preferable </span><span>to </span><span key=120 class=\"highlight blue\" depth=0 id=PROP onmouseover=\"handleHighlightMouseOver(this)\"                 onmouseout=\"handleHighlightMouseOut(this)\" labelPosition=\"left\">                <span class=\"highlight__label\"><strong>PROP</strong></span>                <span class=\"highlight__content\"><span>no </span></span></span><span>freedom </span><span>. </span></div>"
      ],
      "text/plain": [
       "<IPython.core.display.HTML object>"
      ]
     },
     "metadata": {},
     "output_type": "display_data"
    },
    {
     "data": {
      "text/html": [
       "<div style=\"padding: 16px;\"><span>Russia </span><span>'s </span><span>envoy </span><span>to </span><span>NATO </span><span>, </span><span>Dmitry </span><span>Rogozin </span><span>, </span><span>says </span><span>the </span><span>possible </span><span>admission </span><span>of </span><span>Georgia </span><span>and </span><span>Ukraine </span><span>into </span><span>the </span><span>alliance </span><span>would </span><span>put </span><span>Russia </span><span>'s </span><span>security </span><span>under </span><span>threat </span><span>. </span><span>Dmitry </span><span>Rogozin </span><span>said. </span><span>Rogozin </span><span>has </span><span>also </span><span>condemned </span><span>U.S. </span><span>decision </span><span>to </span><span>supply </span><span>arms </span><span>to </span><span>Kosovo </span><span>as </span><span>a </span><span key=44 class=\"highlight blue\" depth=0 id=PROP onmouseover=\"handleHighlightMouseOver(this)\"                 onmouseout=\"handleHighlightMouseOut(this)\" labelPosition=\"left\">                <span class=\"highlight__label\"><strong>PROP</strong></span>                <span class=\"highlight__content\"><span>severe </span> <span>violation </span></span></span><span>of </span><span>the </span><span>UN </span><span>Security </span><span>Council </span><span>resolution. </span><span>He </span><span>says </span><span>the </span><span>decision </span><span>would </span><span>essentially </span><span>amount </span><span>to </span><span>compelling </span><span>the </span><span>Serbs </span><span>by </span><span>force </span><span>to </span><span>live </span><span>in </span><span>the </span><span>region </span><span>. </span></div>"
      ],
      "text/plain": [
       "<IPython.core.display.HTML object>"
      ]
     },
     "metadata": {},
     "output_type": "display_data"
    },
    {
     "data": {
      "text/html": [
       "<div style=\"padding: 16px;\"><span>Bush </span><span>’s </span><span>support </span><span>of </span><span>Ukraine </span><span>and </span><span>Georgia </span><span>’s </span><span>bid </span><span>for </span><span>NATO </span><span>membership </span><span>does </span><span>not </span><span>give </span><span>them </span><span>automatic </span><span>entry </span><span>, </span><span>points </span><span>out </span><span>Andrew </span><span>Kuchins </span><span>from </span><span>the </span><span>Center </span><span>of </span><span>Strategic </span><span>and </span><span>International </span><span>Studies </span><span>in </span><span>Washington </span><span>. </span><span>He </span><span>said </span><span>there </span><span>is </span><span>opposition </span><span>to </span><span>the </span><span>move </span><span>from </span><span>European </span><span>NATO </span><span>partners </span><span>France </span><span>and </span><span>Germany </span><span>, </span><span>so </span><span>the </span><span>two </span><span>countries </span><span>’ </span><span>agreeing </span><span>to </span><span>the </span><span>Membership </span><span>Action </span><span>Plan </span><span>during </span><span>the </span><span>this </span><span>week </span><span>’s </span><span>summit </span><span>is </span><span>not </span><span>guaranteed </span><span>. </span><span>And </span><span>MAP </span><span>is </span><span>not </span><span>membership </span><span>anyway </span><span>, </span><span>Kuchins </span><span>says. </span><span>Also </span><span>the </span><span>American </span><span>expert </span><span>believes </span><span>that </span><span>the </span><span>meeting </span><span>between </span><span>George </span><span>W. </span><span>Bush </span><span>and </span><span>Vladimir </span><span>Putin </span><span>in </span><span>Sochi </span><span>may </span><span>prove </span><span>very </span><span>positive </span><span>with </span><span>a </span><span>number </span><span>of </span><span>agreements </span><span>signed. </span><span>There </span><span>is </span><span>even </span><span>cautious </span><span>hope </span><span>that </span><span>some </span><span>sort </span><span>of </span><span>consensus </span><span>may </span><span>be </span><span>reached </span><span>on </span><span>the </span><span>anti </span><span>- </span><span>missile </span><span>system </span><span>in </span><span>Europe </span><span>– </span><span key=129 class=\"highlight blue\" depth=0 id=PROP onmouseover=\"handleHighlightMouseOver(this)\"                 onmouseout=\"handleHighlightMouseOut(this)\" labelPosition=\"left\">                <span class=\"highlight__label\"><strong>PROP</strong></span>                <span class=\"highlight__content\"><span>the </span> <span>biggest </span> <span>stumbling </span> <span>block </span></span></span><span>in </span><span>relations </span><span>between </span><span>Russia </span><span>and </span><span>the </span><span>U.S. </span><span>However </span><span>, </span><span>Kuchins </span><span>stressed </span><span>that </span><span>the </span><span>word </span><span>‘ </span><span>cautious </span><span>’ </span><span>is </span><span>more </span><span>prevalent </span><span>here </span><span>then </span><span>‘ </span></div>"
      ],
      "text/plain": [
       "<IPython.core.display.HTML object>"
      ]
     },
     "metadata": {},
     "output_type": "display_data"
    },
    {
     "data": {
      "text/html": [
       "<div style=\"padding: 16px;\"><span>President </span><span>George </span><span>W. </span><span>Bush </span><span>has </span><span>pledged </span><span>U.S. </span><span>support </span><span>for </span><span>Ukraine </span><span>'s </span><span>bid </span><span>to </span><span>join </span><span>NATO </span><span>during </span><span>his </span><span>first </span><span>- </span><span>ever </span><span>visit </span><span>to </span><span>the </span><span>country </span><span>. </span><span>The </span><span>question </span><span>of </span><span>new </span><span>members </span><span>is </span><span>due </span><span>to </span><span>be </span><span>discussed </span><span>at </span><span>the </span><span>NATO </span><span>summit </span><span>in </span><span>Romania </span><span>'s </span><span>capital </span><span>Bucharest </span><span>on </span><span>Wednesday </span><span>. </span><span>Before </span><span>visiting </span><span>Ukraine </span><span>George </span><span>Bush </span><span>even </span><span>learned </span><span>how </span><span>to </span><span>say </span><span>‘ </span><span>hello </span><span>’ </span><span>in </span><span>Ukrainian </span><span>in </span><span>order </span><span>address </span><span>the </span><span>country </span><span>'s </span><span>troops </span><span>– </span><span>but </span><span>his </span><span>greeting </span><span>did </span><span>n't </span><span>go </span><span>down </span><span>too </span><span>well </span><span>with </span><span>many </span><span>Ukrainians. </span><span>Thousands </span><span>of </span><span>people </span><span>gathered </span><span>in </span><span>front </span><span>of </span><span>the </span><span>American </span><span>embassy </span><span>in </span><span>Kiev </span><span>to </span><span>express </span><span>their </span><span>opposition </span><span>to </span><span>the </span><span>NATO </span><span>plans. </span><span>Over </span><span>the </span><span>past </span><span>few </span><span>years </span><span>, </span><span>the </span><span>United </span><span>States </span><span>has </span><span>poured </span><span>millions </span><span>of </span><span>dollars </span><span>into </span><span>Ukraine </span><span>for </span><span>various </span><span>pro </span><span>- </span><span>democracy </span><span>programmes. </span><span>As </span><span>protesters </span><span>were </span><span>marching </span><span>through </span><span>the </span><span>city </span><span>centre </span><span>, </span><span>Laurence </span><span>Ball </span><span>, </span><span>an </span><span>engineer </span><span>from </span><span>Alabama </span><span>, </span><span>was </span><span>looking </span><span>on </span><span>. </span><span>He </span><span>says </span><span>rallies </span><span>like </span><span>this </span><span>show </span><span>that </span><span key=152 class=\"highlight blue\" depth=0 id=PROP onmouseover=\"handleHighlightMouseOver(this)\"                 onmouseout=\"handleHighlightMouseOut(this)\" labelPosition=\"left\">                <span class=\"highlight__label\"><strong>PROP</strong></span>                <span class=\"highlight__content\"><span>U.S. </span> <span>policies </span></span></span></div>"
      ],
      "text/plain": [
       "<IPython.core.display.HTML object>"
      ]
     },
     "metadata": {},
     "output_type": "display_data"
    },
    {
     "data": {
      "text/html": [
       "<div style=\"padding: 16px;\"><span>On </span><span>his </span><span>first </span><span>visit </span><span>to </span><span>Ukraine </span><span>, </span><span>George </span><span>Bush </span><span>has </span><span>given </span><span>his </span><span>backing </span><span>to </span><span>the </span><span>country </span><span>’s </span><span>ambitions </span><span>to </span><span>join </span><span>NATO </span><span>. </span><span>The </span><span>issue </span><span>will </span><span>be </span><span>discussed </span><span>at </span><span>Wednesday </span><span>’s </span><span>NATO </span><span>summit </span><span>in </span><span>Romania </span><span>'s </span><span>capital </span><span>Bucharest </span><span>. </span><span>Meanwhile </span><span>, </span><span>Russia </span><span>warns </span><span>of </span><span>possible </span><span>counter </span><span>measures </span><span>if </span><span>the </span><span>meFrance </span><span>has </span><span>already </span><span>said </span><span>it </span><span>wo </span><span>n’t </span><span>support </span><span>the </span><span>requests </span><span>of </span><span>Ukraine </span><span>and </span><span>Georgia </span><span>to </span><span>join </span><span>the </span><span>western </span><span>alliance. </span><span>During </span><span>his </span><span>meeting </span><span>with </span><span>Ukraine </span><span>’s </span><span>President </span><span>, </span><span>Viktor </span><span>Yushchenko </span><span>, </span><span>Bush </span><span>said </span><span>he </span><span>was </span><span key=82 class=\"highlight blue\" depth=0 id=PROP onmouseover=\"handleHighlightMouseOver(this)\"                 onmouseout=\"handleHighlightMouseOut(this)\" labelPosition=\"left\">                <span class=\"highlight__label\"><strong>PROP</strong></span>                <span class=\"highlight__content\"><span>extremely </span></span></span><span>proud </span><span>of </span><span>Ukrainian </span><span>efforts </span><span>made </span><span>after </span><span>the </span><span>Orange </span><span>Revolution </span><span>in </span><span>2003 </span><span>- </span><span>2004 </span><span>and </span><span>that </span><span>Ukraine </span><span>has </span><span>qualified </span><span>to </span><span>become </span><span>one </span><span>of </span><span>the </span><span>members </span><span>of </span><span>military </span><span>alliance. </span><span>Yushchenko </span><span>said </span><span>Washington </span><span>was </span><span key=114 class=\"highlight blue\" depth=0 id=PROP onmouseover=\"handleHighlightMouseOver(this)\"                 onmouseout=\"handleHighlightMouseOut(this)\" labelPosition=\"left\">                <span class=\"highlight__label\"><strong>PROP</strong></span>                <span class=\"highlight__content\"><span>backing </span> <span>Ukraine </span> <span>to </span> <span>the </span> <span>hilt </span></span></span><span>. </span><span>” </span><span>Yushchenko </span><span>said. </span><span>The </span><span>American </span><span>President </span><span>has </span><span>also </span><span>met </span><span>with </span><span>Ukraine </span><span>’s </span><span>Prime </span><span>Minister </span><span>Yulia </span><span>Timoshenko. </span><span>The </span><span>U.S. </span></div>"
      ],
      "text/plain": [
       "<IPython.core.display.HTML object>"
      ]
     },
     "metadata": {},
     "output_type": "display_data"
    },
    {
     "data": {
      "text/html": [
       "<div style=\"padding: 16px;\"><span>The </span><span>famous </span><span>Russian </span><span>writer </span><span>, </span><span>Aleksandr </span><span>Solzhenitsyn </span><span>, </span><span>says </span><span>Ukrainian </span><span>efforts </span><span>to </span><span>have </span><span>the </span><span>1930s </span><span key=15 class=\"highlight blue\" depth=0 id=PROP onmouseover=\"handleHighlightMouseOver(this)\"                 onmouseout=\"handleHighlightMouseOut(this)\" labelPosition=\"left\">                <span class=\"highlight__label\"><strong>PROP</strong></span>                <span class=\"highlight__content\"><span>famine </span></span></span><span>recognised </span><span>as </span><span>Russian </span><span key=19 class=\"highlight blue\" depth=0 id=PROP onmouseover=\"handleHighlightMouseOver(this)\"                 onmouseout=\"handleHighlightMouseOut(this)\" labelPosition=\"left\">                <span class=\"highlight__label\"><strong>PROP</strong></span>                <span class=\"highlight__content\"><span>genocide </span></span></span><span>against </span><span>Ukraine </span><span>is </span><span>an </span><span>act </span><span>of </span><span>historical </span><span>revisionism </span><span>. </span><span>In </span><span>an </span><span>interview </span><span>with </span><span>Izvestia </span><span>newspaper </span><span>the </span><span>Nobel </span><span>- </span><span>winning </span><span>author </span><span>explains </span><span>that </span><span>the </span><span>famine </span><span>was </span><span>caused </span><span>by </span><span>the </span><span key=48 class=\"highlight blue\" depth=0 id=PROP onmouseover=\"handleHighlightMouseOver(this)\"                 onmouseout=\"handleHighlightMouseOut(this)\" labelPosition=\"left\">                <span class=\"highlight__label\"><strong>PROP</strong></span>                <span class=\"highlight__content\"><span>corrupt </span> <span>ideals </span></span></span><span>of </span><span>the </span><span>Communist </span><span>regime </span><span>, </span><span>under </span><span>which </span><span>all </span><span>suffered </span><span>equally </span><span>. </span><span>It </span><span>was </span><span>not </span><span>an </span><span>assault </span><span>by </span><span>the </span><span>Russian </span><span>people </span><span>against </span><span>the </span><span>people </span><span>of </span><span>Ukraine </span><span>, </span><span>and </span><span>that </span><span>the </span><span>wish </span><span>to </span><span>view </span><span>it </span><span>as </span><span>such </span><span>is </span><span>only </span><span>a </span><span>recent </span><span>development </span><span>. </span><span>Russia </span><span>'s </span><span>Duma </span><span>has </span><span>reviewed </span><span>the </span><span>arguments </span><span>concerning </span><span>the </span><span>famine </span><span>in </span><span>Ukraine </span><span>in </span><span>the </span><span>1930 </span><span>'s </span><span>. </span><span>A </span><span>clear </span><span>majority </span><span>of </span><span>the </span><span>delegates </span><span>has </span><span>concluded </span><span>that </span><span>political </span><span>and </span><span>economic </span><span>reasons </span><span>were </span><span>behind </span><span>forced </span><span>collectivisation </span><span>- </span><span>not </span><span>ethnic </span><span>prejudices </span><span>. </span></div>"
      ],
      "text/plain": [
       "<IPython.core.display.HTML object>"
      ]
     },
     "metadata": {},
     "output_type": "display_data"
    },
    {
     "data": {
      "text/html": [
       "<div style=\"padding: 16px;\"><span>Protesters </span><span>in </span><span>Kiev </span><span>are </span><span>going </span><span>ahead </span><span>with </span><span>their </span><span>planned </span><span>anti </span><span>- </span><span>NATO </span><span>demonstrations </span><span>, </span><span>turning </span><span>them </span><span>into </span><span>celebrations </span><span>instead </span><span>. </span><span>It </span><span>follows </span><span>NATO </span><span>’s </span><span>rejection </span><span>of </span><span>the </span><span>government </span><span>’s </span><span>application </span><span>to </span><span>join </span><span>the </span><span>Western </span><span>military </span><span>alliance </span><span>. </span><span>Around </span><span>2,000 </span><span>people </span><span>have </span><span>taken </span><span>to </span><span>the </span><span>streets </span><span>to </span><span>celebrate </span><span>. </span><span>The </span><span>Party </span><span>of </span><span>the </span><span>Regions </span><span>has </span><span>organised </span><span>a </span><span>concert </span><span>in </span><span>the </span><span>centre </span><span>of </span><span>Kiev </span><span>, </span><span>inviting </span><span>singers </span><span>from </span><span>Russia </span><span>to </span><span>take </span><span>part. </span><span>Similar </span><span>events </span><span>have </span><span>been </span><span>planned </span><span>across </span><span>eastern </span><span>Ukraine </span><span>, </span><span>the </span><span>stronghold </span><span>of </span><span>the </span><span>anti </span><span>- </span><span>NATO </span><span>lobby </span><span>. </span><span>They </span><span>see </span><span>relations </span><span>with </span><span>Russia </span><span>as </span><span>more </span><span>important </span><span>than </span><span>a </span><span>union </span><span>with </span><span>NATO. </span><span>The </span><span>bid </span><span>to </span><span>join </span><span>NATO </span><span>has </span><span>been </span><span>a </span><span key=109 class=\"highlight blue\" depth=0 id=PROP onmouseover=\"handleHighlightMouseOver(this)\"                 onmouseout=\"handleHighlightMouseOut(this)\" labelPosition=\"left\">                <span class=\"highlight__label\"><strong>PROP</strong></span>                <span class=\"highlight__content\"><span>divisive </span></span></span><span>issue </span><span>in </span><span>the </span><span>country </span><span>for </span><span>some </span><span>time </span><span>. </span><span>Opinion </span><span>polls </span><span>conducted </span><span>in </span><span>Ukraine </span><span>over </span><span>the </span><span>last </span><span>15 </span><span>years </span><span>consistently </span><span>show </span><span>that </span><span>more </span><span>than </span><span>half </span><span>of </span><span>the </span><span>population </span><span>is </span><span>against </span><span>joining </span><span>the </span><span>alliance </span><span>- </span><span>almost </span><span>62 </span><span>% </span><span>of </span><span>Ukrainians </span><span>voted </span><span>against </span><span>NATO </span><span>membership. </span><span>Even </span><span>a </span><span>government </span><span>- </span><span>sponsored </span><span>‘ </span><span>information </span><span>’ </span><span>campaign </span></div>"
      ],
      "text/plain": [
       "<IPython.core.display.HTML object>"
      ]
     },
     "metadata": {},
     "output_type": "display_data"
    },
    {
     "data": {
      "text/html": [
       "<div style=\"padding: 16px;\"><span>Many </span><span>historians </span><span>acknowledge </span><span>the </span><span>sacrifices </span><span>the </span><span>Soviet </span><span>Union </span><span>made </span><span>to </span><span>defeat </span><span>Nazi </span><span>Germany </span><span>in </span><span>the </span><span>Second </span><span>World </span><span>War </span><span>. </span><span>However </span><span>, </span><span>a </span><span>film </span><span>released </span><span>in </span><span>Latvia </span><span>is </span><span>suggesting </span><span>that </span><span>the </span><span>Soviet </span><span>Union </span><span>helped </span><span>Nazi </span><span>Germany </span><span>instigate </span><span>the </span><span key=37 class=\"highlight blue\" depth=0 id=PROP onmouseover=\"handleHighlightMouseOver(this)\"                 onmouseout=\"handleHighlightMouseOut(this)\" labelPosition=\"left\">                <span class=\"highlight__label\"><strong>PROP</strong></span>                <span class=\"highlight__content\"><span>horrors </span></span></span><span>of </span><span>the </span><span>Holocaust </span><span>. </span><span>The </span><span>move </span><span>haLatvia </span><span>has </span><span>released </span><span>a </span><span>one </span><span>and </span><span>a </span><span>half </span><span>hour </span><span>documentary </span><span>that </span><span>suggests </span><span>the </span><span>Soviet </span><span>Union </span><span>helped </span><span>Nazi </span><span>Germany </span><span>to </span><span>instigate </span><span>the </span><span>Holocaust </span><span>and </span><span>the </span><span>Soviet </span><span>security </span><span>forces </span><span>– </span><span>the </span><span>NKVD </span><span>– </span><span>collaborated </span><span>with </span><span>the </span><span>Nazi </span><span>’s </span><span>secret </span><span>police. </span><span>The </span><span>film </span><span>premiered </span><span>at </span><span>the </span><span>session </span><span>of </span><span>the </span><span>Parliamentary </span><span>assembly </span><span>of </span><span>Europe </span><span>. </span><span>Russian </span><span>historians </span><span>place </span><span>a </span><span>major </span><span>question </span><span>about </span><span>the </span><span>facts. </span><span>According </span><span>to </span><span>historian </span><span>Aleksandr </span><span>Dyukov </span><span key=109 class=\"highlight blue\" depth=0 id=PROP onmouseover=\"handleHighlightMouseOver(this)\"                 onmouseout=\"handleHighlightMouseOut(this)\" labelPosition=\"left\">                <span class=\"highlight__label\"><strong>PROP</strong></span>                <span class=\"highlight__content\"><span>the </span> <span>number </span></span></span><span>of </span><span>false </span><span>facts </span><span>that </span><span>’s </span><span>already </span><span>obvious </span><span>on </span><span>the </span><span>official </span><span>website </span><span>of </span><span>this </span><span>film </span><span>is </span><span key=125 class=\"highlight blue\" depth=0 id=PROP onmouseover=\"handleHighlightMouseOver(this)\"                 onmouseout=\"handleHighlightMouseOut(this)\" labelPosition=\"left\">                <span class=\"highlight__label\"><strong>PROP</strong></span>                <span class=\"highlight__content\"><span>beyond </span> <span>expectations </span></span></span><span>. </span><span>Dyukov </span><span>says. </span><span>Fighting </span><span>against </span><span>fascism </span><span>the </span><span>Soviet </span><span>Union </span><span>lost </span><span>up </span><span>to </span><span>30 </span><span>million </span><span>people </span><span>, </span><span key=142 class=\"highlight blue\" depth=0 id=PROP onmouseover=\"handleHighlightMouseOver(this)\"                 onmouseout=\"handleHighlightMouseOut(this)\" labelPosition=\"left\">                <span class=\"highlight__label\"><strong>PROP</strong></span>                <span class=\"highlight__content\"><span>more </span> <span>than </span> <span>any </span> <span>other </span> <span>country. </span></span></span></div>"
      ],
      "text/plain": [
       "<IPython.core.display.HTML object>"
      ]
     },
     "metadata": {},
     "output_type": "display_data"
    },
    {
     "data": {
      "text/html": [
       "<div style=\"padding: 16px;\"><span>Europe </span><span>is </span><span>remembering </span><span>the </span><span>estimated </span><span>18 </span><span>million </span><span>people </span><span>who </span><span>passed </span><span>through </span><span>Nazi </span><span>concentration </span><span>camps </span><span>. </span><span>April </span><span>11 </span><span>marks </span><span>the </span><span>liberation </span><span>of </span><span>Buchenwald </span><span>, </span><span>one </span><span>of </span><span>the </span><span>most </span><span>notorious </span><span>camps </span><span>in </span><span>Nazi </span><span>Germany </span><span>. </span><span>For </span><span>many </span><span>the </span><span>day </span><span>is </span><span>a </span><span>chance </span><span>to </span><span>highlight </span><span>anti </span><span>- </span><span>semitism </span><span>and </span><span>poThere </span><span>were </span><span>more </span><span>than </span><span>14,000 </span><span>Nazi </span><span>concentration </span><span>camps </span><span>in </span><span>Germany </span><span>and </span><span>on </span><span>the </span><span>occupied </span><span>territories. </span><span>Ida </span><span>Specter </span><span>was </span><span>eight </span><span>when </span><span>she </span><span>and </span><span>her </span><span>family </span><span>were </span><span>sent </span><span>to </span><span>a </span><span>Nazi </span><span>concentration </span><span>camp </span><span>in </span><span>Western </span><span>Ukraine </span><span>. </span><span>Ida </span><span>recalls. </span><span>It </span><span>was </span><span>there </span><span>that </span><span>she </span><span>became </span><span>aware </span><span>of </span><span>her </span><span>ethnicity </span><span>. </span><span>Ida </span><span>says. </span><span>On </span><span>average </span><span>, </span><span>a </span><span>prisoner </span><span>lasted </span><span>for </span><span>less </span><span>than </span><span>year </span><span>, </span><span>many </span><span>dying </span><span>from </span><span>starvation </span><span>or </span><span>torture </span><span>. </span><span>Millions </span><span>were </span><span>systematically </span><span>murdered. </span><span>The </span><span>process </span><span>of </span><span>death </span><span>was </span><span>perfected </span><span>to </span><span>the </span><span>smallest </span><span>detail </span><span>. </span><span>Before </span><span>being </span><span>killed </span><span>, </span><span>people </span><span>were </span><span key=135 class=\"highlight blue\" depth=0 id=PROP onmouseover=\"handleHighlightMouseOver(this)\"                 onmouseout=\"handleHighlightMouseOut(this)\" labelPosition=\"left\">                <span class=\"highlight__label\"><strong>PROP</strong></span>                <span class=\"highlight__content\"><span>exploited </span> <span>until </span> <span>their </span> <span>last </span> <span>breath </span></span></span><span>. </span><span>And </span><span>even </span><span>after </span><span>their </span><span>death </span><span>, </span></div>"
      ],
      "text/plain": [
       "<IPython.core.display.HTML object>"
      ]
     },
     "metadata": {},
     "output_type": "display_data"
    },
    {
     "data": {
      "text/html": [
       "<div style=\"padding: 16px;\"><span>In </span><span>Ukraine </span><span>, </span><span>three </span><span>young </span><span>men </span><span>who </span><span>went </span><span>on </span><span>a </span><span>month </span><span>- </span><span>long </span><span key=13 class=\"highlight blue\" depth=0 id=PROP onmouseover=\"handleHighlightMouseOver(this)\"                 onmouseout=\"handleHighlightMouseOut(this)\" labelPosition=\"left\">                <span class=\"highlight__label\"><strong>PROP</strong></span>                <span class=\"highlight__content\"><span>killing </span></span></span><span>spree </span><span>have </span><span>been </span><span>charged </span><span>with </span><span>murdering </span><span>21 </span><span>people </span><span>. </span><span>The </span><span>violent </span><span>attacks </span><span key=26 class=\"highlight blue\" depth=0 id=PROP onmouseover=\"handleHighlightMouseOver(this)\"                 onmouseout=\"handleHighlightMouseOut(this)\" labelPosition=\"left\">                <span class=\"highlight__label\"><strong>PROP</strong></span>                <span class=\"highlight__content\"><span>plunged </span></span></span><span>the </span><span>eastern </span><span>city </span><span>of </span><span>Dnepropetrovsk </span><span key=32 class=\"highlight blue\" depth=0 id=PROP onmouseover=\"handleHighlightMouseOver(this)\"                 onmouseout=\"handleHighlightMouseOut(this)\" labelPosition=\"left\">                <span class=\"highlight__label\"><strong>PROP</strong></span>                <span class=\"highlight__content\"><span>into </span> <span>a </span> <span>vortex </span> <span>of </span> <span>fear </span></span></span><span>in </span><span>the </span><span>summer </span><span>of </span><span>2007 </span><span>. </span><span>The </span><span>three </span><span>, </span><span>who </span><span>are </span><span>now </span><span>20 </span><span>years </span><span>old </span><span>, </span><span>Rumours </span><span>of </span><span>a </span><span key=52 class=\"highlight blue\" depth=0 id=PROP onmouseover=\"handleHighlightMouseOver(this)\"                 onmouseout=\"handleHighlightMouseOut(this)\" labelPosition=\"left\">                <span class=\"highlight__label\"><strong>PROP</strong></span>                <span class=\"highlight__content\"><span>maniac </span> <span>killing </span></span></span><span>both </span><span>young </span><span>and </span><span>old </span><span key=57 class=\"highlight blue\" depth=0 id=PROP onmouseover=\"handleHighlightMouseOver(this)\"                 onmouseout=\"handleHighlightMouseOut(this)\" labelPosition=\"left\">                <span class=\"highlight__label\"><strong>PROP</strong></span>                <span class=\"highlight__content\"><span>paralysed </span></span></span><span>Dnepropetrovsk </span><span>, </span><span>one </span><span>of </span><span>the </span><span>largest </span><span>cities </span><span>in </span><span>Ukraine </span><span>. </span><span>Police </span><span>, </span><span>however </span><span>, </span><span>linked </span><span>the </span><span>reign </span><span>of </span><span>terror </span><span>to </span><span>a </span><span>group </span><span>of </span><span>teenagers. </span><span>They </span><span>’re </span><span>not </span><span>revealing </span><span>how </span><span>they </span><span>caught </span><span>them </span><span>but </span><span>, </span><span>with </span><span>mobile </span><span>phone </span><span>footage </span><span>of </span><span>some </span><span>of </span><span>the </span><span>murders </span><span>, </span><span>officers </span><span>have </span><span>little </span><span>doubt </span><span>of </span><span>the </span><span>identity </span><span>of </span><span>the </span><span>criminals </span><span>. </span><span>said </span><span>Detective </span><span>Bogdan </span><span>Vlasenko. </span><span>The </span><span>former </span><span>classmates </span><span>have </span><span>been </span><span>behind </span><span>bars </span><span>for </span><span>almost </span><span>a </span><span>year </span><span>now </span><span>and </span><span>it </span><span>’s </span><span>believed </span><span>they </span><span>'ve </span><span>pleaded </span><span>guilty </span><span>to </span><span>all </span><span>the </span><span>murders </span><span>. </span><span>They </span><span>are </span><span>thought </span><span>to </span><span>have </span><span>used </span><span>iron </span><span>pipes </span><span>and </span><span>hammers </span><span>on </span><span>their </span><span>victims </span></div>"
      ],
      "text/plain": [
       "<IPython.core.display.HTML object>"
      ]
     },
     "metadata": {},
     "output_type": "display_data"
    },
    {
     "data": {
      "text/html": [
       "<div style=\"padding: 16px;\"><span>On </span><span>his </span><span>last </span><span>working </span><span>day </span><span>as </span><span>president </span><span>, </span><span>Vladimir </span><span>Putin </span><span>has </span><span>presented </span><span>five </span><span>Russian </span><span>cities </span><span>with </span><span>honorary </span><span>awards </span><span>. </span><span>The </span><span>aim </span><span>is </span><span>to </span><span>foster </span><span>pride </span><span>among </span><span>Russians </span><span>for </span><span>the </span><span>heroic </span><span>deeds </span><span>of </span><span>those </span><span>who </span><span>fought </span><span>the </span><span>Nazi </span><span>invasion </span><span>during </span><span>WW2.Military </span><span>Glory </span><span>Certificates </span><span>were </span><span>handed </span><span>to </span><span>Voronezh </span><span>and </span><span>Luga </span><span>Russia </span><span>’s </span><span>West </span><span>; </span><span>the </span><span>northern </span><span>city </span><span>of </span><span>Polyarny </span><span>and </span><span>Rostov </span><span>- </span><span>on </span><span>- </span><span>Don </span><span>and </span><span>Tuapse </span><span>in </span><span>the </span><span>South. </span><span>Twenty </span><span>- </span><span>four </span><span>million </span><span>Russians </span><span>died </span><span>during </span><span>the </span><span>Great </span><span>Patriotic </span><span>War </span><span>. </span><span>In </span><span>Tuapse </span><span>bodies </span><span>are </span><span>still </span><span>being </span><span>found </span><span>. </span><span>In </span><span>the </span><span>days </span><span>of </span><span>the </span><span>war </span><span>the </span><span>city </span><span>refused </span><span>to </span><span>surrender. </span><span>“ </span><span key=100 class=\"highlight blue\" depth=0 id=PROP onmouseover=\"handleHighlightMouseOver(this)\"                 onmouseout=\"handleHighlightMouseOut(this)\" labelPosition=\"left\">                <span class=\"highlight__label\"><strong>PROP</strong></span>                <span class=\"highlight__content\"><span>Fascists </span> <span>would </span> <span>never </span> <span>take </span> <span>Tuapse </span></span></span><span>. </span><span>Believe </span><span>me </span><span>! </span><span>” </span><span>a </span><span>WW2 </span><span>veteran </span><span>assures </span><span>. </span><span>Her </span><span>memories </span><span>of </span><span>the </span><span>war </span><span>are </span><span>still </span><span>vivid.she </span><span>said. </span><span>Local </span><span>historians </span><span>are </span><span>still </span><span>proud </span><span>of </span><span>the </span><span>vital </span><span>role </span><span>their </span><span>city </span><span>played </span><span>. </span><span>Tuapse </span><span>Defence </span><span>Museum </span><span>director </span><span>Eduard </span><span>Pyatigorsky </span><span>remembers. </span></div>"
      ],
      "text/plain": [
       "<IPython.core.display.HTML object>"
      ]
     },
     "metadata": {},
     "output_type": "display_data"
    },
    {
     "data": {
      "text/html": [
       "<div style=\"padding: 16px;\"><span>As </span><span>Dmitry </span><span>Medvedev </span><span>was </span><span>being </span><span>sworn </span><span>in </span><span>as </span><span>Russia </span><span>’s </span><span>president </span><span>, </span><span>the </span><span>last </span><span>Soviet </span><span>leader </span><span>, </span><span>Mikhail </span><span>Gorbachev </span><span>, </span><span>delivered </span><span>a </span><span key=22 class=\"highlight blue\" depth=0 id=PROP onmouseover=\"handleHighlightMouseOver(this)\"                 onmouseout=\"handleHighlightMouseOut(this)\" labelPosition=\"left\">                <span class=\"highlight__label\"><strong>PROP</strong></span>                <span class=\"highlight__content\"><span>scathing </span> <span>critique </span></span></span><span>of </span><span>recent </span><span>United </span><span>States </span><span>policy </span><span>. </span><span>He </span><span>accused </span><span>the </span><span>U.S. </span><span>of </span><span>trying </span><span>to </span><span>provoke </span><span>a </span><span>new </span><span>Cold </span><span>War </span><span>by </span><span>dismantling </span><span>progress </span><span>with </span><span>RussThe </span><span>1990 </span><span>Nobel </span><span>Peace </span><span>prize </span><span>winner </span><span>denounced </span><span>NATO </span><span>’s </span><span>expansion </span><span>in </span><span>Eastern </span><span>Europe </span><span>as </span><span>an </span><span>attempt </span><span>to </span><span>extend </span><span>the </span><span>U.S. </span><span>sphere </span><span>of </span><span>influence </span><span>into </span><span>Russia </span><span>’s </span><span>backyard </span><span>. </span><span>His </span><span>comments </span><span>mirror </span><span>Kremlin </span><span>opposition </span><span>to </span><span>Georgia </span><span>and </span><span>Ukraine </span><span>joining </span><span>the </span><span>military </span><span>alliance </span><span>. </span><span>Gorbachev </span><span>took </span><span>aim </span><span>at </span><span>the </span><span>planned </span><span>missile </span><span>defence </span><span>shield </span><span>in </span><span>Poland </span><span>and </span><span>the </span><span>Czech </span><span>Republic </span><span>, </span><span>which </span><span>the </span><span>United </span><span>States </span><span>claims </span><span>is </span><span>designed </span><span>to </span><span>counter </span><span>an </span><span>attack </span><span>from </span><span>Iran </span><span>. </span><span>He </span><span>sees </span><span>it </span><span>as </span><span>an </span><span>act </span><span>of </span><span>provocation </span><span>that </span><span>threatens </span><span>to </span><span>sour </span><span>relations </span><span>between </span><span>the </span><span>world </span><span>’s </span><span>two </span><span>largest </span><span>nuclear </span><span>powers </span><span>. </span><span>he </span><span>said </span><span>. </span><span>Gorbachev </span><span>went </span><span>on </span><span>to </span><span>claim </span><span>that </span><span key=148 class=\"highlight blue\" depth=0 id=PROP onmouseover=\"handleHighlightMouseOver(this)\"                 onmouseout=\"handleHighlightMouseOut(this)\" labelPosition=\"left\">                <span class=\"highlight__label\"><strong>PROP</strong></span>                <span class=\"highlight__content\"><span>the </span> <span>real </span> <span>leader </span></span></span><span>of </span><span>the </span><span>United </span><span>States </span><span>was </span><span>its </span><span>military </span><span>- </span><span>industrial </span><span>complex </span><span>, </span><span>hinting </span><span>that </span><span>it </span><span>was </span><span>deliberately </span><span>attempting </span><span>to </span><span>stir </span><span>up </span><span>conflict </span><span>. </span></div>"
      ],
      "text/plain": [
       "<IPython.core.display.HTML object>"
      ]
     },
     "metadata": {},
     "output_type": "display_data"
    },
    {
     "data": {
      "text/html": [
       "<div style=\"padding: 16px;\"><span>The </span><span>Parliamentary </span><span>Assembly </span><span>of </span><span>the </span><span>Council </span><span>of </span><span>Europe </span><span>( </span><span>PACE </span><span>) </span><span>has </span><span>rebuffed </span><span>Ukraine </span><span>’s </span><span>efforts </span><span>to </span><span>have </span><span>the </span><span>famine </span><span>of </span><span>the </span><span>1930s </span><span>recognised </span><span>solely </span><span>as </span><span>a </span><span>tragedy </span><span>of </span><span>the </span><span>Ukrainian </span><span>people </span><span>. </span><span>The </span><span>body </span><span>says </span><span>the </span><span>event </span><span>was </span><span>an </span><span>international </span><span>tragedy </span><span>. </span><span>Moscow </span><span>’s </span><span>representative </span><span>to </span><span>PACE </span><span>has </span><span>reaffirmed </span><span>Russia </span><span>’s </span><span>position </span><span>that </span><span>other </span><span>nations </span><span>were </span><span>affected </span><span>by </span><span>the </span><span>famine. </span><span>Holodomor </span><span>, </span><span>or </span><span>the </span><span>Great </span><span>Famine </span><span>, </span><span>was </span><span>one </span><span>of </span><span>the </span><span>largest </span><span key=73 class=\"highlight blue\" depth=0 id=PROP onmouseover=\"handleHighlightMouseOver(this)\"                 onmouseout=\"handleHighlightMouseOut(this)\" labelPosition=\"left\">                <span class=\"highlight__label\"><strong>PROP</strong></span>                <span class=\"highlight__content\"><span>catastrophes </span></span></span><span>to </span><span>hit </span><span>Ukraine </span><span>during </span><span>the </span><span>Soviet </span><span>era </span><span>. </span><span>Joseph </span><span>Stalin </span><span>'s </span><span>agricultural </span><span>reforms </span><span>affected </span><span>all </span><span>the </span><span>grain </span><span>- </span><span>growing </span><span>regions </span><span>of </span><span>the </span><span>Soviet </span><span>Union </span><span>, </span><span>such </span><span>as </span><span>the </span><span>Urals </span><span>and </span><span>Kazakhstan </span><span>. </span><span>However </span><span>, </span><span>Ukraine </span><span>bore </span><span>the </span><span>heaviest </span><span>toll. </span><span>Ukrainian </span><span>historians </span><span>say </span><span>up </span><span>to </span><span>ten </span><span>million </span><span>people </span><span>died </span><span>during </span><span>the </span><span>famine </span><span>in </span><span>the </span><span>early </span><span>1930s. </span><span>The </span><span>famine </span><span>is </span><span>thought </span></div>"
      ],
      "text/plain": [
       "<IPython.core.display.HTML object>"
      ]
     },
     "metadata": {},
     "output_type": "display_data"
    },
    {
     "data": {
      "text/html": [
       "<div style=\"padding: 16px;\"><span>The </span><span>U.S. </span><span>Supreme </span><span>Court </span><span>has </span><span>refused </span><span>to </span><span>hear </span><span>an </span><span>appeal </span><span>by </span><span key=11 class=\"highlight blue\" depth=0 id=PROP onmouseover=\"handleHighlightMouseOver(this)\"                 onmouseout=\"handleHighlightMouseOut(this)\" labelPosition=\"left\">                <span class=\"highlight__label\"><strong>PROP</strong></span>                <span class=\"highlight__content\"><span>accused </span> <span>Nazi </span> <span>death </span> <span>camp </span> <span>guard </span></span></span><span>John </span><span>Demjanjuk </span><span>, </span><span>who </span><span>’s </span><span>fighting </span><span>his </span><span>deportation </span><span>to </span><span>native </span><span>Ukraine </span><span>, </span><span>reports </span><span>the </span><span>Reuters </span><span>news </span><span>agency </span><span>. </span><span>It </span><span>’s </span><span>the </span><span>latest </span><span>development </span><span>in </span><span>the </span><span>battle </span><span>between </span><span>the </span><span>88-year </span><span>- </span><span>old </span><span>andDemjanjuk </span><span>argued </span><span>that </span><span>the </span><span>U.S. </span><span>chief </span><span>immigration </span><span>judge </span><span>lacked </span><span>authority </span><span>to </span><span>order </span><span>his </span><span>deportation. </span><span>With </span><span>his </span><span>appeal </span><span>rejected </span><span>, </span><span>he </span><span>is </span><span>to </span><span>be </span><span>deported </span><span>to </span><span>either </span><span>Ukraine </span><span>, </span><span>Germany </span><span>or </span><span>Poland. </span><span>Apparently </span><span>no </span><span>country </span><span>is </span><span>willing </span><span>to </span><span>grant </span><span>Demjanjuk </span><span>a </span><span>visa </span><span>or </span><span>prosecute </span><span>him </span><span>for </span><span>war </span><span>crimes </span><span>, </span><span>according </span><span>to </span><span>Jonathan </span><span>Drimmer </span><span>, </span><span>a </span><span>former </span><span>prosecutor </span><span>in </span><span>the </span><span>case. </span><span>Demjanjuk </span><span>immigrated </span><span>to </span><span>the </span><span>U.S. </span><span>in </span><span>1952 </span><span>and </span><span>was </span><span>granted </span><span>citizenship </span><span>six </span><span>years </span><span>later. </span><span>In </span><span>1972 </span><span>he </span><span>was </span><span>stripped </span><span>of </span><span>his </span><span>citizenship </span><span>and </span><span>handed </span><span>over </span><span>to </span><span>Israel </span></div>"
      ],
      "text/plain": [
       "<IPython.core.display.HTML object>"
      ]
     },
     "metadata": {},
     "output_type": "display_data"
    },
    {
     "data": {
      "text/html": [
       "<div style=\"padding: 16px;\"><span>Voters </span><span>in </span><span>the </span><span>Ukrainian </span><span>capital </span><span>of </span><span>Kiev </span><span>appear </span><span>to </span><span>have </span><span>backed </span><span>the </span><span>current </span><span>mayor </span><span>over </span><span>former </span><span>heavyweight </span><span>boxing </span><span>champion </span><span>Vitaly </span><span>Klitschko </span><span>. </span><span>According </span><span>to </span><span>preliminary </span><span>results </span><span>Leonid </span><span>Chernovetsky </span><span>is </span><span>leading </span><span>the </span><span>field </span><span>amid </span><span>a </span><span>huge </span><span>array </span><span>of </span><span>candidates. </span><span>According </span><span>to </span><span>those </span><span>figures </span><span>, </span><span>ex </span><span>- </span><span>boxer </span><span>Klitschko </span><span>would </span><span>finish </span><span>third </span><span>, </span><span>lagging </span><span>behind </span><span>second </span><span>- </span><span>placed </span><span>Aleksandr </span><span>Turchinov </span><span>, </span><span>a </span><span>member </span><span>of </span><span>Ukraine </span><span>Prime </span><span>Minister </span><span>Yulia </span><span>Timoshenko </span><span>’s </span><span>Bloc. </span><span>Seventy </span><span>names </span><span>were </span><span>on </span><span>the </span><span>ballot </span><span>in </span><span>Sunday </span><span>'s </span><span>election. </span><span>The </span><span>election </span><span>was </span><span>sparked </span><span>by </span><span>Timoshenko </span><span>, </span><span>who </span><span>accused </span><span>Chernovetsky </span><span>of </span><span>embezzlement </span><span>and </span><span>illegally </span><span>selling </span><span>land </span><span>in </span><span>the </span><span>capital. </span><span>But </span><span>it </span><span>appears </span><span>that </span><span>Chernovetsky </span><span>has </span><span>been </span><span>again </span><span>won </span><span>the </span><span>support </span><span>of </span><span>voters </span><span>, </span><span>meaning </span><span key=113 class=\"highlight blue\" depth=0 id=PROP onmouseover=\"handleHighlightMouseOver(this)\"                 onmouseout=\"handleHighlightMouseOut(this)\" labelPosition=\"left\">                <span class=\"highlight__label\"><strong>PROP</strong></span>                <span class=\"highlight__content\"><span>a </span> <span>knock </span> <span>- </span> <span>out </span> <span>blow </span> <span>for </span></span></span><span>Klitschko </span><span>. </span><span>The </span><span>retired </span><span>boxer </span></div>"
      ],
      "text/plain": [
       "<IPython.core.display.HTML object>"
      ]
     },
     "metadata": {},
     "output_type": "display_data"
    }
   ],
   "source": [
    "i = 0\n",
    "for t, s in zip(tokens, spans):\n",
    "    if i > 100:\n",
    "        break\n",
    "    if not s:\n",
    "        continue\n",
    "    i += 1\n",
    "    visualization.render(t, [s], task='SI')"
   ]
  }
 ],
 "metadata": {
  "kernelspec": {
   "display_name": "Python 3 (ipykernel)",
   "language": "python",
   "name": "python3"
  },
  "language_info": {
   "codemirror_mode": {
    "name": "ipython",
    "version": 3
   },
   "file_extension": ".py",
   "mimetype": "text/x-python",
   "name": "python",
   "nbconvert_exporter": "python",
   "pygments_lexer": "ipython3",
   "version": "3.7.9"
  }
 },
 "nbformat": 4,
 "nbformat_minor": 1
}